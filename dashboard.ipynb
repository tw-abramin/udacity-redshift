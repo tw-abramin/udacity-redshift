{
 "cells": [
  {
   "cell_type": "code",
   "execution_count": 100,
   "id": "1b3ef802",
   "metadata": {},
   "outputs": [],
   "source": [
    "from chart_studio import plotly\n",
    "import plotly.io as pio\n",
    "import plotly.graph_objs as go\n",
    "import pandas as pd\n",
    "import aws_helper"
   ]
  },
  {
   "cell_type": "code",
   "execution_count": 25,
   "id": "c49b9340",
   "metadata": {},
   "outputs": [],
   "source": [
    "redshift_endpoint = aws_helper.DB_HOST\n",
    "redshift_user = aws_helper.DB_USER\n",
    "redshift_pass = aws_helper.DB_PASSWORD\n",
    "port = int(aws_helper.DB_PORT)\n",
    "dbname = aws_helper.DB"
   ]
  },
  {
   "cell_type": "code",
   "execution_count": 26,
   "id": "d5a97eb8",
   "metadata": {},
   "outputs": [],
   "source": [
    "import psycopg2\n",
    "conn = psycopg2.connect(\n",
    "    host=redshift_endpoint,\n",
    "    user=redshift_user,\n",
    "    port=port,\n",
    "    password=redshift_pass,\n",
    "    dbname=dbname)\n",
    "cur = conn.cursor()"
   ]
  },
  {
   "cell_type": "code",
   "execution_count": 65,
   "id": "8666b9f5",
   "metadata": {},
   "outputs": [
    {
     "data": {
      "text/html": [
       "<div>\n",
       "<style scoped>\n",
       "    .dataframe tbody tr th:only-of-type {\n",
       "        vertical-align: middle;\n",
       "    }\n",
       "\n",
       "    .dataframe tbody tr th {\n",
       "        vertical-align: top;\n",
       "    }\n",
       "\n",
       "    .dataframe thead th {\n",
       "        text-align: right;\n",
       "    }\n",
       "</style>\n",
       "<table border=\"1\" class=\"dataframe\">\n",
       "  <thead>\n",
       "    <tr style=\"text-align: right;\">\n",
       "      <th></th>\n",
       "      <th>location</th>\n",
       "      <th>name</th>\n",
       "      <th>artist_count</th>\n",
       "    </tr>\n",
       "  </thead>\n",
       "  <tbody>\n",
       "    <tr>\n",
       "      <th>0</th>\n",
       "      <td>Lansing-East Lansing, MI</td>\n",
       "      <td>Dwight Yoakam</td>\n",
       "      <td>95</td>\n",
       "    </tr>\n",
       "    <tr>\n",
       "      <th>1</th>\n",
       "      <td>San Francisco-Oakland-Hayward, CA</td>\n",
       "      <td>Dwight Yoakam</td>\n",
       "      <td>76</td>\n",
       "    </tr>\n",
       "    <tr>\n",
       "      <th>2</th>\n",
       "      <td>Lake Havasu City-Kingman, AZ</td>\n",
       "      <td>Dwight Yoakam</td>\n",
       "      <td>57</td>\n",
       "    </tr>\n",
       "    <tr>\n",
       "      <th>3</th>\n",
       "      <td>Atlanta-Sandy Springs-Roswell, GA</td>\n",
       "      <td>Dwight Yoakam</td>\n",
       "      <td>57</td>\n",
       "    </tr>\n",
       "    <tr>\n",
       "      <th>4</th>\n",
       "      <td>Chicago-Naperville-Elgin, IL-IN-WI</td>\n",
       "      <td>Dwight Yoakam</td>\n",
       "      <td>57</td>\n",
       "    </tr>\n",
       "  </tbody>\n",
       "</table>\n",
       "</div>"
      ],
      "text/plain": [
       "                             location           name  artist_count\n",
       "0            Lansing-East Lansing, MI  Dwight Yoakam            95\n",
       "1   San Francisco-Oakland-Hayward, CA  Dwight Yoakam            76\n",
       "2        Lake Havasu City-Kingman, AZ  Dwight Yoakam            57\n",
       "3   Atlanta-Sandy Springs-Roswell, GA  Dwight Yoakam            57\n",
       "4  Chicago-Naperville-Elgin, IL-IN-WI  Dwight Yoakam            57"
      ]
     },
     "execution_count": 65,
     "metadata": {},
     "output_type": "execute_result"
    }
   ],
   "source": [
    "df = pd.read_sql_query(\"\"\"\n",
    "SELECT sp.location, a.name, COUNT(sp.artist_id) as artist_count FROM songplays sp JOIN artists a ON a.artist_id=sp.artist_id GROUP BY sp.location,a.name ORDER BY artist_count DESC;\n",
    "\"\"\", conn)\n",
    "df.head()"
   ]
  },
  {
   "cell_type": "code",
   "execution_count": 66,
   "id": "f55a220b",
   "metadata": {},
   "outputs": [
    {
     "data": {
      "text/html": [
       "<div>\n",
       "<style scoped>\n",
       "    .dataframe tbody tr th:only-of-type {\n",
       "        vertical-align: middle;\n",
       "    }\n",
       "\n",
       "    .dataframe tbody tr th {\n",
       "        vertical-align: top;\n",
       "    }\n",
       "\n",
       "    .dataframe thead th {\n",
       "        text-align: right;\n",
       "    }\n",
       "</style>\n",
       "<table border=\"1\" class=\"dataframe\">\n",
       "  <thead>\n",
       "    <tr style=\"text-align: right;\">\n",
       "      <th></th>\n",
       "      <th>location</th>\n",
       "      <th>name</th>\n",
       "      <th>artist_count</th>\n",
       "      <th>city</th>\n",
       "      <th>state</th>\n",
       "    </tr>\n",
       "  </thead>\n",
       "  <tbody>\n",
       "    <tr>\n",
       "      <th>43</th>\n",
       "      <td>Birmingham-Hoover, AL</td>\n",
       "      <td>Muse</td>\n",
       "      <td>16</td>\n",
       "      <td>Birmingham-Hoover</td>\n",
       "      <td>AL</td>\n",
       "    </tr>\n",
       "    <tr>\n",
       "      <th>23</th>\n",
       "      <td>Birmingham-Hoover, AL</td>\n",
       "      <td>Dwight Yoakam</td>\n",
       "      <td>19</td>\n",
       "      <td>Birmingham-Hoover</td>\n",
       "      <td>AL</td>\n",
       "    </tr>\n",
       "    <tr>\n",
       "      <th>287</th>\n",
       "      <td>Birmingham-Hoover, AL</td>\n",
       "      <td>Celtic Woman</td>\n",
       "      <td>2</td>\n",
       "      <td>Birmingham-Hoover</td>\n",
       "      <td>AL</td>\n",
       "    </tr>\n",
       "    <tr>\n",
       "      <th>402</th>\n",
       "      <td>Birmingham-Hoover, AL</td>\n",
       "      <td>Fukkk Offf</td>\n",
       "      <td>1</td>\n",
       "      <td>Birmingham-Hoover</td>\n",
       "      <td>AL</td>\n",
       "    </tr>\n",
       "    <tr>\n",
       "      <th>214</th>\n",
       "      <td>Birmingham-Hoover, AL</td>\n",
       "      <td>James Taylor</td>\n",
       "      <td>3</td>\n",
       "      <td>Birmingham-Hoover</td>\n",
       "      <td>AL</td>\n",
       "    </tr>\n",
       "  </tbody>\n",
       "</table>\n",
       "</div>"
      ],
      "text/plain": [
       "                  location           name  artist_count               city  \\\n",
       "43   Birmingham-Hoover, AL           Muse            16  Birmingham-Hoover   \n",
       "23   Birmingham-Hoover, AL  Dwight Yoakam            19  Birmingham-Hoover   \n",
       "287  Birmingham-Hoover, AL   Celtic Woman             2  Birmingham-Hoover   \n",
       "402  Birmingham-Hoover, AL     Fukkk Offf             1  Birmingham-Hoover   \n",
       "214  Birmingham-Hoover, AL   James Taylor             3  Birmingham-Hoover   \n",
       "\n",
       "    state  \n",
       "43     AL  \n",
       "23     AL  \n",
       "287    AL  \n",
       "402    AL  \n",
       "214    AL  "
      ]
     },
     "execution_count": 66,
     "metadata": {},
     "output_type": "execute_result"
    }
   ],
   "source": [
    "locations = df['location']\n",
    "df[['city','state']] = df.location.str.split(',', expand=True)\n",
    "df = df.sort_values(by=['state'])\n",
    "df.head()"
   ]
  },
  {
   "cell_type": "code",
   "execution_count": 67,
   "id": "cd713b5f",
   "metadata": {},
   "outputs": [
    {
     "data": {
      "application/vnd.plotly.v1+json": {
       "config": {
        "plotlyServerURL": "https://plot.ly"
       },
       "data": [
        {
         "colorscale": [
          [
           0,
           "rgb(12,51,131)"
          ],
          [
           0.25,
           "rgb(10,136,186)"
          ],
          [
           0.5,
           "rgb(242,211,56)"
          ],
          [
           0.75,
           "rgb(242,143,56)"
          ],
          [
           1,
           "rgb(217,30,30)"
          ]
         ],
         "type": "heatmap",
         "x": [
          " AL",
          " AL",
          " AL",
          " AL",
          " AL",
          " AL",
          " AL",
          " AL",
          " AL",
          " AL",
          " AL",
          " AL",
          " AL",
          " AL",
          " AZ",
          " AZ",
          " AZ",
          " AZ",
          " AZ",
          " AZ",
          " AZ",
          " AZ",
          " AZ",
          " AZ",
          " AZ",
          " AZ",
          " AZ",
          " AZ",
          " AZ",
          " AZ",
          " AZ",
          " AZ",
          " AZ",
          " AZ",
          " AZ",
          " AZ",
          " AZ",
          " AZ",
          " AZ",
          " AZ",
          " AZ",
          " AZ",
          " CA",
          " CA",
          " CA",
          " CA",
          " CA",
          " CA",
          " CA",
          " CA",
          " CA",
          " CA",
          " CA",
          " CA",
          " CA",
          " CA",
          " CA",
          " CA",
          " CA",
          " CA",
          " CA",
          " CA",
          " CA",
          " CA",
          " CA",
          " CA",
          " CA",
          " CA",
          " CA",
          " CA",
          " CA",
          " CA",
          " CA",
          " CA",
          " CA",
          " CA",
          " CA",
          " CA",
          " CA",
          " CA",
          " CA",
          " CA",
          " CA",
          " CA",
          " CA",
          " CA",
          " CA",
          " CA",
          " CA",
          " CA",
          " CA",
          " CA",
          " CA",
          " CA",
          " CA",
          " CA",
          " CA",
          " CA",
          " CA",
          " CA",
          " CA",
          " CA",
          " CA",
          " CA",
          " CA",
          " CA",
          " CA",
          " CA",
          " CA",
          " CA",
          " CA",
          " CA",
          " CA",
          " CA",
          " CA",
          " CA",
          " CA",
          " CA",
          " CA",
          " CA",
          " CA",
          " CA",
          " CA",
          " CA",
          " CA",
          " CA",
          " CA",
          " CA",
          " CA",
          " CA",
          " CA",
          " CA",
          " CA",
          " CA",
          " CA",
          " CA",
          " CA",
          " CA",
          " CA",
          " CA",
          " CA",
          " CA",
          " CA",
          " CA",
          " CA",
          " CA",
          " CA",
          " CA",
          " CA",
          " CA",
          " CA",
          " CA",
          " CA",
          " CT",
          " CT",
          " CT",
          " CT",
          " CT",
          " CT",
          " CT",
          " DC-VA-MD-WV",
          " DC-VA-MD-WV",
          " DC-VA-MD-WV",
          " DC-VA-MD-WV",
          " DC-VA-MD-WV",
          " FL",
          " FL",
          " FL",
          " FL",
          " FL",
          " FL",
          " FL",
          " FL",
          " FL",
          " FL",
          " FL",
          " FL",
          " FL",
          " FL",
          " FL",
          " FL",
          " FL",
          " FL",
          " FL",
          " FL",
          " FL",
          " FL",
          " FL",
          " FL",
          " FL",
          " FL",
          " FL",
          " FL",
          " FL",
          " FL",
          " GA",
          " GA",
          " GA",
          " GA",
          " GA",
          " GA",
          " GA",
          " GA",
          " GA",
          " GA",
          " GA",
          " GA",
          " GA",
          " GA",
          " GA",
          " GA",
          " GA",
          " GA",
          " GA",
          " GA",
          " GA",
          " GA",
          " GA",
          " GA-SC",
          " GA-SC",
          " GA-SC",
          " GA-SC",
          " GA-SC",
          " GA-SC",
          " GA-SC",
          " GA-SC",
          " GA-SC",
          " GA-SC",
          " GA-SC",
          " GA-SC",
          " GA-SC",
          " GA-SC",
          " GA-SC",
          " IA",
          " IA",
          " IA",
          " IA",
          " IA",
          " IA",
          " IA",
          " IA",
          " IA",
          " IA",
          " IA",
          " IA",
          " IA",
          " IA",
          " IA",
          " IA",
          " IA",
          " IA",
          " IA",
          " IA",
          " IA",
          " IA",
          " IA",
          " IA",
          " IA",
          " IA",
          " IA",
          " IA",
          " IA",
          " IL-IN-WI",
          " IL-IN-WI",
          " IL-IN-WI",
          " IL-IN-WI",
          " IL-IN-WI",
          " IL-IN-WI",
          " IL-IN-WI",
          " IL-IN-WI",
          " IL-IN-WI",
          " IL-IN-WI",
          " IL-IN-WI",
          " IL-IN-WI",
          " IL-IN-WI",
          " IL-IN-WI",
          " IL-IN-WI",
          " IL-IN-WI",
          " IL-IN-WI",
          " IL-IN-WI",
          " IN",
          " IN",
          " IN",
          " IN",
          " KY",
          " LA",
          " LA",
          " LA",
          " LA",
          " ME",
          " ME",
          " ME",
          " ME",
          " ME",
          " ME",
          " ME",
          " ME",
          " ME",
          " ME",
          " ME",
          " ME",
          " ME",
          " ME",
          " ME",
          " ME",
          " ME",
          " ME",
          " ME",
          " ME",
          " ME",
          " ME",
          " ME",
          " ME",
          " ME",
          " ME",
          " ME",
          " ME",
          " ME",
          " ME",
          " ME",
          " ME",
          " ME",
          " ME",
          " ME",
          " ME",
          " ME",
          " ME",
          " ME",
          " ME",
          " ME",
          " ME",
          " ME",
          " ME",
          " ME",
          " ME",
          " ME",
          " ME",
          " ME",
          " ME",
          " MI",
          " MI",
          " MI",
          " MI",
          " MI",
          " MI",
          " MI",
          " MI",
          " MI",
          " MI",
          " MI",
          " MI",
          " MI",
          " MI",
          " MI",
          " MI",
          " MI",
          " MI",
          " MI",
          " MI",
          " MI",
          " MI",
          " MI",
          " MI",
          " MI",
          " MI",
          " MI",
          " MI",
          " MI",
          " MI",
          " MI",
          " MI",
          " MI",
          " MI",
          " MI",
          " MI",
          " MI",
          " MI",
          " MI",
          " MI",
          " MN-WI",
          " MO-IL",
          " MO-IL",
          " NC",
          " NC",
          " NC",
          " NC",
          " NC",
          " NC",
          " NC",
          " NC",
          " NC",
          " NC",
          " NC",
          " NC",
          " NC",
          " NC",
          " NC",
          " NM",
          " NY-NJ-PA",
          " NY-NJ-PA",
          " NY-NJ-PA",
          " NY-NJ-PA",
          " NY-NJ-PA",
          " NY-NJ-PA",
          " NY-NJ-PA",
          " NY-NJ-PA",
          " NY-NJ-PA",
          " NY-NJ-PA",
          " NY-NJ-PA",
          " NY-NJ-PA",
          " NY-NJ-PA",
          " NY-NJ-PA",
          " OR",
          " OR",
          " OR",
          " OR",
          " OR",
          " OR-WA",
          " PA",
          " PA",
          " PA",
          " PA",
          " PA-NJ-DE-MD",
          " PA-NJ-DE-MD",
          " PA-NJ-DE-MD",
          " PA-NJ-DE-MD",
          " SC",
          " SC",
          " TN",
          " TN",
          " TX",
          " TX",
          " TX",
          " TX",
          " TX",
          " TX",
          " TX",
          " TX",
          " TX",
          " TX",
          " TX",
          " TX",
          " TX",
          " TX",
          " TX",
          " UT",
          " WA",
          " WI",
          " WI",
          " WI",
          " WI",
          " WI",
          " WI",
          " WI",
          " WI",
          " WI",
          " WI",
          " WI",
          " WI",
          " WI",
          " WI",
          " WI",
          " WI",
          " WI",
          " WI",
          " WI",
          " WI",
          " WI-MI",
          " WI-MI",
          " WI-MI",
          " WI-MI",
          " WI-MI",
          " WI-MI",
          " WI-MI",
          " WI-MI",
          " WI-MI",
          " WI-MI",
          " WI-MI",
          " WI-MN",
          " WI-MN",
          " WI-MN"
         ],
         "y": [
          "Muse",
          "Dwight Yoakam",
          "Celtic Woman",
          "Fukkk Offf",
          "James Taylor",
          "Misfits",
          "Radney Foster",
          "Brand New Disaster",
          "The Misfits",
          "The Format",
          "Junkie XL",
          "Blackfield",
          "Cascada",
          "Redman",
          "Kid Cudi / Kanye West / Common",
          "Nach",
          "Juno Reactor",
          "Cher",
          "Madonna",
          "Andreas Johnson",
          "Faithless",
          "This Beautiful Republic",
          "Dead Kennedys",
          "Collective Soul",
          "D-12",
          "Linkin Park",
          "Yeah Yeah Yeahs",
          "matchbox twenty",
          "The Mars Volta",
          "Lauryn Hill",
          "Old 97's",
          "Robert Plant",
          "Coldplay",
          "Chromeo",
          "Billie The Vision & The Dancers",
          "Biz Markie",
          "Kid Cudi",
          "Dwight Yoakam",
          "Jarabe De Palo",
          "MC Lars",
          "Madeleine Peyroux",
          "The Methadones",
          "Ivy",
          "Kid Cudi / Kanye West / Common",
          "Lupe Fiasco",
          "Lionel Rogg",
          "Augustana",
          "Tenth Avenue North",
          "Tempa T",
          "Kid Cudi",
          "B.o.B",
          "Ulf Wakenius",
          "Screaming Trees",
          "Ron Carter",
          "Godsmack",
          "matchbox twenty",
          "Madonna",
          "Hooligans",
          "Unkle Bob",
          "Blackfield",
          "Me First And The Gimme Gimmes",
          "Tego Calderon",
          "Blackfield",
          "O-Zone",
          "Krisiun",
          "Fisher",
          "Kelly Clarkson",
          "Emiliana Torrini",
          "David Arkenstone",
          "Killswitch Engage",
          "The Human League",
          "Plies",
          "Duncan Dhu",
          "Vangelis",
          "Cocorosie",
          "Madeleine Peyroux",
          "Fisher",
          "O-Zone",
          "The Whitest Boy Alive",
          "Dierks Bentley",
          "New Radicals",
          "Dropkick Murphys",
          "Kid Cudi / Kanye West / Common",
          "Josh Turner",
          "Collective Soul",
          "Marisa Monte",
          "Inimigos Da HP",
          "Thirteen Senses",
          "Of Montreal",
          "Aerosmith",
          "Pennywise",
          "Counting Crows",
          "Hellogoodbye",
          "Kaiser Chiefs",
          "Ashanti",
          "Julia Fordham",
          "Alison Krauss / Union Station",
          "Jack's Mannequin",
          "Sugababes",
          "Beirut",
          "Ben Kweller",
          "Kid Cudi",
          "Arctic Monkeys",
          "Alliance Ethnik",
          "Descendents",
          "The Waterboys",
          "Ours",
          "Passenger 10",
          "Dwight Yoakam",
          "Ashbury Heights",
          "Circle Of Dead Children",
          "Black Eyed Peas",
          "Radiohead",
          "Paramore",
          "Cat Stevens",
          "James Newton Howard",
          "White Lion",
          "Pigeon John",
          "Kanye West",
          "The Robert Cray Band",
          "Nicolai Dunger",
          "Lindisfarne",
          "Tenth Avenue North",
          "Foo Fighters",
          "John Mayer",
          "Lupe Fiasco feat. Matthew Santos",
          "Muse",
          "Bobby Goldsboro",
          "Linkin Park",
          "B.o.B",
          "Taylor Swift",
          "Hot Chip",
          "Black Eyed Peas",
          "The Knux",
          "The Smiths",
          "Incubus",
          "Dwight Yoakam",
          "Tomcraft",
          "Ron Carter",
          "Tenth Avenue North",
          "Van Halen",
          "Lonnie Gordon",
          "Alison Krauss",
          "Mia X",
          "B.o.B",
          "Metallica",
          "Dwight Yoakam",
          "Lonnie Gordon",
          "Donovan",
          "Mad Flava",
          "Jack Johnson",
          "Metallica",
          "Dwight Yoakam",
          "Usher",
          "Third Eye Blind",
          "Dwight Yoakam",
          "Los Rodriguez",
          "Slim Dusty",
          "Thirteen Senses",
          "Third Day",
          "Chromeo",
          "Nach",
          "Biz Markie",
          "Lauryn Hill",
          "Lonnie Gordon",
          "Emmy The Great",
          "Theory Of A Deadman",
          "Alice Cooper",
          "OneRepublic",
          "The Rolling Stones",
          "The Airborne Toxic Event",
          "Stephen Lynch",
          "Porcupine Tree",
          "Dwight Yoakam",
          "Thousand Foot Krutch",
          "Creed",
          "Sounds from the Ground",
          "Jimmy Nail",
          "Huey Lewis & The News",
          "Usher",
          "The Yardbirds",
          "The Methadones",
          "Blackfield",
          "Arctic Monkeys",
          "Dispatch",
          "Fat Freddys Drop",
          "Camera Obscura",
          "Huey Lewis And The News",
          "Redman",
          "B.o.B",
          "Ashanti",
          "Pillar",
          "Bobby McFerrin",
          "Musiq",
          "Angie Stone",
          "matchbox twenty",
          "Muse",
          "J.J. Cale",
          "Chicane",
          "Heart",
          "Alison Krauss / Union Station",
          "Love Is All",
          "Billy Squier",
          "Fergie",
          "The Smiths",
          "The Presets",
          "Godsmack",
          "Goldfrapp",
          "Arctic Monkeys",
          "Rammstein",
          "Alison Krauss",
          "Dwight Yoakam",
          "Binary Star",
          "Limi-T 21",
          "The Human League",
          "Dr. Alban",
          "Alice In Chains",
          "Jack Johnson",
          "Ghostland Observatory",
          "Efecto Mariposa",
          "Counting Crows",
          "Ours",
          "Ben Kweller",
          "Black Eyed Peas",
          "Dwight Yoakam",
          "Boys Like Girls",
          "Luis Miguel",
          "Boys Like Girls featuring Taylor Swift",
          "James Newton Howard",
          "India.Arie",
          "Kate Voegele",
          "Plus One",
          "Julia Fordham",
          "Flobots",
          "Jennifer Lopez",
          "Wyclef Jean",
          "Staind",
          "Stray Cats",
          "Soltero",
          "The Audition",
          "Thirteen Senses",
          "Liquid Tension Experiment",
          "De-Phazz",
          "Stryper",
          "Katy Perry",
          "Blink-182",
          "The Cardigans",
          "Ron Carter",
          "Aerosmith",
          "Me First And The Gimme Gimmes",
          "Enya",
          "Counting Crows",
          "Anberlin",
          "Madeleine Peyroux",
          "Josh Turner",
          "Dwight Yoakam",
          "Hot Chip",
          "Maroon 5",
          "Alicia Keys",
          "Kid Cudi / Kanye West / Common",
          "Kid Cudi",
          "Muse",
          "Lonnie Gordon",
          "Abstract Rude",
          "Anita Ward",
          "Evanescence",
          "B.o.B",
          "Pantera",
          "Blink-182",
          "Pennywise",
          "AFI",
          "Linkin Park",
          "Robert Pollard",
          "Dwight Yoakam",
          "Prohom",
          "Squeeze",
          "Billie The Vision & The Dancers",
          "Elena",
          "Blackfield",
          "Streetlight Manifesto",
          "Los Del Rio",
          "Shakira",
          "Cute Is What We Aim For",
          "Dwight Yoakam",
          "Kenny G",
          "Billy Squier",
          "Neneh Cherry",
          "Dwight Yoakam",
          "Robert Plant",
          "Ron Carter",
          "Pearl Jam",
          "Jimmy Nail",
          "Kid Cudi / Kanye West / Common",
          "B.o.B",
          "Me First And The Gimme Gimmes",
          "Callenish Circle",
          "Biz Markie",
          "No Mercy",
          "Blufeld",
          "Miguel Morales",
          "Nach",
          "Dwight Yoakam",
          "Violet Indiana",
          "Stryper",
          "Sick Of It All",
          "OneRepublic",
          "Jennifer Lopez",
          "Marea",
          "Radiohead",
          "Muse",
          "Taylor Swift",
          "Patricia Barber",
          "Alice In Chains",
          "Usher",
          "Nocturnal Rites",
          "Sparklehorse",
          "D-12",
          "Rilo Kiley",
          "Kid Cudi",
          "Thirteen Senses",
          "Daddy Yankee",
          "Lauryn Hill",
          "Collective Soul",
          "Jack's Mannequin",
          "Kierra Sheard",
          "Wilco",
          "The Human League",
          "Matt Costa",
          "Musiq",
          "The Verve",
          "Chromeo",
          "Macaco",
          "Sleater-kinney",
          "Counting Crows",
          "Chicane",
          "Fisher",
          "Celtic Woman",
          "LCD Soundsystem",
          "You Me At Six",
          "Creedence Clearwater Revived",
          "Duncan Dhu",
          "Ghostland Observatory",
          "Lonnie Gordon",
          "Timbaland & Magoo",
          "Shakira",
          "Steppenwolf",
          "Elisa",
          "Selena",
          "Julie London",
          "Sanctus Real",
          "Andres Calamaro",
          "Foo Fighters",
          "Jim White",
          "Scooter",
          "Coldplay",
          "Fusebox",
          "Ben Kweller",
          "Jack Johnson",
          "The Undertones",
          "The Letter Black",
          "Kenny G",
          "Graham Coxon",
          "Jesper Kyd",
          "ILS",
          "Black Eyed Peas",
          "Adelitas Way",
          "The Smiths",
          "Paramore",
          "Neil Diamond",
          "Dwight Yoakam",
          "Orishas",
          "Craig David",
          "Mac Lethal",
          "Julia Fordham",
          "Usher",
          "The Whitest Boy Alive",
          "Mayer Hawthorne",
          "Ron Carter",
          "Chris Cornell",
          "The Verve",
          "Alicia Keys",
          "Circle Of Dead Children",
          "Kid Cudi / Kanye West / Common",
          "Lonnie Gordon",
          "Sniff 'n' The Tears",
          "Jackson 5",
          "Hoobastank",
          "Dwight Yoakam",
          "Steppenwolf",
          "Aerosmith",
          "Michael Jackson",
          "Me First And The Gimme Gimmes",
          "Britt Nicole",
          "Pigeon John",
          "Kid Cudi",
          "Alice In Chains",
          "Hot Chip",
          "Metallica",
          "matchbox twenty",
          "Goldfrapp",
          "Shakira",
          "Slim Dusty",
          "Kid Cudi",
          "Lonnie Gordon",
          "The Cardigans",
          "Dwight Yoakam",
          "La Fuga",
          "Jagged Edge",
          "Jagged Edge featuring Run of Run DMC",
          "Kid Cudi / Kanye West / Common",
          "Natasha Bedingfield",
          "New Radicals",
          "Kid Cudi",
          "Amy Winehouse",
          "Skillet",
          "Duncan Dhu",
          "Kid Cudi / Kanye West / Common",
          "Linkin Park",
          "Madeleine Peyroux",
          "Alice In Chains",
          "Soziedad Alkoholika",
          "Basshunter",
          "Alicia Keys",
          "Kid Cudi",
          "Kid Cudi / Kanye West / Common",
          "School Of Seven Bells",
          "Radiohead",
          "Escape The Fate",
          "Katrina & The Waves",
          "Black Eyed Peas",
          "Cherise",
          "At Vance",
          "Europe",
          "Ashanti",
          "Billie The Vision & The Dancers",
          "The Rolling Stones",
          "Yellowcard",
          "Dave Hollister",
          "Lonnie Gordon",
          "Steve Miller Band",
          "Dragonforce",
          "Lonnie Gordon",
          "38 Special",
          "Arctic Monkeys",
          "Aphex Twin",
          "Emmy The Great",
          "Abba",
          "David Arkenstone",
          "Kid Cudi / Kanye West / Common",
          "The Methadones",
          "Coldplay",
          "Placebo",
          "Art Pepper",
          "Kid Cudi",
          "Horse Feathers",
          "Steppenwolf",
          "Phil Collins",
          "Insane Clown Posse",
          "Keyshia Cole / T.I. / Missy Elliott / Young Dro",
          "Cascada",
          "Keyshia Cole",
          "Starting Rock Feat. Diva Avari",
          "The Robert Cray Band",
          "Bruna Caram",
          "Ron Carter",
          "Leon Russell",
          "Kenny Garrett",
          "Dash Berlin",
          "Whitesnake",
          "Starting Rock Feat. Diva Avari",
          "12 Stones",
          "Erin Bode",
          "UNKLE",
          "B.o.B",
          "Dwight Yoakam",
          "The Black Keys",
          "Tweet",
          "Silverchair",
          "Timbaland & Magoo",
          "Metallica",
          "Ice Cube"
         ],
         "z": [
          16,
          19,
          2,
          1,
          3,
          1,
          5,
          1,
          1,
          4,
          1,
          1,
          2,
          1,
          5,
          1,
          1,
          2,
          6,
          1,
          2,
          1,
          4,
          2,
          1,
          16,
          4,
          6,
          5,
          2,
          7,
          2,
          21,
          3,
          1,
          1,
          7,
          57,
          2,
          1,
          6,
          1,
          1,
          5,
          5,
          1,
          1,
          1,
          1,
          7,
          7,
          1,
          1,
          6,
          5,
          6,
          6,
          1,
          1,
          1,
          3,
          2,
          1,
          2,
          2,
          3,
          3,
          3,
          2,
          3,
          2,
          3,
          3,
          3,
          2,
          3,
          3,
          2,
          2,
          3,
          2,
          3,
          5,
          4,
          2,
          2,
          1,
          2,
          2,
          5,
          2,
          4,
          2,
          4,
          4,
          2,
          3,
          3,
          2,
          7,
          1,
          7,
          20,
          15,
          1,
          1,
          1,
          1,
          19,
          1,
          1,
          18,
          17,
          12,
          12,
          1,
          1,
          1,
          13,
          1,
          1,
          1,
          1,
          13,
          16,
          1,
          16,
          1,
          16,
          7,
          14,
          9,
          9,
          1,
          7,
          8,
          38,
          1,
          24,
          1,
          8,
          9,
          1,
          1,
          7,
          21,
          38,
          9,
          1,
          1,
          21,
          21,
          76,
          5,
          3,
          38,
          1,
          2,
          2,
          1,
          3,
          1,
          1,
          2,
          9,
          2,
          3,
          2,
          17,
          4,
          2,
          2,
          3,
          38,
          3,
          3,
          1,
          1,
          1,
          10,
          1,
          1,
          1,
          10,
          1,
          1,
          5,
          2,
          1,
          14,
          4,
          1,
          1,
          2,
          1,
          6,
          32,
          1,
          2,
          2,
          3,
          1,
          1,
          4,
          7,
          2,
          5,
          3,
          10,
          8,
          1,
          57,
          4,
          1,
          2,
          2,
          5,
          21,
          3,
          1,
          4,
          1,
          1,
          9,
          19,
          1,
          1,
          1,
          1,
          3,
          3,
          1,
          2,
          2,
          1,
          2,
          2,
          2,
          2,
          2,
          2,
          1,
          2,
          1,
          7,
          4,
          3,
          6,
          5,
          3,
          10,
          4,
          6,
          3,
          4,
          19,
          9,
          3,
          6,
          5,
          7,
          16,
          9,
          1,
          1,
          13,
          7,
          4,
          4,
          2,
          6,
          16,
          1,
          57,
          1,
          1,
          1,
          1,
          1,
          4,
          1,
          10,
          4,
          19,
          1,
          1,
          1,
          19,
          2,
          6,
          6,
          1,
          5,
          7,
          3,
          1,
          1,
          1,
          1,
          1,
          1,
          19,
          1,
          1,
          1,
          17,
          1,
          1,
          17,
          16,
          14,
          1,
          10,
          10,
          1,
          1,
          1,
          7,
          7,
          2,
          3,
          2,
          2,
          3,
          2,
          3,
          2,
          2,
          2,
          2,
          3,
          3,
          2,
          4,
          2,
          3,
          2,
          4,
          3,
          1,
          3,
          3,
          9,
          1,
          10,
          4,
          1,
          4,
          1,
          2,
          5,
          13,
          1,
          3,
          21,
          1,
          1,
          21,
          1,
          1,
          1,
          3,
          1,
          1,
          18,
          1,
          14,
          12,
          1,
          95,
          4,
          2,
          1,
          2,
          5,
          2,
          1,
          6,
          2,
          2,
          6,
          1,
          5,
          9,
          1,
          1,
          6,
          19,
          4,
          5,
          3,
          3,
          2,
          1,
          7,
          5,
          9,
          21,
          6,
          3,
          10,
          2,
          7,
          9,
          3,
          19,
          1,
          1,
          1,
          5,
          1,
          2,
          7,
          13,
          6,
          3,
          5,
          16,
          3,
          5,
          1,
          4,
          6,
          7,
          5,
          2,
          17,
          5,
          2,
          9,
          1,
          1,
          1,
          4,
          1,
          4,
          2,
          1,
          9,
          3,
          4,
          9,
          2,
          10,
          3,
          2,
          2,
          2,
          5,
          1,
          21,
          4,
          1,
          7,
          1,
          4,
          6,
          2,
          1,
          2,
          3,
          1,
          1,
          1,
          6,
          1,
          1,
          1,
          1,
          1,
          3,
          4,
          1,
          7,
          38,
          17,
          2,
          7,
          1,
          21,
          1
         ]
        }
       ],
       "layout": {
        "height": 3600,
        "template": {
         "data": {
          "bar": [
           {
            "error_x": {
             "color": "#2a3f5f"
            },
            "error_y": {
             "color": "#2a3f5f"
            },
            "marker": {
             "line": {
              "color": "#E5ECF6",
              "width": 0.5
             },
             "pattern": {
              "fillmode": "overlay",
              "size": 10,
              "solidity": 0.2
             }
            },
            "type": "bar"
           }
          ],
          "barpolar": [
           {
            "marker": {
             "line": {
              "color": "#E5ECF6",
              "width": 0.5
             },
             "pattern": {
              "fillmode": "overlay",
              "size": 10,
              "solidity": 0.2
             }
            },
            "type": "barpolar"
           }
          ],
          "carpet": [
           {
            "aaxis": {
             "endlinecolor": "#2a3f5f",
             "gridcolor": "white",
             "linecolor": "white",
             "minorgridcolor": "white",
             "startlinecolor": "#2a3f5f"
            },
            "baxis": {
             "endlinecolor": "#2a3f5f",
             "gridcolor": "white",
             "linecolor": "white",
             "minorgridcolor": "white",
             "startlinecolor": "#2a3f5f"
            },
            "type": "carpet"
           }
          ],
          "choropleth": [
           {
            "colorbar": {
             "outlinewidth": 0,
             "ticks": ""
            },
            "type": "choropleth"
           }
          ],
          "contour": [
           {
            "colorbar": {
             "outlinewidth": 0,
             "ticks": ""
            },
            "colorscale": [
             [
              0,
              "#0d0887"
             ],
             [
              0.1111111111111111,
              "#46039f"
             ],
             [
              0.2222222222222222,
              "#7201a8"
             ],
             [
              0.3333333333333333,
              "#9c179e"
             ],
             [
              0.4444444444444444,
              "#bd3786"
             ],
             [
              0.5555555555555556,
              "#d8576b"
             ],
             [
              0.6666666666666666,
              "#ed7953"
             ],
             [
              0.7777777777777778,
              "#fb9f3a"
             ],
             [
              0.8888888888888888,
              "#fdca26"
             ],
             [
              1,
              "#f0f921"
             ]
            ],
            "type": "contour"
           }
          ],
          "contourcarpet": [
           {
            "colorbar": {
             "outlinewidth": 0,
             "ticks": ""
            },
            "type": "contourcarpet"
           }
          ],
          "heatmap": [
           {
            "colorbar": {
             "outlinewidth": 0,
             "ticks": ""
            },
            "colorscale": [
             [
              0,
              "#0d0887"
             ],
             [
              0.1111111111111111,
              "#46039f"
             ],
             [
              0.2222222222222222,
              "#7201a8"
             ],
             [
              0.3333333333333333,
              "#9c179e"
             ],
             [
              0.4444444444444444,
              "#bd3786"
             ],
             [
              0.5555555555555556,
              "#d8576b"
             ],
             [
              0.6666666666666666,
              "#ed7953"
             ],
             [
              0.7777777777777778,
              "#fb9f3a"
             ],
             [
              0.8888888888888888,
              "#fdca26"
             ],
             [
              1,
              "#f0f921"
             ]
            ],
            "type": "heatmap"
           }
          ],
          "heatmapgl": [
           {
            "colorbar": {
             "outlinewidth": 0,
             "ticks": ""
            },
            "colorscale": [
             [
              0,
              "#0d0887"
             ],
             [
              0.1111111111111111,
              "#46039f"
             ],
             [
              0.2222222222222222,
              "#7201a8"
             ],
             [
              0.3333333333333333,
              "#9c179e"
             ],
             [
              0.4444444444444444,
              "#bd3786"
             ],
             [
              0.5555555555555556,
              "#d8576b"
             ],
             [
              0.6666666666666666,
              "#ed7953"
             ],
             [
              0.7777777777777778,
              "#fb9f3a"
             ],
             [
              0.8888888888888888,
              "#fdca26"
             ],
             [
              1,
              "#f0f921"
             ]
            ],
            "type": "heatmapgl"
           }
          ],
          "histogram": [
           {
            "marker": {
             "pattern": {
              "fillmode": "overlay",
              "size": 10,
              "solidity": 0.2
             }
            },
            "type": "histogram"
           }
          ],
          "histogram2d": [
           {
            "colorbar": {
             "outlinewidth": 0,
             "ticks": ""
            },
            "colorscale": [
             [
              0,
              "#0d0887"
             ],
             [
              0.1111111111111111,
              "#46039f"
             ],
             [
              0.2222222222222222,
              "#7201a8"
             ],
             [
              0.3333333333333333,
              "#9c179e"
             ],
             [
              0.4444444444444444,
              "#bd3786"
             ],
             [
              0.5555555555555556,
              "#d8576b"
             ],
             [
              0.6666666666666666,
              "#ed7953"
             ],
             [
              0.7777777777777778,
              "#fb9f3a"
             ],
             [
              0.8888888888888888,
              "#fdca26"
             ],
             [
              1,
              "#f0f921"
             ]
            ],
            "type": "histogram2d"
           }
          ],
          "histogram2dcontour": [
           {
            "colorbar": {
             "outlinewidth": 0,
             "ticks": ""
            },
            "colorscale": [
             [
              0,
              "#0d0887"
             ],
             [
              0.1111111111111111,
              "#46039f"
             ],
             [
              0.2222222222222222,
              "#7201a8"
             ],
             [
              0.3333333333333333,
              "#9c179e"
             ],
             [
              0.4444444444444444,
              "#bd3786"
             ],
             [
              0.5555555555555556,
              "#d8576b"
             ],
             [
              0.6666666666666666,
              "#ed7953"
             ],
             [
              0.7777777777777778,
              "#fb9f3a"
             ],
             [
              0.8888888888888888,
              "#fdca26"
             ],
             [
              1,
              "#f0f921"
             ]
            ],
            "type": "histogram2dcontour"
           }
          ],
          "mesh3d": [
           {
            "colorbar": {
             "outlinewidth": 0,
             "ticks": ""
            },
            "type": "mesh3d"
           }
          ],
          "parcoords": [
           {
            "line": {
             "colorbar": {
              "outlinewidth": 0,
              "ticks": ""
             }
            },
            "type": "parcoords"
           }
          ],
          "pie": [
           {
            "automargin": true,
            "type": "pie"
           }
          ],
          "scatter": [
           {
            "marker": {
             "colorbar": {
              "outlinewidth": 0,
              "ticks": ""
             }
            },
            "type": "scatter"
           }
          ],
          "scatter3d": [
           {
            "line": {
             "colorbar": {
              "outlinewidth": 0,
              "ticks": ""
             }
            },
            "marker": {
             "colorbar": {
              "outlinewidth": 0,
              "ticks": ""
             }
            },
            "type": "scatter3d"
           }
          ],
          "scattercarpet": [
           {
            "marker": {
             "colorbar": {
              "outlinewidth": 0,
              "ticks": ""
             }
            },
            "type": "scattercarpet"
           }
          ],
          "scattergeo": [
           {
            "marker": {
             "colorbar": {
              "outlinewidth": 0,
              "ticks": ""
             }
            },
            "type": "scattergeo"
           }
          ],
          "scattergl": [
           {
            "marker": {
             "colorbar": {
              "outlinewidth": 0,
              "ticks": ""
             }
            },
            "type": "scattergl"
           }
          ],
          "scattermapbox": [
           {
            "marker": {
             "colorbar": {
              "outlinewidth": 0,
              "ticks": ""
             }
            },
            "type": "scattermapbox"
           }
          ],
          "scatterpolar": [
           {
            "marker": {
             "colorbar": {
              "outlinewidth": 0,
              "ticks": ""
             }
            },
            "type": "scatterpolar"
           }
          ],
          "scatterpolargl": [
           {
            "marker": {
             "colorbar": {
              "outlinewidth": 0,
              "ticks": ""
             }
            },
            "type": "scatterpolargl"
           }
          ],
          "scatterternary": [
           {
            "marker": {
             "colorbar": {
              "outlinewidth": 0,
              "ticks": ""
             }
            },
            "type": "scatterternary"
           }
          ],
          "surface": [
           {
            "colorbar": {
             "outlinewidth": 0,
             "ticks": ""
            },
            "colorscale": [
             [
              0,
              "#0d0887"
             ],
             [
              0.1111111111111111,
              "#46039f"
             ],
             [
              0.2222222222222222,
              "#7201a8"
             ],
             [
              0.3333333333333333,
              "#9c179e"
             ],
             [
              0.4444444444444444,
              "#bd3786"
             ],
             [
              0.5555555555555556,
              "#d8576b"
             ],
             [
              0.6666666666666666,
              "#ed7953"
             ],
             [
              0.7777777777777778,
              "#fb9f3a"
             ],
             [
              0.8888888888888888,
              "#fdca26"
             ],
             [
              1,
              "#f0f921"
             ]
            ],
            "type": "surface"
           }
          ],
          "table": [
           {
            "cells": {
             "fill": {
              "color": "#EBF0F8"
             },
             "line": {
              "color": "white"
             }
            },
            "header": {
             "fill": {
              "color": "#C8D4E3"
             },
             "line": {
              "color": "white"
             }
            },
            "type": "table"
           }
          ]
         },
         "layout": {
          "annotationdefaults": {
           "arrowcolor": "#2a3f5f",
           "arrowhead": 0,
           "arrowwidth": 1
          },
          "autotypenumbers": "strict",
          "coloraxis": {
           "colorbar": {
            "outlinewidth": 0,
            "ticks": ""
           }
          },
          "colorscale": {
           "diverging": [
            [
             0,
             "#8e0152"
            ],
            [
             0.1,
             "#c51b7d"
            ],
            [
             0.2,
             "#de77ae"
            ],
            [
             0.3,
             "#f1b6da"
            ],
            [
             0.4,
             "#fde0ef"
            ],
            [
             0.5,
             "#f7f7f7"
            ],
            [
             0.6,
             "#e6f5d0"
            ],
            [
             0.7,
             "#b8e186"
            ],
            [
             0.8,
             "#7fbc41"
            ],
            [
             0.9,
             "#4d9221"
            ],
            [
             1,
             "#276419"
            ]
           ],
           "sequential": [
            [
             0,
             "#0d0887"
            ],
            [
             0.1111111111111111,
             "#46039f"
            ],
            [
             0.2222222222222222,
             "#7201a8"
            ],
            [
             0.3333333333333333,
             "#9c179e"
            ],
            [
             0.4444444444444444,
             "#bd3786"
            ],
            [
             0.5555555555555556,
             "#d8576b"
            ],
            [
             0.6666666666666666,
             "#ed7953"
            ],
            [
             0.7777777777777778,
             "#fb9f3a"
            ],
            [
             0.8888888888888888,
             "#fdca26"
            ],
            [
             1,
             "#f0f921"
            ]
           ],
           "sequentialminus": [
            [
             0,
             "#0d0887"
            ],
            [
             0.1111111111111111,
             "#46039f"
            ],
            [
             0.2222222222222222,
             "#7201a8"
            ],
            [
             0.3333333333333333,
             "#9c179e"
            ],
            [
             0.4444444444444444,
             "#bd3786"
            ],
            [
             0.5555555555555556,
             "#d8576b"
            ],
            [
             0.6666666666666666,
             "#ed7953"
            ],
            [
             0.7777777777777778,
             "#fb9f3a"
            ],
            [
             0.8888888888888888,
             "#fdca26"
            ],
            [
             1,
             "#f0f921"
            ]
           ]
          },
          "colorway": [
           "#636efa",
           "#EF553B",
           "#00cc96",
           "#ab63fa",
           "#FFA15A",
           "#19d3f3",
           "#FF6692",
           "#B6E880",
           "#FF97FF",
           "#FECB52"
          ],
          "font": {
           "color": "#2a3f5f"
          },
          "geo": {
           "bgcolor": "white",
           "lakecolor": "white",
           "landcolor": "#E5ECF6",
           "showlakes": true,
           "showland": true,
           "subunitcolor": "white"
          },
          "hoverlabel": {
           "align": "left"
          },
          "hovermode": "closest",
          "mapbox": {
           "style": "light"
          },
          "paper_bgcolor": "white",
          "plot_bgcolor": "#E5ECF6",
          "polar": {
           "angularaxis": {
            "gridcolor": "white",
            "linecolor": "white",
            "ticks": ""
           },
           "bgcolor": "#E5ECF6",
           "radialaxis": {
            "gridcolor": "white",
            "linecolor": "white",
            "ticks": ""
           }
          },
          "scene": {
           "xaxis": {
            "backgroundcolor": "#E5ECF6",
            "gridcolor": "white",
            "gridwidth": 2,
            "linecolor": "white",
            "showbackground": true,
            "ticks": "",
            "zerolinecolor": "white"
           },
           "yaxis": {
            "backgroundcolor": "#E5ECF6",
            "gridcolor": "white",
            "gridwidth": 2,
            "linecolor": "white",
            "showbackground": true,
            "ticks": "",
            "zerolinecolor": "white"
           },
           "zaxis": {
            "backgroundcolor": "#E5ECF6",
            "gridcolor": "white",
            "gridwidth": 2,
            "linecolor": "white",
            "showbackground": true,
            "ticks": "",
            "zerolinecolor": "white"
           }
          },
          "shapedefaults": {
           "line": {
            "color": "#2a3f5f"
           }
          },
          "ternary": {
           "aaxis": {
            "gridcolor": "white",
            "linecolor": "white",
            "ticks": ""
           },
           "baxis": {
            "gridcolor": "white",
            "linecolor": "white",
            "ticks": ""
           },
           "bgcolor": "#E5ECF6",
           "caxis": {
            "gridcolor": "white",
            "linecolor": "white",
            "ticks": ""
           }
          },
          "title": {
           "x": 0.05
          },
          "xaxis": {
           "automargin": true,
           "gridcolor": "white",
           "linecolor": "white",
           "ticks": "",
           "title": {
            "standoff": 15
           },
           "zerolinecolor": "white",
           "zerolinewidth": 2
          },
          "yaxis": {
           "automargin": true,
           "gridcolor": "white",
           "linecolor": "white",
           "ticks": "",
           "title": {
            "standoff": 15
           },
           "zerolinecolor": "white",
           "zerolinewidth": 2
          }
         }
        },
        "title": {
         "text": "Artist Popularity By State"
        },
        "xaxis": {
         "nticks": 35
        },
        "yaxis": {
         "nticks": 500
        }
       }
      },
      "text/html": [
       "<div>                            <div id=\"934762c5-54a3-4cf6-9ec2-053a821b7f7c\" class=\"plotly-graph-div\" style=\"height:3600px; width:100%;\"></div>            <script type=\"text/javascript\">                require([\"plotly\"], function(Plotly) {                    window.PLOTLYENV=window.PLOTLYENV || {};                                    if (document.getElementById(\"934762c5-54a3-4cf6-9ec2-053a821b7f7c\")) {                    Plotly.newPlot(                        \"934762c5-54a3-4cf6-9ec2-053a821b7f7c\",                        [{\"colorscale\":[[0.0,\"rgb(12,51,131)\"],[0.25,\"rgb(10,136,186)\"],[0.5,\"rgb(242,211,56)\"],[0.75,\"rgb(242,143,56)\"],[1.0,\"rgb(217,30,30)\"]],\"type\":\"heatmap\",\"x\":[\" AL\",\" AL\",\" AL\",\" AL\",\" AL\",\" AL\",\" AL\",\" AL\",\" AL\",\" AL\",\" AL\",\" AL\",\" AL\",\" AL\",\" AZ\",\" AZ\",\" AZ\",\" AZ\",\" AZ\",\" AZ\",\" AZ\",\" AZ\",\" AZ\",\" AZ\",\" AZ\",\" AZ\",\" AZ\",\" AZ\",\" AZ\",\" AZ\",\" AZ\",\" AZ\",\" AZ\",\" AZ\",\" AZ\",\" AZ\",\" AZ\",\" AZ\",\" AZ\",\" AZ\",\" AZ\",\" AZ\",\" CA\",\" CA\",\" CA\",\" CA\",\" CA\",\" CA\",\" CA\",\" CA\",\" CA\",\" CA\",\" CA\",\" CA\",\" CA\",\" CA\",\" CA\",\" CA\",\" CA\",\" CA\",\" CA\",\" CA\",\" CA\",\" CA\",\" CA\",\" CA\",\" CA\",\" CA\",\" CA\",\" CA\",\" CA\",\" CA\",\" CA\",\" CA\",\" CA\",\" CA\",\" CA\",\" CA\",\" CA\",\" CA\",\" CA\",\" CA\",\" CA\",\" CA\",\" CA\",\" CA\",\" CA\",\" CA\",\" CA\",\" CA\",\" CA\",\" CA\",\" CA\",\" CA\",\" CA\",\" CA\",\" CA\",\" CA\",\" CA\",\" CA\",\" CA\",\" CA\",\" CA\",\" CA\",\" CA\",\" CA\",\" CA\",\" CA\",\" CA\",\" CA\",\" CA\",\" CA\",\" CA\",\" CA\",\" CA\",\" CA\",\" CA\",\" CA\",\" CA\",\" CA\",\" CA\",\" CA\",\" CA\",\" CA\",\" CA\",\" CA\",\" CA\",\" CA\",\" CA\",\" CA\",\" CA\",\" CA\",\" CA\",\" CA\",\" CA\",\" CA\",\" CA\",\" CA\",\" CA\",\" CA\",\" CA\",\" CA\",\" CA\",\" CA\",\" CA\",\" CA\",\" CA\",\" CA\",\" CA\",\" CA\",\" CA\",\" CA\",\" CA\",\" CT\",\" CT\",\" CT\",\" CT\",\" CT\",\" CT\",\" CT\",\" DC-VA-MD-WV\",\" DC-VA-MD-WV\",\" DC-VA-MD-WV\",\" DC-VA-MD-WV\",\" DC-VA-MD-WV\",\" FL\",\" FL\",\" FL\",\" FL\",\" FL\",\" FL\",\" FL\",\" FL\",\" FL\",\" FL\",\" FL\",\" FL\",\" FL\",\" FL\",\" FL\",\" FL\",\" FL\",\" FL\",\" FL\",\" FL\",\" FL\",\" FL\",\" FL\",\" FL\",\" FL\",\" FL\",\" FL\",\" FL\",\" FL\",\" FL\",\" GA\",\" GA\",\" GA\",\" GA\",\" GA\",\" GA\",\" GA\",\" GA\",\" GA\",\" GA\",\" GA\",\" GA\",\" GA\",\" GA\",\" GA\",\" GA\",\" GA\",\" GA\",\" GA\",\" GA\",\" GA\",\" GA\",\" GA\",\" GA-SC\",\" GA-SC\",\" GA-SC\",\" GA-SC\",\" GA-SC\",\" GA-SC\",\" GA-SC\",\" GA-SC\",\" GA-SC\",\" GA-SC\",\" GA-SC\",\" GA-SC\",\" GA-SC\",\" GA-SC\",\" GA-SC\",\" IA\",\" IA\",\" IA\",\" IA\",\" IA\",\" IA\",\" IA\",\" IA\",\" IA\",\" IA\",\" IA\",\" IA\",\" IA\",\" IA\",\" IA\",\" IA\",\" IA\",\" IA\",\" IA\",\" IA\",\" IA\",\" IA\",\" IA\",\" IA\",\" IA\",\" IA\",\" IA\",\" IA\",\" IA\",\" IL-IN-WI\",\" IL-IN-WI\",\" IL-IN-WI\",\" IL-IN-WI\",\" IL-IN-WI\",\" IL-IN-WI\",\" IL-IN-WI\",\" IL-IN-WI\",\" IL-IN-WI\",\" IL-IN-WI\",\" IL-IN-WI\",\" IL-IN-WI\",\" IL-IN-WI\",\" IL-IN-WI\",\" IL-IN-WI\",\" IL-IN-WI\",\" IL-IN-WI\",\" IL-IN-WI\",\" IN\",\" IN\",\" IN\",\" IN\",\" KY\",\" LA\",\" LA\",\" LA\",\" LA\",\" ME\",\" ME\",\" ME\",\" ME\",\" ME\",\" ME\",\" ME\",\" ME\",\" ME\",\" ME\",\" ME\",\" ME\",\" ME\",\" ME\",\" ME\",\" ME\",\" ME\",\" ME\",\" ME\",\" ME\",\" ME\",\" ME\",\" ME\",\" ME\",\" ME\",\" ME\",\" ME\",\" ME\",\" ME\",\" ME\",\" ME\",\" ME\",\" ME\",\" ME\",\" ME\",\" ME\",\" ME\",\" ME\",\" ME\",\" ME\",\" ME\",\" ME\",\" ME\",\" ME\",\" ME\",\" ME\",\" ME\",\" ME\",\" ME\",\" ME\",\" MI\",\" MI\",\" MI\",\" MI\",\" MI\",\" MI\",\" MI\",\" MI\",\" MI\",\" MI\",\" MI\",\" MI\",\" MI\",\" MI\",\" MI\",\" MI\",\" MI\",\" MI\",\" MI\",\" MI\",\" MI\",\" MI\",\" MI\",\" MI\",\" MI\",\" MI\",\" MI\",\" MI\",\" MI\",\" MI\",\" MI\",\" MI\",\" MI\",\" MI\",\" MI\",\" MI\",\" MI\",\" MI\",\" MI\",\" MI\",\" MN-WI\",\" MO-IL\",\" MO-IL\",\" NC\",\" NC\",\" NC\",\" NC\",\" NC\",\" NC\",\" NC\",\" NC\",\" NC\",\" NC\",\" NC\",\" NC\",\" NC\",\" NC\",\" NC\",\" NM\",\" NY-NJ-PA\",\" NY-NJ-PA\",\" NY-NJ-PA\",\" NY-NJ-PA\",\" NY-NJ-PA\",\" NY-NJ-PA\",\" NY-NJ-PA\",\" NY-NJ-PA\",\" NY-NJ-PA\",\" NY-NJ-PA\",\" NY-NJ-PA\",\" NY-NJ-PA\",\" NY-NJ-PA\",\" NY-NJ-PA\",\" OR\",\" OR\",\" OR\",\" OR\",\" OR\",\" OR-WA\",\" PA\",\" PA\",\" PA\",\" PA\",\" PA-NJ-DE-MD\",\" PA-NJ-DE-MD\",\" PA-NJ-DE-MD\",\" PA-NJ-DE-MD\",\" SC\",\" SC\",\" TN\",\" TN\",\" TX\",\" TX\",\" TX\",\" TX\",\" TX\",\" TX\",\" TX\",\" TX\",\" TX\",\" TX\",\" TX\",\" TX\",\" TX\",\" TX\",\" TX\",\" UT\",\" WA\",\" WI\",\" WI\",\" WI\",\" WI\",\" WI\",\" WI\",\" WI\",\" WI\",\" WI\",\" WI\",\" WI\",\" WI\",\" WI\",\" WI\",\" WI\",\" WI\",\" WI\",\" WI\",\" WI\",\" WI\",\" WI-MI\",\" WI-MI\",\" WI-MI\",\" WI-MI\",\" WI-MI\",\" WI-MI\",\" WI-MI\",\" WI-MI\",\" WI-MI\",\" WI-MI\",\" WI-MI\",\" WI-MN\",\" WI-MN\",\" WI-MN\"],\"y\":[\"Muse\",\"Dwight Yoakam\",\"Celtic Woman\",\"Fukkk Offf\",\"James Taylor\",\"Misfits\",\"Radney Foster\",\"Brand New Disaster\",\"The Misfits\",\"The Format\",\"Junkie XL\",\"Blackfield\",\"Cascada\",\"Redman\",\"Kid Cudi / Kanye West / Common\",\"Nach\",\"Juno Reactor\",\"Cher\",\"Madonna\",\"Andreas Johnson\",\"Faithless\",\"This Beautiful Republic\",\"Dead Kennedys\",\"Collective Soul\",\"D-12\",\"Linkin Park\",\"Yeah Yeah Yeahs\",\"matchbox twenty\",\"The Mars Volta\",\"Lauryn Hill\",\"Old 97's\",\"Robert Plant\",\"Coldplay\",\"Chromeo\",\"Billie The Vision & The Dancers\",\"Biz Markie\",\"Kid Cudi\",\"Dwight Yoakam\",\"Jarabe De Palo\",\"MC Lars\",\"Madeleine Peyroux\",\"The Methadones\",\"Ivy\",\"Kid Cudi / Kanye West / Common\",\"Lupe Fiasco\",\"Lionel Rogg\",\"Augustana\",\"Tenth Avenue North\",\"Tempa T\",\"Kid Cudi\",\"B.o.B\",\"Ulf Wakenius\",\"Screaming Trees\",\"Ron Carter\",\"Godsmack\",\"matchbox twenty\",\"Madonna\",\"Hooligans\",\"Unkle Bob\",\"Blackfield\",\"Me First And The Gimme Gimmes\",\"Tego Calderon\",\"Blackfield\",\"O-Zone\",\"Krisiun\",\"Fisher\",\"Kelly Clarkson\",\"Emiliana Torrini\",\"David Arkenstone\",\"Killswitch Engage\",\"The Human League\",\"Plies\",\"Duncan Dhu\",\"Vangelis\",\"Cocorosie\",\"Madeleine Peyroux\",\"Fisher\",\"O-Zone\",\"The Whitest Boy Alive\",\"Dierks Bentley\",\"New Radicals\",\"Dropkick Murphys\",\"Kid Cudi / Kanye West / Common\",\"Josh Turner\",\"Collective Soul\",\"Marisa Monte\",\"Inimigos Da HP\",\"Thirteen Senses\",\"Of Montreal\",\"Aerosmith\",\"Pennywise\",\"Counting Crows\",\"Hellogoodbye\",\"Kaiser Chiefs\",\"Ashanti\",\"Julia Fordham\",\"Alison Krauss / Union Station\",\"Jack's Mannequin\",\"Sugababes\",\"Beirut\",\"Ben Kweller\",\"Kid Cudi\",\"Arctic Monkeys\",\"Alliance Ethnik\",\"Descendents\",\"The Waterboys\",\"Ours\",\"Passenger 10\",\"Dwight Yoakam\",\"Ashbury Heights\",\"Circle Of Dead Children\",\"Black Eyed Peas\",\"Radiohead\",\"Paramore\",\"Cat Stevens\",\"James Newton Howard\",\"White Lion\",\"Pigeon John\",\"Kanye West\",\"The Robert Cray Band\",\"Nicolai Dunger\",\"Lindisfarne\",\"Tenth Avenue North\",\"Foo Fighters\",\"John Mayer\",\"Lupe Fiasco feat. Matthew Santos\",\"Muse\",\"Bobby Goldsboro\",\"Linkin Park\",\"B.o.B\",\"Taylor Swift\",\"Hot Chip\",\"Black Eyed Peas\",\"The Knux\",\"The Smiths\",\"Incubus\",\"Dwight Yoakam\",\"Tomcraft\",\"Ron Carter\",\"Tenth Avenue North\",\"Van Halen\",\"Lonnie Gordon\",\"Alison Krauss\",\"Mia X\",\"B.o.B\",\"Metallica\",\"Dwight Yoakam\",\"Lonnie Gordon\",\"Donovan\",\"Mad Flava\",\"Jack Johnson\",\"Metallica\",\"Dwight Yoakam\",\"Usher\",\"Third Eye Blind\",\"Dwight Yoakam\",\"Los Rodriguez\",\"Slim Dusty\",\"Thirteen Senses\",\"Third Day\",\"Chromeo\",\"Nach\",\"Biz Markie\",\"Lauryn Hill\",\"Lonnie Gordon\",\"Emmy The Great\",\"Theory Of A Deadman\",\"Alice Cooper\",\"OneRepublic\",\"The Rolling Stones\",\"The Airborne Toxic Event\",\"Stephen Lynch\",\"Porcupine Tree\",\"Dwight Yoakam\",\"Thousand Foot Krutch\",\"Creed\",\"Sounds from the Ground\",\"Jimmy Nail\",\"Huey Lewis & The News\",\"Usher\",\"The Yardbirds\",\"The Methadones\",\"Blackfield\",\"Arctic Monkeys\",\"Dispatch\",\"Fat Freddys Drop\",\"Camera Obscura\",\"Huey Lewis And The News\",\"Redman\",\"B.o.B\",\"Ashanti\",\"Pillar\",\"Bobby McFerrin\",\"Musiq\",\"Angie Stone\",\"matchbox twenty\",\"Muse\",\"J.J. Cale\",\"Chicane\",\"Heart\",\"Alison Krauss / Union Station\",\"Love Is All\",\"Billy Squier\",\"Fergie\",\"The Smiths\",\"The Presets\",\"Godsmack\",\"Goldfrapp\",\"Arctic Monkeys\",\"Rammstein\",\"Alison Krauss\",\"Dwight Yoakam\",\"Binary Star\",\"Limi-T 21\",\"The Human League\",\"Dr. Alban\",\"Alice In Chains\",\"Jack Johnson\",\"Ghostland Observatory\",\"Efecto Mariposa\",\"Counting Crows\",\"Ours\",\"Ben Kweller\",\"Black Eyed Peas\",\"Dwight Yoakam\",\"Boys Like Girls\",\"Luis Miguel\",\"Boys Like Girls featuring Taylor Swift\",\"James Newton Howard\",\"India.Arie\",\"Kate Voegele\",\"Plus One\",\"Julia Fordham\",\"Flobots\",\"Jennifer Lopez\",\"Wyclef Jean\",\"Staind\",\"Stray Cats\",\"Soltero\",\"The Audition\",\"Thirteen Senses\",\"Liquid Tension Experiment\",\"De-Phazz\",\"Stryper\",\"Katy Perry\",\"Blink-182\",\"The Cardigans\",\"Ron Carter\",\"Aerosmith\",\"Me First And The Gimme Gimmes\",\"Enya\",\"Counting Crows\",\"Anberlin\",\"Madeleine Peyroux\",\"Josh Turner\",\"Dwight Yoakam\",\"Hot Chip\",\"Maroon 5\",\"Alicia Keys\",\"Kid Cudi / Kanye West / Common\",\"Kid Cudi\",\"Muse\",\"Lonnie Gordon\",\"Abstract Rude\",\"Anita Ward\",\"Evanescence\",\"B.o.B\",\"Pantera\",\"Blink-182\",\"Pennywise\",\"AFI\",\"Linkin Park\",\"Robert Pollard\",\"Dwight Yoakam\",\"Prohom\",\"Squeeze\",\"Billie The Vision & The Dancers\",\"Elena\",\"Blackfield\",\"Streetlight Manifesto\",\"Los Del Rio\",\"Shakira\",\"Cute Is What We Aim For\",\"Dwight Yoakam\",\"Kenny G\",\"Billy Squier\",\"Neneh Cherry\",\"Dwight Yoakam\",\"Robert Plant\",\"Ron Carter\",\"Pearl Jam\",\"Jimmy Nail\",\"Kid Cudi / Kanye West / Common\",\"B.o.B\",\"Me First And The Gimme Gimmes\",\"Callenish Circle\",\"Biz Markie\",\"No Mercy\",\"Blufeld\",\"Miguel Morales\",\"Nach\",\"Dwight Yoakam\",\"Violet Indiana\",\"Stryper\",\"Sick Of It All\",\"OneRepublic\",\"Jennifer Lopez\",\"Marea\",\"Radiohead\",\"Muse\",\"Taylor Swift\",\"Patricia Barber\",\"Alice In Chains\",\"Usher\",\"Nocturnal Rites\",\"Sparklehorse\",\"D-12\",\"Rilo Kiley\",\"Kid Cudi\",\"Thirteen Senses\",\"Daddy Yankee\",\"Lauryn Hill\",\"Collective Soul\",\"Jack's Mannequin\",\"Kierra Sheard\",\"Wilco\",\"The Human League\",\"Matt Costa\",\"Musiq\",\"The Verve\",\"Chromeo\",\"Macaco\",\"Sleater-kinney\",\"Counting Crows\",\"Chicane\",\"Fisher\",\"Celtic Woman\",\"LCD Soundsystem\",\"You Me At Six\",\"Creedence Clearwater Revived\",\"Duncan Dhu\",\"Ghostland Observatory\",\"Lonnie Gordon\",\"Timbaland & Magoo\",\"Shakira\",\"Steppenwolf\",\"Elisa\",\"Selena\",\"Julie London\",\"Sanctus Real\",\"Andres Calamaro\",\"Foo Fighters\",\"Jim White\",\"Scooter\",\"Coldplay\",\"Fusebox\",\"Ben Kweller\",\"Jack Johnson\",\"The Undertones\",\"The Letter Black\",\"Kenny G\",\"Graham Coxon\",\"Jesper Kyd\",\"ILS\",\"Black Eyed Peas\",\"Adelitas Way\",\"The Smiths\",\"Paramore\",\"Neil Diamond\",\"Dwight Yoakam\",\"Orishas\",\"Craig David\",\"Mac Lethal\",\"Julia Fordham\",\"Usher\",\"The Whitest Boy Alive\",\"Mayer Hawthorne\",\"Ron Carter\",\"Chris Cornell\",\"The Verve\",\"Alicia Keys\",\"Circle Of Dead Children\",\"Kid Cudi / Kanye West / Common\",\"Lonnie Gordon\",\"Sniff 'n' The Tears\",\"Jackson 5\",\"Hoobastank\",\"Dwight Yoakam\",\"Steppenwolf\",\"Aerosmith\",\"Michael Jackson\",\"Me First And The Gimme Gimmes\",\"Britt Nicole\",\"Pigeon John\",\"Kid Cudi\",\"Alice In Chains\",\"Hot Chip\",\"Metallica\",\"matchbox twenty\",\"Goldfrapp\",\"Shakira\",\"Slim Dusty\",\"Kid Cudi\",\"Lonnie Gordon\",\"The Cardigans\",\"Dwight Yoakam\",\"La Fuga\",\"Jagged Edge\",\"Jagged Edge featuring Run of Run DMC\",\"Kid Cudi / Kanye West / Common\",\"Natasha Bedingfield\",\"New Radicals\",\"Kid Cudi\",\"Amy Winehouse\",\"Skillet\",\"Duncan Dhu\",\"Kid Cudi / Kanye West / Common\",\"Linkin Park\",\"Madeleine Peyroux\",\"Alice In Chains\",\"Soziedad Alkoholika\",\"Basshunter\",\"Alicia Keys\",\"Kid Cudi\",\"Kid Cudi / Kanye West / Common\",\"School Of Seven Bells\",\"Radiohead\",\"Escape The Fate\",\"Katrina & The Waves\",\"Black Eyed Peas\",\"Cherise\",\"At Vance\",\"Europe\",\"Ashanti\",\"Billie The Vision & The Dancers\",\"The Rolling Stones\",\"Yellowcard\",\"Dave Hollister\",\"Lonnie Gordon\",\"Steve Miller Band\",\"Dragonforce\",\"Lonnie Gordon\",\"38 Special\",\"Arctic Monkeys\",\"Aphex Twin\",\"Emmy The Great\",\"Abba\",\"David Arkenstone\",\"Kid Cudi / Kanye West / Common\",\"The Methadones\",\"Coldplay\",\"Placebo\",\"Art Pepper\",\"Kid Cudi\",\"Horse Feathers\",\"Steppenwolf\",\"Phil Collins\",\"Insane Clown Posse\",\"Keyshia Cole / T.I. / Missy Elliott / Young Dro\",\"Cascada\",\"Keyshia Cole\",\"Starting Rock Feat. Diva Avari\",\"The Robert Cray Band\",\"Bruna Caram\",\"Ron Carter\",\"Leon Russell\",\"Kenny Garrett\",\"Dash Berlin\",\"Whitesnake\",\"Starting Rock Feat. Diva Avari\",\"12 Stones\",\"Erin Bode\",\"UNKLE\",\"B.o.B\",\"Dwight Yoakam\",\"The Black Keys\",\"Tweet\",\"Silverchair\",\"Timbaland & Magoo\",\"Metallica\",\"Ice Cube\"],\"z\":[16,19,2,1,3,1,5,1,1,4,1,1,2,1,5,1,1,2,6,1,2,1,4,2,1,16,4,6,5,2,7,2,21,3,1,1,7,57,2,1,6,1,1,5,5,1,1,1,1,7,7,1,1,6,5,6,6,1,1,1,3,2,1,2,2,3,3,3,2,3,2,3,3,3,2,3,3,2,2,3,2,3,5,4,2,2,1,2,2,5,2,4,2,4,4,2,3,3,2,7,1,7,20,15,1,1,1,1,19,1,1,18,17,12,12,1,1,1,13,1,1,1,1,13,16,1,16,1,16,7,14,9,9,1,7,8,38,1,24,1,8,9,1,1,7,21,38,9,1,1,21,21,76,5,3,38,1,2,2,1,3,1,1,2,9,2,3,2,17,4,2,2,3,38,3,3,1,1,1,10,1,1,1,10,1,1,5,2,1,14,4,1,1,2,1,6,32,1,2,2,3,1,1,4,7,2,5,3,10,8,1,57,4,1,2,2,5,21,3,1,4,1,1,9,19,1,1,1,1,3,3,1,2,2,1,2,2,2,2,2,2,1,2,1,7,4,3,6,5,3,10,4,6,3,4,19,9,3,6,5,7,16,9,1,1,13,7,4,4,2,6,16,1,57,1,1,1,1,1,4,1,10,4,19,1,1,1,19,2,6,6,1,5,7,3,1,1,1,1,1,1,19,1,1,1,17,1,1,17,16,14,1,10,10,1,1,1,7,7,2,3,2,2,3,2,3,2,2,2,2,3,3,2,4,2,3,2,4,3,1,3,3,9,1,10,4,1,4,1,2,5,13,1,3,21,1,1,21,1,1,1,3,1,1,18,1,14,12,1,95,4,2,1,2,5,2,1,6,2,2,6,1,5,9,1,1,6,19,4,5,3,3,2,1,7,5,9,21,6,3,10,2,7,9,3,19,1,1,1,5,1,2,7,13,6,3,5,16,3,5,1,4,6,7,5,2,17,5,2,9,1,1,1,4,1,4,2,1,9,3,4,9,2,10,3,2,2,2,5,1,21,4,1,7,1,4,6,2,1,2,3,1,1,1,6,1,1,1,1,1,3,4,1,7,38,17,2,7,1,21,1]}],                        {\"height\":3600,\"template\":{\"data\":{\"bar\":[{\"error_x\":{\"color\":\"#2a3f5f\"},\"error_y\":{\"color\":\"#2a3f5f\"},\"marker\":{\"line\":{\"color\":\"#E5ECF6\",\"width\":0.5},\"pattern\":{\"fillmode\":\"overlay\",\"size\":10,\"solidity\":0.2}},\"type\":\"bar\"}],\"barpolar\":[{\"marker\":{\"line\":{\"color\":\"#E5ECF6\",\"width\":0.5},\"pattern\":{\"fillmode\":\"overlay\",\"size\":10,\"solidity\":0.2}},\"type\":\"barpolar\"}],\"carpet\":[{\"aaxis\":{\"endlinecolor\":\"#2a3f5f\",\"gridcolor\":\"white\",\"linecolor\":\"white\",\"minorgridcolor\":\"white\",\"startlinecolor\":\"#2a3f5f\"},\"baxis\":{\"endlinecolor\":\"#2a3f5f\",\"gridcolor\":\"white\",\"linecolor\":\"white\",\"minorgridcolor\":\"white\",\"startlinecolor\":\"#2a3f5f\"},\"type\":\"carpet\"}],\"choropleth\":[{\"colorbar\":{\"outlinewidth\":0,\"ticks\":\"\"},\"type\":\"choropleth\"}],\"contour\":[{\"colorbar\":{\"outlinewidth\":0,\"ticks\":\"\"},\"colorscale\":[[0.0,\"#0d0887\"],[0.1111111111111111,\"#46039f\"],[0.2222222222222222,\"#7201a8\"],[0.3333333333333333,\"#9c179e\"],[0.4444444444444444,\"#bd3786\"],[0.5555555555555556,\"#d8576b\"],[0.6666666666666666,\"#ed7953\"],[0.7777777777777778,\"#fb9f3a\"],[0.8888888888888888,\"#fdca26\"],[1.0,\"#f0f921\"]],\"type\":\"contour\"}],\"contourcarpet\":[{\"colorbar\":{\"outlinewidth\":0,\"ticks\":\"\"},\"type\":\"contourcarpet\"}],\"heatmap\":[{\"colorbar\":{\"outlinewidth\":0,\"ticks\":\"\"},\"colorscale\":[[0.0,\"#0d0887\"],[0.1111111111111111,\"#46039f\"],[0.2222222222222222,\"#7201a8\"],[0.3333333333333333,\"#9c179e\"],[0.4444444444444444,\"#bd3786\"],[0.5555555555555556,\"#d8576b\"],[0.6666666666666666,\"#ed7953\"],[0.7777777777777778,\"#fb9f3a\"],[0.8888888888888888,\"#fdca26\"],[1.0,\"#f0f921\"]],\"type\":\"heatmap\"}],\"heatmapgl\":[{\"colorbar\":{\"outlinewidth\":0,\"ticks\":\"\"},\"colorscale\":[[0.0,\"#0d0887\"],[0.1111111111111111,\"#46039f\"],[0.2222222222222222,\"#7201a8\"],[0.3333333333333333,\"#9c179e\"],[0.4444444444444444,\"#bd3786\"],[0.5555555555555556,\"#d8576b\"],[0.6666666666666666,\"#ed7953\"],[0.7777777777777778,\"#fb9f3a\"],[0.8888888888888888,\"#fdca26\"],[1.0,\"#f0f921\"]],\"type\":\"heatmapgl\"}],\"histogram\":[{\"marker\":{\"pattern\":{\"fillmode\":\"overlay\",\"size\":10,\"solidity\":0.2}},\"type\":\"histogram\"}],\"histogram2d\":[{\"colorbar\":{\"outlinewidth\":0,\"ticks\":\"\"},\"colorscale\":[[0.0,\"#0d0887\"],[0.1111111111111111,\"#46039f\"],[0.2222222222222222,\"#7201a8\"],[0.3333333333333333,\"#9c179e\"],[0.4444444444444444,\"#bd3786\"],[0.5555555555555556,\"#d8576b\"],[0.6666666666666666,\"#ed7953\"],[0.7777777777777778,\"#fb9f3a\"],[0.8888888888888888,\"#fdca26\"],[1.0,\"#f0f921\"]],\"type\":\"histogram2d\"}],\"histogram2dcontour\":[{\"colorbar\":{\"outlinewidth\":0,\"ticks\":\"\"},\"colorscale\":[[0.0,\"#0d0887\"],[0.1111111111111111,\"#46039f\"],[0.2222222222222222,\"#7201a8\"],[0.3333333333333333,\"#9c179e\"],[0.4444444444444444,\"#bd3786\"],[0.5555555555555556,\"#d8576b\"],[0.6666666666666666,\"#ed7953\"],[0.7777777777777778,\"#fb9f3a\"],[0.8888888888888888,\"#fdca26\"],[1.0,\"#f0f921\"]],\"type\":\"histogram2dcontour\"}],\"mesh3d\":[{\"colorbar\":{\"outlinewidth\":0,\"ticks\":\"\"},\"type\":\"mesh3d\"}],\"parcoords\":[{\"line\":{\"colorbar\":{\"outlinewidth\":0,\"ticks\":\"\"}},\"type\":\"parcoords\"}],\"pie\":[{\"automargin\":true,\"type\":\"pie\"}],\"scatter\":[{\"marker\":{\"colorbar\":{\"outlinewidth\":0,\"ticks\":\"\"}},\"type\":\"scatter\"}],\"scatter3d\":[{\"line\":{\"colorbar\":{\"outlinewidth\":0,\"ticks\":\"\"}},\"marker\":{\"colorbar\":{\"outlinewidth\":0,\"ticks\":\"\"}},\"type\":\"scatter3d\"}],\"scattercarpet\":[{\"marker\":{\"colorbar\":{\"outlinewidth\":0,\"ticks\":\"\"}},\"type\":\"scattercarpet\"}],\"scattergeo\":[{\"marker\":{\"colorbar\":{\"outlinewidth\":0,\"ticks\":\"\"}},\"type\":\"scattergeo\"}],\"scattergl\":[{\"marker\":{\"colorbar\":{\"outlinewidth\":0,\"ticks\":\"\"}},\"type\":\"scattergl\"}],\"scattermapbox\":[{\"marker\":{\"colorbar\":{\"outlinewidth\":0,\"ticks\":\"\"}},\"type\":\"scattermapbox\"}],\"scatterpolar\":[{\"marker\":{\"colorbar\":{\"outlinewidth\":0,\"ticks\":\"\"}},\"type\":\"scatterpolar\"}],\"scatterpolargl\":[{\"marker\":{\"colorbar\":{\"outlinewidth\":0,\"ticks\":\"\"}},\"type\":\"scatterpolargl\"}],\"scatterternary\":[{\"marker\":{\"colorbar\":{\"outlinewidth\":0,\"ticks\":\"\"}},\"type\":\"scatterternary\"}],\"surface\":[{\"colorbar\":{\"outlinewidth\":0,\"ticks\":\"\"},\"colorscale\":[[0.0,\"#0d0887\"],[0.1111111111111111,\"#46039f\"],[0.2222222222222222,\"#7201a8\"],[0.3333333333333333,\"#9c179e\"],[0.4444444444444444,\"#bd3786\"],[0.5555555555555556,\"#d8576b\"],[0.6666666666666666,\"#ed7953\"],[0.7777777777777778,\"#fb9f3a\"],[0.8888888888888888,\"#fdca26\"],[1.0,\"#f0f921\"]],\"type\":\"surface\"}],\"table\":[{\"cells\":{\"fill\":{\"color\":\"#EBF0F8\"},\"line\":{\"color\":\"white\"}},\"header\":{\"fill\":{\"color\":\"#C8D4E3\"},\"line\":{\"color\":\"white\"}},\"type\":\"table\"}]},\"layout\":{\"annotationdefaults\":{\"arrowcolor\":\"#2a3f5f\",\"arrowhead\":0,\"arrowwidth\":1},\"autotypenumbers\":\"strict\",\"coloraxis\":{\"colorbar\":{\"outlinewidth\":0,\"ticks\":\"\"}},\"colorscale\":{\"diverging\":[[0,\"#8e0152\"],[0.1,\"#c51b7d\"],[0.2,\"#de77ae\"],[0.3,\"#f1b6da\"],[0.4,\"#fde0ef\"],[0.5,\"#f7f7f7\"],[0.6,\"#e6f5d0\"],[0.7,\"#b8e186\"],[0.8,\"#7fbc41\"],[0.9,\"#4d9221\"],[1,\"#276419\"]],\"sequential\":[[0.0,\"#0d0887\"],[0.1111111111111111,\"#46039f\"],[0.2222222222222222,\"#7201a8\"],[0.3333333333333333,\"#9c179e\"],[0.4444444444444444,\"#bd3786\"],[0.5555555555555556,\"#d8576b\"],[0.6666666666666666,\"#ed7953\"],[0.7777777777777778,\"#fb9f3a\"],[0.8888888888888888,\"#fdca26\"],[1.0,\"#f0f921\"]],\"sequentialminus\":[[0.0,\"#0d0887\"],[0.1111111111111111,\"#46039f\"],[0.2222222222222222,\"#7201a8\"],[0.3333333333333333,\"#9c179e\"],[0.4444444444444444,\"#bd3786\"],[0.5555555555555556,\"#d8576b\"],[0.6666666666666666,\"#ed7953\"],[0.7777777777777778,\"#fb9f3a\"],[0.8888888888888888,\"#fdca26\"],[1.0,\"#f0f921\"]]},\"colorway\":[\"#636efa\",\"#EF553B\",\"#00cc96\",\"#ab63fa\",\"#FFA15A\",\"#19d3f3\",\"#FF6692\",\"#B6E880\",\"#FF97FF\",\"#FECB52\"],\"font\":{\"color\":\"#2a3f5f\"},\"geo\":{\"bgcolor\":\"white\",\"lakecolor\":\"white\",\"landcolor\":\"#E5ECF6\",\"showlakes\":true,\"showland\":true,\"subunitcolor\":\"white\"},\"hoverlabel\":{\"align\":\"left\"},\"hovermode\":\"closest\",\"mapbox\":{\"style\":\"light\"},\"paper_bgcolor\":\"white\",\"plot_bgcolor\":\"#E5ECF6\",\"polar\":{\"angularaxis\":{\"gridcolor\":\"white\",\"linecolor\":\"white\",\"ticks\":\"\"},\"bgcolor\":\"#E5ECF6\",\"radialaxis\":{\"gridcolor\":\"white\",\"linecolor\":\"white\",\"ticks\":\"\"}},\"scene\":{\"xaxis\":{\"backgroundcolor\":\"#E5ECF6\",\"gridcolor\":\"white\",\"gridwidth\":2,\"linecolor\":\"white\",\"showbackground\":true,\"ticks\":\"\",\"zerolinecolor\":\"white\"},\"yaxis\":{\"backgroundcolor\":\"#E5ECF6\",\"gridcolor\":\"white\",\"gridwidth\":2,\"linecolor\":\"white\",\"showbackground\":true,\"ticks\":\"\",\"zerolinecolor\":\"white\"},\"zaxis\":{\"backgroundcolor\":\"#E5ECF6\",\"gridcolor\":\"white\",\"gridwidth\":2,\"linecolor\":\"white\",\"showbackground\":true,\"ticks\":\"\",\"zerolinecolor\":\"white\"}},\"shapedefaults\":{\"line\":{\"color\":\"#2a3f5f\"}},\"ternary\":{\"aaxis\":{\"gridcolor\":\"white\",\"linecolor\":\"white\",\"ticks\":\"\"},\"baxis\":{\"gridcolor\":\"white\",\"linecolor\":\"white\",\"ticks\":\"\"},\"bgcolor\":\"#E5ECF6\",\"caxis\":{\"gridcolor\":\"white\",\"linecolor\":\"white\",\"ticks\":\"\"}},\"title\":{\"x\":0.05},\"xaxis\":{\"automargin\":true,\"gridcolor\":\"white\",\"linecolor\":\"white\",\"ticks\":\"\",\"title\":{\"standoff\":15},\"zerolinecolor\":\"white\",\"zerolinewidth\":2},\"yaxis\":{\"automargin\":true,\"gridcolor\":\"white\",\"linecolor\":\"white\",\"ticks\":\"\",\"title\":{\"standoff\":15},\"zerolinecolor\":\"white\",\"zerolinewidth\":2}}},\"title\":{\"text\":\"Artist Popularity By State\"},\"xaxis\":{\"nticks\":35},\"yaxis\":{\"nticks\":500}},                        {\"responsive\": true}                    ).then(function(){\n",
       "                            \n",
       "var gd = document.getElementById('934762c5-54a3-4cf6-9ec2-053a821b7f7c');\n",
       "var x = new MutationObserver(function (mutations, observer) {{\n",
       "        var display = window.getComputedStyle(gd).display;\n",
       "        if (!display || display === 'none') {{\n",
       "            console.log([gd, 'removed!']);\n",
       "            Plotly.purge(gd);\n",
       "            observer.disconnect();\n",
       "        }}\n",
       "}});\n",
       "\n",
       "// Listen for the removal of the full notebook cells\n",
       "var notebookContainer = gd.closest('#notebook-container');\n",
       "if (notebookContainer) {{\n",
       "    x.observe(notebookContainer, {childList: true});\n",
       "}}\n",
       "\n",
       "// Listen for the clearing of the current output cell\n",
       "var outputEl = gd.closest('.output');\n",
       "if (outputEl) {{\n",
       "    x.observe(outputEl, {childList: true});\n",
       "}}\n",
       "\n",
       "                        })                };                });            </script>        </div>"
      ]
     },
     "metadata": {},
     "output_type": "display_data"
    }
   ],
   "source": [
    "# Adapted from https://plotly.com/python/v3/amazon-redshift/\n",
    "\n",
    "fig = go.Figure(data=go.Heatmap(\n",
    "        z=df['artist_count'],\n",
    "        x=df['state'],\n",
    "        y=df['name'],\n",
    "        colorscale='Portland'))\n",
    "\n",
    "fig.update_layout(\n",
    "    title='Artist Popularity By State',\n",
    "    xaxis_nticks=35, yaxis_nticks=500, height=3600)\n",
    "\n",
    "fig.show()"
   ]
  },
  {
   "cell_type": "code",
   "execution_count": 68,
   "id": "79f75c57",
   "metadata": {
    "scrolled": true
   },
   "outputs": [
    {
     "data": {
      "application/vnd.plotly.v1+json": {
       "config": {
        "plotlyServerURL": "https://plot.ly"
       },
       "data": [
        {
         "colorscale": [
          [
           0,
           "rgb(12,51,131)"
          ],
          [
           0.25,
           "rgb(10,136,186)"
          ],
          [
           0.5,
           "rgb(242,211,56)"
          ],
          [
           0.75,
           "rgb(242,143,56)"
          ],
          [
           1,
           "rgb(217,30,30)"
          ]
         ],
         "type": "heatmap",
         "x": [
          " AL",
          " AL",
          " AL",
          " AL",
          " AL",
          " AL",
          " AL",
          " AL",
          " AL",
          " AL",
          " AL",
          " AL",
          " AZ",
          " AZ",
          " AZ",
          " AZ",
          " AZ",
          " AZ",
          " AZ",
          " AZ",
          " AZ",
          " AZ",
          " AZ",
          " AZ",
          " AZ",
          " AZ",
          " AZ",
          " AZ",
          " AZ",
          " AZ",
          " AZ",
          " AZ",
          " AZ",
          " AZ",
          " AZ",
          " AZ",
          " AZ",
          " CA",
          " CA",
          " CA",
          " CA",
          " CA",
          " CA",
          " CA",
          " CA",
          " CA",
          " CA",
          " CA",
          " CA",
          " CA",
          " CA",
          " CA",
          " CA",
          " CA",
          " CA",
          " CA",
          " CA",
          " CA",
          " CA",
          " CA",
          " CA",
          " CA",
          " CA",
          " CA",
          " CA",
          " CA",
          " CA",
          " CA",
          " CA",
          " CA",
          " CA",
          " CA",
          " CA",
          " CA",
          " CA",
          " CA",
          " CA",
          " CA",
          " CA",
          " CA",
          " CA",
          " CA",
          " CA",
          " CA",
          " CA",
          " CA",
          " CA",
          " CA",
          " CA",
          " CA",
          " CA",
          " CA",
          " CA",
          " CA",
          " CA",
          " CA",
          " CA",
          " CA",
          " CA",
          " CA",
          " CA",
          " CA",
          " CA",
          " CA",
          " CA",
          " CA",
          " CA",
          " CA",
          " CA",
          " CA",
          " CA",
          " CA",
          " CA",
          " CA",
          " CA",
          " CA",
          " CA",
          " CA",
          " CA",
          " CA",
          " CA",
          " CA",
          " CA",
          " CA",
          " CA",
          " CA",
          " CA",
          " CA",
          " CA",
          " CA",
          " CA",
          " CA",
          " CA",
          " CA",
          " CT",
          " CT",
          " CT",
          " CT",
          " CT",
          " CT",
          " DC-VA-MD-WV",
          " DC-VA-MD-WV",
          " DC-VA-MD-WV",
          " DC-VA-MD-WV",
          " DC-VA-MD-WV",
          " FL",
          " FL",
          " FL",
          " FL",
          " FL",
          " FL",
          " FL",
          " FL",
          " FL",
          " FL",
          " FL",
          " FL",
          " FL",
          " FL",
          " FL",
          " FL",
          " FL",
          " FL",
          " FL",
          " FL",
          " FL",
          " FL",
          " FL",
          " FL",
          " FL",
          " FL",
          " FL",
          " FL",
          " GA",
          " GA",
          " GA",
          " GA",
          " GA",
          " GA",
          " GA",
          " GA",
          " GA",
          " GA",
          " GA",
          " GA",
          " GA",
          " GA",
          " GA",
          " GA",
          " GA",
          " GA",
          " GA",
          " GA",
          " GA-SC",
          " GA-SC",
          " GA-SC",
          " GA-SC",
          " GA-SC",
          " GA-SC",
          " GA-SC",
          " GA-SC",
          " GA-SC",
          " GA-SC",
          " GA-SC",
          " GA-SC",
          " GA-SC",
          " GA-SC",
          " IA",
          " IA",
          " IA",
          " IA",
          " IA",
          " IA",
          " IA",
          " IA",
          " IA",
          " IA",
          " IA",
          " IA",
          " IA",
          " IA",
          " IA",
          " IA",
          " IA",
          " IA",
          " IA",
          " IA",
          " IA",
          " IA",
          " IA",
          " IA",
          " IA",
          " IA",
          " IA",
          " IL-IN-WI",
          " IL-IN-WI",
          " IL-IN-WI",
          " IL-IN-WI",
          " IL-IN-WI",
          " IL-IN-WI",
          " IL-IN-WI",
          " IL-IN-WI",
          " IL-IN-WI",
          " IL-IN-WI",
          " IL-IN-WI",
          " IL-IN-WI",
          " IL-IN-WI",
          " IL-IN-WI",
          " IL-IN-WI",
          " IL-IN-WI",
          " IN",
          " IN",
          " IN",
          " KY",
          " LA",
          " LA",
          " LA",
          " ME",
          " ME",
          " ME",
          " ME",
          " ME",
          " ME",
          " ME",
          " ME",
          " ME",
          " ME",
          " ME",
          " ME",
          " ME",
          " ME",
          " ME",
          " ME",
          " ME",
          " ME",
          " ME",
          " ME",
          " ME",
          " ME",
          " ME",
          " ME",
          " ME",
          " ME",
          " ME",
          " ME",
          " ME",
          " ME",
          " ME",
          " ME",
          " ME",
          " ME",
          " ME",
          " ME",
          " ME",
          " ME",
          " ME",
          " ME",
          " ME",
          " ME",
          " ME",
          " ME",
          " ME",
          " ME",
          " MI",
          " MI",
          " MI",
          " MI",
          " MI",
          " MI",
          " MI",
          " MI",
          " MI",
          " MI",
          " MI",
          " MI",
          " MI",
          " MI",
          " MI",
          " MI",
          " MI",
          " MI",
          " MI",
          " MI",
          " MI",
          " MI",
          " MI",
          " MI",
          " MI",
          " MI",
          " MI",
          " MI",
          " MI",
          " MI",
          " MI",
          " MI",
          " MI",
          " MI",
          " MI",
          " MI",
          " MN-WI",
          " MO-IL",
          " MO-IL",
          " NC",
          " NC",
          " NC",
          " NC",
          " NC",
          " NC",
          " NC",
          " NC",
          " NC",
          " NC",
          " NC",
          " NC",
          " NC",
          " NC",
          " NY-NJ-PA",
          " NY-NJ-PA",
          " NY-NJ-PA",
          " NY-NJ-PA",
          " NY-NJ-PA",
          " NY-NJ-PA",
          " NY-NJ-PA",
          " NY-NJ-PA",
          " NY-NJ-PA",
          " NY-NJ-PA",
          " NY-NJ-PA",
          " NY-NJ-PA",
          " NY-NJ-PA",
          " OR",
          " OR",
          " OR",
          " OR",
          " OR",
          " PA",
          " PA",
          " PA",
          " PA",
          " PA-NJ-DE-MD",
          " PA-NJ-DE-MD",
          " PA-NJ-DE-MD",
          " PA-NJ-DE-MD",
          " SC",
          " TN",
          " TN",
          " TX",
          " TX",
          " TX",
          " TX",
          " TX",
          " TX",
          " TX",
          " TX",
          " TX",
          " TX",
          " TX",
          " TX",
          " TX",
          " TX",
          " TX",
          " UT",
          " WA",
          " WI",
          " WI",
          " WI",
          " WI",
          " WI",
          " WI",
          " WI",
          " WI",
          " WI",
          " WI",
          " WI",
          " WI",
          " WI",
          " WI",
          " WI",
          " WI",
          " WI",
          " WI",
          " WI",
          " WI-MI",
          " WI-MI",
          " WI-MI",
          " WI-MI",
          " WI-MI",
          " WI-MI",
          " WI-MI",
          " WI-MI",
          " WI-MI",
          " WI-MN",
          " WI-MN"
         ],
         "y": [
          "Celtic Woman",
          "Fukkk Offf",
          "James Taylor",
          "Misfits",
          "Radney Foster",
          "Brand New Disaster",
          "The Misfits",
          "The Format",
          "Junkie XL",
          "Blackfield",
          "Cascada",
          "Redman",
          "Kid Cudi / Kanye West / Common",
          "Nach",
          "Juno Reactor",
          "Cher",
          "Madonna",
          "Andreas Johnson",
          "Faithless",
          "This Beautiful Republic",
          "Dead Kennedys",
          "Collective Soul",
          "D-12",
          "Yeah Yeah Yeahs",
          "matchbox twenty",
          "The Mars Volta",
          "Lauryn Hill",
          "Old 97's",
          "Robert Plant",
          "Chromeo",
          "Billie The Vision & The Dancers",
          "Biz Markie",
          "Kid Cudi",
          "Jarabe De Palo",
          "MC Lars",
          "Madeleine Peyroux",
          "The Methadones",
          "Ivy",
          "Kid Cudi / Kanye West / Common",
          "Lupe Fiasco",
          "Lionel Rogg",
          "Augustana",
          "Tenth Avenue North",
          "Tempa T",
          "Kid Cudi",
          "B.o.B",
          "Ulf Wakenius",
          "Screaming Trees",
          "Ron Carter",
          "Godsmack",
          "matchbox twenty",
          "Madonna",
          "Hooligans",
          "Unkle Bob",
          "Blackfield",
          "Me First And The Gimme Gimmes",
          "Tego Calderon",
          "Blackfield",
          "O-Zone",
          "Krisiun",
          "Fisher",
          "Kelly Clarkson",
          "Emiliana Torrini",
          "David Arkenstone",
          "Killswitch Engage",
          "The Human League",
          "Plies",
          "Duncan Dhu",
          "Vangelis",
          "Cocorosie",
          "Madeleine Peyroux",
          "Fisher",
          "O-Zone",
          "The Whitest Boy Alive",
          "Dierks Bentley",
          "New Radicals",
          "Dropkick Murphys",
          "Kid Cudi / Kanye West / Common",
          "Josh Turner",
          "Collective Soul",
          "Marisa Monte",
          "Inimigos Da HP",
          "Thirteen Senses",
          "Of Montreal",
          "Aerosmith",
          "Pennywise",
          "Counting Crows",
          "Hellogoodbye",
          "Kaiser Chiefs",
          "Ashanti",
          "Julia Fordham",
          "Alison Krauss / Union Station",
          "Jack's Mannequin",
          "Sugababes",
          "Beirut",
          "Ben Kweller",
          "Kid Cudi",
          "Alliance Ethnik",
          "Descendents",
          "The Waterboys",
          "Ours",
          "Passenger 10",
          "Ashbury Heights",
          "Circle Of Dead Children",
          "Paramore",
          "Cat Stevens",
          "James Newton Howard",
          "White Lion",
          "Pigeon John",
          "Kanye West",
          "The Robert Cray Band",
          "Nicolai Dunger",
          "Lindisfarne",
          "Tenth Avenue North",
          "Foo Fighters",
          "Lupe Fiasco feat. Matthew Santos",
          "Bobby Goldsboro",
          "B.o.B",
          "Taylor Swift",
          "Hot Chip",
          "Black Eyed Peas",
          "The Knux",
          "The Smiths",
          "Incubus",
          "Tomcraft",
          "Tenth Avenue North",
          "Van Halen",
          "Lonnie Gordon",
          "Alison Krauss",
          "Mia X",
          "B.o.B",
          "Lonnie Gordon",
          "Donovan",
          "Mad Flava",
          "Usher",
          "Third Eye Blind",
          "Los Rodriguez",
          "Slim Dusty",
          "Thirteen Senses",
          "Third Day",
          "Chromeo",
          "Nach",
          "Biz Markie",
          "Lauryn Hill",
          "Lonnie Gordon",
          "Emmy The Great",
          "Theory Of A Deadman",
          "Alice Cooper",
          "The Rolling Stones",
          "The Airborne Toxic Event",
          "Stephen Lynch",
          "Porcupine Tree",
          "Thousand Foot Krutch",
          "Creed",
          "Sounds from the Ground",
          "Jimmy Nail",
          "Huey Lewis & The News",
          "Usher",
          "The Yardbirds",
          "The Methadones",
          "Blackfield",
          "Arctic Monkeys",
          "Dispatch",
          "Fat Freddys Drop",
          "Camera Obscura",
          "Huey Lewis And The News",
          "Redman",
          "B.o.B",
          "Ashanti",
          "Pillar",
          "Bobby McFerrin",
          "Musiq",
          "Angie Stone",
          "matchbox twenty",
          "J.J. Cale",
          "Chicane",
          "Heart",
          "Alison Krauss / Union Station",
          "Love Is All",
          "Billy Squier",
          "Fergie",
          "The Smiths",
          "The Presets",
          "Godsmack",
          "Goldfrapp",
          "Arctic Monkeys",
          "Rammstein",
          "Alison Krauss",
          "Binary Star",
          "Limi-T 21",
          "The Human League",
          "Dr. Alban",
          "Alice In Chains",
          "Ghostland Observatory",
          "Efecto Mariposa",
          "Counting Crows",
          "Ours",
          "Ben Kweller",
          "Black Eyed Peas",
          "Boys Like Girls",
          "Luis Miguel",
          "Boys Like Girls featuring Taylor Swift",
          "James Newton Howard",
          "India.Arie",
          "Kate Voegele",
          "Plus One",
          "Julia Fordham",
          "Flobots",
          "Jennifer Lopez",
          "Wyclef Jean",
          "Staind",
          "Stray Cats",
          "Soltero",
          "The Audition",
          "Thirteen Senses",
          "Liquid Tension Experiment",
          "De-Phazz",
          "Stryper",
          "Katy Perry",
          "Blink-182",
          "The Cardigans",
          "Ron Carter",
          "Aerosmith",
          "Me First And The Gimme Gimmes",
          "Enya",
          "Counting Crows",
          "Anberlin",
          "Madeleine Peyroux",
          "Josh Turner",
          "Hot Chip",
          "Maroon 5",
          "Alicia Keys",
          "Kid Cudi / Kanye West / Common",
          "Kid Cudi",
          "Lonnie Gordon",
          "Abstract Rude",
          "Anita Ward",
          "Evanescence",
          "B.o.B",
          "Pantera",
          "Blink-182",
          "Pennywise",
          "AFI",
          "Robert Pollard",
          "Prohom",
          "Squeeze",
          "Billie The Vision & The Dancers",
          "Elena",
          "Blackfield",
          "Streetlight Manifesto",
          "Los Del Rio",
          "Shakira",
          "Cute Is What We Aim For",
          "Kenny G",
          "Billy Squier",
          "Neneh Cherry",
          "Robert Plant",
          "Ron Carter",
          "Pearl Jam",
          "Jimmy Nail",
          "Kid Cudi / Kanye West / Common",
          "B.o.B",
          "Me First And The Gimme Gimmes",
          "Callenish Circle",
          "Biz Markie",
          "No Mercy",
          "Blufeld",
          "Miguel Morales",
          "Nach",
          "Violet Indiana",
          "Stryper",
          "Sick Of It All",
          "Jennifer Lopez",
          "Marea",
          "Taylor Swift",
          "Patricia Barber",
          "Alice In Chains",
          "Usher",
          "Nocturnal Rites",
          "Sparklehorse",
          "D-12",
          "Rilo Kiley",
          "Kid Cudi",
          "Thirteen Senses",
          "Daddy Yankee",
          "Lauryn Hill",
          "Collective Soul",
          "Jack's Mannequin",
          "Kierra Sheard",
          "Wilco",
          "The Human League",
          "Matt Costa",
          "Musiq",
          "The Verve",
          "Chromeo",
          "Macaco",
          "Sleater-kinney",
          "Counting Crows",
          "Chicane",
          "Fisher",
          "Celtic Woman",
          "LCD Soundsystem",
          "You Me At Six",
          "Creedence Clearwater Revived",
          "Duncan Dhu",
          "Ghostland Observatory",
          "Lonnie Gordon",
          "Timbaland & Magoo",
          "Shakira",
          "Steppenwolf",
          "Elisa",
          "Selena",
          "Julie London",
          "Sanctus Real",
          "Andres Calamaro",
          "Foo Fighters",
          "Jim White",
          "Scooter",
          "Fusebox",
          "Ben Kweller",
          "The Undertones",
          "The Letter Black",
          "Kenny G",
          "Graham Coxon",
          "Jesper Kyd",
          "ILS",
          "Adelitas Way",
          "The Smiths",
          "Paramore",
          "Neil Diamond",
          "Orishas",
          "Craig David",
          "Mac Lethal",
          "Julia Fordham",
          "Usher",
          "The Whitest Boy Alive",
          "Mayer Hawthorne",
          "Ron Carter",
          "Chris Cornell",
          "The Verve",
          "Alicia Keys",
          "Circle Of Dead Children",
          "Kid Cudi / Kanye West / Common",
          "Lonnie Gordon",
          "Sniff 'n' The Tears",
          "Jackson 5",
          "Hoobastank",
          "Steppenwolf",
          "Aerosmith",
          "Michael Jackson",
          "Me First And The Gimme Gimmes",
          "Britt Nicole",
          "Pigeon John",
          "Kid Cudi",
          "Alice In Chains",
          "Hot Chip",
          "matchbox twenty",
          "Goldfrapp",
          "Shakira",
          "Slim Dusty",
          "Kid Cudi",
          "Lonnie Gordon",
          "The Cardigans",
          "La Fuga",
          "Jagged Edge",
          "Jagged Edge featuring Run of Run DMC",
          "Kid Cudi / Kanye West / Common",
          "Natasha Bedingfield",
          "New Radicals",
          "Kid Cudi",
          "Amy Winehouse",
          "Skillet",
          "Duncan Dhu",
          "Kid Cudi / Kanye West / Common",
          "Madeleine Peyroux",
          "Alice In Chains",
          "Soziedad Alkoholika",
          "Basshunter",
          "Alicia Keys",
          "Kid Cudi",
          "Kid Cudi / Kanye West / Common",
          "School Of Seven Bells",
          "Escape The Fate",
          "Katrina & The Waves",
          "Black Eyed Peas",
          "Cherise",
          "At Vance",
          "Europe",
          "Ashanti",
          "Billie The Vision & The Dancers",
          "The Rolling Stones",
          "Yellowcard",
          "Dave Hollister",
          "Lonnie Gordon",
          "Steve Miller Band",
          "Dragonforce",
          "Lonnie Gordon",
          "38 Special",
          "Arctic Monkeys",
          "Aphex Twin",
          "Emmy The Great",
          "Abba",
          "David Arkenstone",
          "Kid Cudi / Kanye West / Common",
          "The Methadones",
          "Placebo",
          "Art Pepper",
          "Kid Cudi",
          "Horse Feathers",
          "Steppenwolf",
          "Phil Collins",
          "Insane Clown Posse",
          "Keyshia Cole / T.I. / Missy Elliott / Young Dro",
          "Cascada",
          "Keyshia Cole",
          "Starting Rock Feat. Diva Avari",
          "The Robert Cray Band",
          "Bruna Caram",
          "Ron Carter",
          "Leon Russell",
          "Kenny Garrett",
          "Dash Berlin",
          "Whitesnake",
          "Starting Rock Feat. Diva Avari",
          "12 Stones",
          "Erin Bode",
          "UNKLE",
          "B.o.B",
          "Tweet",
          "Silverchair",
          "Timbaland & Magoo",
          "Ice Cube"
         ],
         "z": [
          2,
          1,
          3,
          1,
          5,
          1,
          1,
          4,
          1,
          1,
          2,
          1,
          5,
          1,
          1,
          2,
          6,
          1,
          2,
          1,
          4,
          2,
          1,
          4,
          6,
          5,
          2,
          7,
          2,
          3,
          1,
          1,
          7,
          2,
          1,
          6,
          1,
          1,
          5,
          5,
          1,
          1,
          1,
          1,
          7,
          7,
          1,
          1,
          6,
          5,
          6,
          6,
          1,
          1,
          1,
          3,
          2,
          1,
          2,
          2,
          3,
          3,
          3,
          2,
          3,
          2,
          3,
          3,
          3,
          2,
          3,
          3,
          2,
          2,
          3,
          2,
          3,
          5,
          4,
          2,
          2,
          1,
          2,
          2,
          5,
          2,
          4,
          2,
          4,
          4,
          2,
          3,
          3,
          2,
          7,
          1,
          7,
          15,
          1,
          1,
          1,
          1,
          1,
          1,
          12,
          12,
          1,
          1,
          1,
          13,
          1,
          1,
          1,
          1,
          13,
          1,
          1,
          7,
          14,
          9,
          9,
          1,
          7,
          8,
          1,
          1,
          8,
          9,
          1,
          1,
          7,
          9,
          1,
          1,
          5,
          3,
          1,
          2,
          2,
          1,
          3,
          1,
          1,
          2,
          9,
          2,
          3,
          2,
          4,
          2,
          2,
          3,
          3,
          3,
          1,
          1,
          1,
          10,
          1,
          1,
          1,
          10,
          1,
          1,
          5,
          2,
          1,
          14,
          4,
          1,
          1,
          2,
          1,
          6,
          1,
          2,
          2,
          3,
          1,
          1,
          4,
          7,
          2,
          5,
          3,
          10,
          8,
          1,
          4,
          1,
          2,
          2,
          5,
          3,
          1,
          4,
          1,
          1,
          9,
          1,
          1,
          1,
          1,
          3,
          3,
          1,
          2,
          2,
          1,
          2,
          2,
          2,
          2,
          2,
          2,
          1,
          2,
          1,
          7,
          4,
          3,
          6,
          5,
          3,
          10,
          4,
          6,
          3,
          4,
          9,
          3,
          6,
          5,
          7,
          9,
          1,
          1,
          13,
          7,
          4,
          4,
          2,
          6,
          1,
          1,
          1,
          1,
          1,
          1,
          4,
          1,
          10,
          4,
          1,
          1,
          1,
          2,
          6,
          6,
          1,
          5,
          7,
          3,
          1,
          1,
          1,
          1,
          1,
          1,
          1,
          1,
          1,
          1,
          1,
          14,
          1,
          10,
          10,
          1,
          1,
          1,
          7,
          7,
          2,
          3,
          2,
          2,
          3,
          2,
          3,
          2,
          2,
          2,
          2,
          3,
          3,
          2,
          4,
          2,
          3,
          2,
          4,
          3,
          1,
          3,
          3,
          9,
          1,
          10,
          4,
          1,
          4,
          1,
          2,
          5,
          13,
          1,
          3,
          1,
          1,
          1,
          1,
          1,
          3,
          1,
          1,
          1,
          14,
          12,
          1,
          4,
          2,
          1,
          2,
          5,
          2,
          1,
          6,
          2,
          2,
          6,
          1,
          5,
          9,
          1,
          1,
          6,
          4,
          5,
          3,
          3,
          2,
          1,
          7,
          5,
          9,
          6,
          3,
          10,
          2,
          7,
          9,
          3,
          1,
          1,
          1,
          5,
          1,
          2,
          7,
          13,
          6,
          3,
          5,
          3,
          5,
          1,
          4,
          6,
          7,
          5,
          2,
          5,
          2,
          9,
          1,
          1,
          1,
          4,
          1,
          4,
          2,
          1,
          9,
          3,
          4,
          9,
          2,
          10,
          3,
          2,
          2,
          2,
          5,
          1,
          4,
          1,
          7,
          1,
          4,
          6,
          2,
          1,
          2,
          3,
          1,
          1,
          1,
          6,
          1,
          1,
          1,
          1,
          1,
          3,
          4,
          1,
          7,
          2,
          7,
          1,
          1
         ]
        }
       ],
       "layout": {
        "height": 3600,
        "template": {
         "data": {
          "bar": [
           {
            "error_x": {
             "color": "#2a3f5f"
            },
            "error_y": {
             "color": "#2a3f5f"
            },
            "marker": {
             "line": {
              "color": "#E5ECF6",
              "width": 0.5
             },
             "pattern": {
              "fillmode": "overlay",
              "size": 10,
              "solidity": 0.2
             }
            },
            "type": "bar"
           }
          ],
          "barpolar": [
           {
            "marker": {
             "line": {
              "color": "#E5ECF6",
              "width": 0.5
             },
             "pattern": {
              "fillmode": "overlay",
              "size": 10,
              "solidity": 0.2
             }
            },
            "type": "barpolar"
           }
          ],
          "carpet": [
           {
            "aaxis": {
             "endlinecolor": "#2a3f5f",
             "gridcolor": "white",
             "linecolor": "white",
             "minorgridcolor": "white",
             "startlinecolor": "#2a3f5f"
            },
            "baxis": {
             "endlinecolor": "#2a3f5f",
             "gridcolor": "white",
             "linecolor": "white",
             "minorgridcolor": "white",
             "startlinecolor": "#2a3f5f"
            },
            "type": "carpet"
           }
          ],
          "choropleth": [
           {
            "colorbar": {
             "outlinewidth": 0,
             "ticks": ""
            },
            "type": "choropleth"
           }
          ],
          "contour": [
           {
            "colorbar": {
             "outlinewidth": 0,
             "ticks": ""
            },
            "colorscale": [
             [
              0,
              "#0d0887"
             ],
             [
              0.1111111111111111,
              "#46039f"
             ],
             [
              0.2222222222222222,
              "#7201a8"
             ],
             [
              0.3333333333333333,
              "#9c179e"
             ],
             [
              0.4444444444444444,
              "#bd3786"
             ],
             [
              0.5555555555555556,
              "#d8576b"
             ],
             [
              0.6666666666666666,
              "#ed7953"
             ],
             [
              0.7777777777777778,
              "#fb9f3a"
             ],
             [
              0.8888888888888888,
              "#fdca26"
             ],
             [
              1,
              "#f0f921"
             ]
            ],
            "type": "contour"
           }
          ],
          "contourcarpet": [
           {
            "colorbar": {
             "outlinewidth": 0,
             "ticks": ""
            },
            "type": "contourcarpet"
           }
          ],
          "heatmap": [
           {
            "colorbar": {
             "outlinewidth": 0,
             "ticks": ""
            },
            "colorscale": [
             [
              0,
              "#0d0887"
             ],
             [
              0.1111111111111111,
              "#46039f"
             ],
             [
              0.2222222222222222,
              "#7201a8"
             ],
             [
              0.3333333333333333,
              "#9c179e"
             ],
             [
              0.4444444444444444,
              "#bd3786"
             ],
             [
              0.5555555555555556,
              "#d8576b"
             ],
             [
              0.6666666666666666,
              "#ed7953"
             ],
             [
              0.7777777777777778,
              "#fb9f3a"
             ],
             [
              0.8888888888888888,
              "#fdca26"
             ],
             [
              1,
              "#f0f921"
             ]
            ],
            "type": "heatmap"
           }
          ],
          "heatmapgl": [
           {
            "colorbar": {
             "outlinewidth": 0,
             "ticks": ""
            },
            "colorscale": [
             [
              0,
              "#0d0887"
             ],
             [
              0.1111111111111111,
              "#46039f"
             ],
             [
              0.2222222222222222,
              "#7201a8"
             ],
             [
              0.3333333333333333,
              "#9c179e"
             ],
             [
              0.4444444444444444,
              "#bd3786"
             ],
             [
              0.5555555555555556,
              "#d8576b"
             ],
             [
              0.6666666666666666,
              "#ed7953"
             ],
             [
              0.7777777777777778,
              "#fb9f3a"
             ],
             [
              0.8888888888888888,
              "#fdca26"
             ],
             [
              1,
              "#f0f921"
             ]
            ],
            "type": "heatmapgl"
           }
          ],
          "histogram": [
           {
            "marker": {
             "pattern": {
              "fillmode": "overlay",
              "size": 10,
              "solidity": 0.2
             }
            },
            "type": "histogram"
           }
          ],
          "histogram2d": [
           {
            "colorbar": {
             "outlinewidth": 0,
             "ticks": ""
            },
            "colorscale": [
             [
              0,
              "#0d0887"
             ],
             [
              0.1111111111111111,
              "#46039f"
             ],
             [
              0.2222222222222222,
              "#7201a8"
             ],
             [
              0.3333333333333333,
              "#9c179e"
             ],
             [
              0.4444444444444444,
              "#bd3786"
             ],
             [
              0.5555555555555556,
              "#d8576b"
             ],
             [
              0.6666666666666666,
              "#ed7953"
             ],
             [
              0.7777777777777778,
              "#fb9f3a"
             ],
             [
              0.8888888888888888,
              "#fdca26"
             ],
             [
              1,
              "#f0f921"
             ]
            ],
            "type": "histogram2d"
           }
          ],
          "histogram2dcontour": [
           {
            "colorbar": {
             "outlinewidth": 0,
             "ticks": ""
            },
            "colorscale": [
             [
              0,
              "#0d0887"
             ],
             [
              0.1111111111111111,
              "#46039f"
             ],
             [
              0.2222222222222222,
              "#7201a8"
             ],
             [
              0.3333333333333333,
              "#9c179e"
             ],
             [
              0.4444444444444444,
              "#bd3786"
             ],
             [
              0.5555555555555556,
              "#d8576b"
             ],
             [
              0.6666666666666666,
              "#ed7953"
             ],
             [
              0.7777777777777778,
              "#fb9f3a"
             ],
             [
              0.8888888888888888,
              "#fdca26"
             ],
             [
              1,
              "#f0f921"
             ]
            ],
            "type": "histogram2dcontour"
           }
          ],
          "mesh3d": [
           {
            "colorbar": {
             "outlinewidth": 0,
             "ticks": ""
            },
            "type": "mesh3d"
           }
          ],
          "parcoords": [
           {
            "line": {
             "colorbar": {
              "outlinewidth": 0,
              "ticks": ""
             }
            },
            "type": "parcoords"
           }
          ],
          "pie": [
           {
            "automargin": true,
            "type": "pie"
           }
          ],
          "scatter": [
           {
            "marker": {
             "colorbar": {
              "outlinewidth": 0,
              "ticks": ""
             }
            },
            "type": "scatter"
           }
          ],
          "scatter3d": [
           {
            "line": {
             "colorbar": {
              "outlinewidth": 0,
              "ticks": ""
             }
            },
            "marker": {
             "colorbar": {
              "outlinewidth": 0,
              "ticks": ""
             }
            },
            "type": "scatter3d"
           }
          ],
          "scattercarpet": [
           {
            "marker": {
             "colorbar": {
              "outlinewidth": 0,
              "ticks": ""
             }
            },
            "type": "scattercarpet"
           }
          ],
          "scattergeo": [
           {
            "marker": {
             "colorbar": {
              "outlinewidth": 0,
              "ticks": ""
             }
            },
            "type": "scattergeo"
           }
          ],
          "scattergl": [
           {
            "marker": {
             "colorbar": {
              "outlinewidth": 0,
              "ticks": ""
             }
            },
            "type": "scattergl"
           }
          ],
          "scattermapbox": [
           {
            "marker": {
             "colorbar": {
              "outlinewidth": 0,
              "ticks": ""
             }
            },
            "type": "scattermapbox"
           }
          ],
          "scatterpolar": [
           {
            "marker": {
             "colorbar": {
              "outlinewidth": 0,
              "ticks": ""
             }
            },
            "type": "scatterpolar"
           }
          ],
          "scatterpolargl": [
           {
            "marker": {
             "colorbar": {
              "outlinewidth": 0,
              "ticks": ""
             }
            },
            "type": "scatterpolargl"
           }
          ],
          "scatterternary": [
           {
            "marker": {
             "colorbar": {
              "outlinewidth": 0,
              "ticks": ""
             }
            },
            "type": "scatterternary"
           }
          ],
          "surface": [
           {
            "colorbar": {
             "outlinewidth": 0,
             "ticks": ""
            },
            "colorscale": [
             [
              0,
              "#0d0887"
             ],
             [
              0.1111111111111111,
              "#46039f"
             ],
             [
              0.2222222222222222,
              "#7201a8"
             ],
             [
              0.3333333333333333,
              "#9c179e"
             ],
             [
              0.4444444444444444,
              "#bd3786"
             ],
             [
              0.5555555555555556,
              "#d8576b"
             ],
             [
              0.6666666666666666,
              "#ed7953"
             ],
             [
              0.7777777777777778,
              "#fb9f3a"
             ],
             [
              0.8888888888888888,
              "#fdca26"
             ],
             [
              1,
              "#f0f921"
             ]
            ],
            "type": "surface"
           }
          ],
          "table": [
           {
            "cells": {
             "fill": {
              "color": "#EBF0F8"
             },
             "line": {
              "color": "white"
             }
            },
            "header": {
             "fill": {
              "color": "#C8D4E3"
             },
             "line": {
              "color": "white"
             }
            },
            "type": "table"
           }
          ]
         },
         "layout": {
          "annotationdefaults": {
           "arrowcolor": "#2a3f5f",
           "arrowhead": 0,
           "arrowwidth": 1
          },
          "autotypenumbers": "strict",
          "coloraxis": {
           "colorbar": {
            "outlinewidth": 0,
            "ticks": ""
           }
          },
          "colorscale": {
           "diverging": [
            [
             0,
             "#8e0152"
            ],
            [
             0.1,
             "#c51b7d"
            ],
            [
             0.2,
             "#de77ae"
            ],
            [
             0.3,
             "#f1b6da"
            ],
            [
             0.4,
             "#fde0ef"
            ],
            [
             0.5,
             "#f7f7f7"
            ],
            [
             0.6,
             "#e6f5d0"
            ],
            [
             0.7,
             "#b8e186"
            ],
            [
             0.8,
             "#7fbc41"
            ],
            [
             0.9,
             "#4d9221"
            ],
            [
             1,
             "#276419"
            ]
           ],
           "sequential": [
            [
             0,
             "#0d0887"
            ],
            [
             0.1111111111111111,
             "#46039f"
            ],
            [
             0.2222222222222222,
             "#7201a8"
            ],
            [
             0.3333333333333333,
             "#9c179e"
            ],
            [
             0.4444444444444444,
             "#bd3786"
            ],
            [
             0.5555555555555556,
             "#d8576b"
            ],
            [
             0.6666666666666666,
             "#ed7953"
            ],
            [
             0.7777777777777778,
             "#fb9f3a"
            ],
            [
             0.8888888888888888,
             "#fdca26"
            ],
            [
             1,
             "#f0f921"
            ]
           ],
           "sequentialminus": [
            [
             0,
             "#0d0887"
            ],
            [
             0.1111111111111111,
             "#46039f"
            ],
            [
             0.2222222222222222,
             "#7201a8"
            ],
            [
             0.3333333333333333,
             "#9c179e"
            ],
            [
             0.4444444444444444,
             "#bd3786"
            ],
            [
             0.5555555555555556,
             "#d8576b"
            ],
            [
             0.6666666666666666,
             "#ed7953"
            ],
            [
             0.7777777777777778,
             "#fb9f3a"
            ],
            [
             0.8888888888888888,
             "#fdca26"
            ],
            [
             1,
             "#f0f921"
            ]
           ]
          },
          "colorway": [
           "#636efa",
           "#EF553B",
           "#00cc96",
           "#ab63fa",
           "#FFA15A",
           "#19d3f3",
           "#FF6692",
           "#B6E880",
           "#FF97FF",
           "#FECB52"
          ],
          "font": {
           "color": "#2a3f5f"
          },
          "geo": {
           "bgcolor": "white",
           "lakecolor": "white",
           "landcolor": "#E5ECF6",
           "showlakes": true,
           "showland": true,
           "subunitcolor": "white"
          },
          "hoverlabel": {
           "align": "left"
          },
          "hovermode": "closest",
          "mapbox": {
           "style": "light"
          },
          "paper_bgcolor": "white",
          "plot_bgcolor": "#E5ECF6",
          "polar": {
           "angularaxis": {
            "gridcolor": "white",
            "linecolor": "white",
            "ticks": ""
           },
           "bgcolor": "#E5ECF6",
           "radialaxis": {
            "gridcolor": "white",
            "linecolor": "white",
            "ticks": ""
           }
          },
          "scene": {
           "xaxis": {
            "backgroundcolor": "#E5ECF6",
            "gridcolor": "white",
            "gridwidth": 2,
            "linecolor": "white",
            "showbackground": true,
            "ticks": "",
            "zerolinecolor": "white"
           },
           "yaxis": {
            "backgroundcolor": "#E5ECF6",
            "gridcolor": "white",
            "gridwidth": 2,
            "linecolor": "white",
            "showbackground": true,
            "ticks": "",
            "zerolinecolor": "white"
           },
           "zaxis": {
            "backgroundcolor": "#E5ECF6",
            "gridcolor": "white",
            "gridwidth": 2,
            "linecolor": "white",
            "showbackground": true,
            "ticks": "",
            "zerolinecolor": "white"
           }
          },
          "shapedefaults": {
           "line": {
            "color": "#2a3f5f"
           }
          },
          "ternary": {
           "aaxis": {
            "gridcolor": "white",
            "linecolor": "white",
            "ticks": ""
           },
           "baxis": {
            "gridcolor": "white",
            "linecolor": "white",
            "ticks": ""
           },
           "bgcolor": "#E5ECF6",
           "caxis": {
            "gridcolor": "white",
            "linecolor": "white",
            "ticks": ""
           }
          },
          "title": {
           "x": 0.05
          },
          "xaxis": {
           "automargin": true,
           "gridcolor": "white",
           "linecolor": "white",
           "ticks": "",
           "title": {
            "standoff": 15
           },
           "zerolinecolor": "white",
           "zerolinewidth": 2
          },
          "yaxis": {
           "automargin": true,
           "gridcolor": "white",
           "linecolor": "white",
           "ticks": "",
           "title": {
            "standoff": 15
           },
           "zerolinecolor": "white",
           "zerolinewidth": 2
          }
         }
        },
        "title": {
         "text": "Artist Popularity By State"
        },
        "xaxis": {
         "nticks": 35
        },
        "yaxis": {
         "nticks": 500
        }
       }
      },
      "text/html": [
       "<div>                            <div id=\"d011bd8a-b1d0-4794-b1a5-e8ba455ba3c7\" class=\"plotly-graph-div\" style=\"height:3600px; width:100%;\"></div>            <script type=\"text/javascript\">                require([\"plotly\"], function(Plotly) {                    window.PLOTLYENV=window.PLOTLYENV || {};                                    if (document.getElementById(\"d011bd8a-b1d0-4794-b1a5-e8ba455ba3c7\")) {                    Plotly.newPlot(                        \"d011bd8a-b1d0-4794-b1a5-e8ba455ba3c7\",                        [{\"colorscale\":[[0.0,\"rgb(12,51,131)\"],[0.25,\"rgb(10,136,186)\"],[0.5,\"rgb(242,211,56)\"],[0.75,\"rgb(242,143,56)\"],[1.0,\"rgb(217,30,30)\"]],\"type\":\"heatmap\",\"x\":[\" AL\",\" AL\",\" AL\",\" AL\",\" AL\",\" AL\",\" AL\",\" AL\",\" AL\",\" AL\",\" AL\",\" AL\",\" AZ\",\" AZ\",\" AZ\",\" AZ\",\" AZ\",\" AZ\",\" AZ\",\" AZ\",\" AZ\",\" AZ\",\" AZ\",\" AZ\",\" AZ\",\" AZ\",\" AZ\",\" AZ\",\" AZ\",\" AZ\",\" AZ\",\" AZ\",\" AZ\",\" AZ\",\" AZ\",\" AZ\",\" AZ\",\" CA\",\" CA\",\" CA\",\" CA\",\" CA\",\" CA\",\" CA\",\" CA\",\" CA\",\" CA\",\" CA\",\" CA\",\" CA\",\" CA\",\" CA\",\" CA\",\" CA\",\" CA\",\" CA\",\" CA\",\" CA\",\" CA\",\" CA\",\" CA\",\" CA\",\" CA\",\" CA\",\" CA\",\" CA\",\" CA\",\" CA\",\" CA\",\" CA\",\" CA\",\" CA\",\" CA\",\" CA\",\" CA\",\" CA\",\" CA\",\" CA\",\" CA\",\" CA\",\" CA\",\" CA\",\" CA\",\" CA\",\" CA\",\" CA\",\" CA\",\" CA\",\" CA\",\" CA\",\" CA\",\" CA\",\" CA\",\" CA\",\" CA\",\" CA\",\" CA\",\" CA\",\" CA\",\" CA\",\" CA\",\" CA\",\" CA\",\" CA\",\" CA\",\" CA\",\" CA\",\" CA\",\" CA\",\" CA\",\" CA\",\" CA\",\" CA\",\" CA\",\" CA\",\" CA\",\" CA\",\" CA\",\" CA\",\" CA\",\" CA\",\" CA\",\" CA\",\" CA\",\" CA\",\" CA\",\" CA\",\" CA\",\" CA\",\" CA\",\" CA\",\" CA\",\" CA\",\" CA\",\" CT\",\" CT\",\" CT\",\" CT\",\" CT\",\" CT\",\" DC-VA-MD-WV\",\" DC-VA-MD-WV\",\" DC-VA-MD-WV\",\" DC-VA-MD-WV\",\" DC-VA-MD-WV\",\" FL\",\" FL\",\" FL\",\" FL\",\" FL\",\" FL\",\" FL\",\" FL\",\" FL\",\" FL\",\" FL\",\" FL\",\" FL\",\" FL\",\" FL\",\" FL\",\" FL\",\" FL\",\" FL\",\" FL\",\" FL\",\" FL\",\" FL\",\" FL\",\" FL\",\" FL\",\" FL\",\" FL\",\" GA\",\" GA\",\" GA\",\" GA\",\" GA\",\" GA\",\" GA\",\" GA\",\" GA\",\" GA\",\" GA\",\" GA\",\" GA\",\" GA\",\" GA\",\" GA\",\" GA\",\" GA\",\" GA\",\" GA\",\" GA-SC\",\" GA-SC\",\" GA-SC\",\" GA-SC\",\" GA-SC\",\" GA-SC\",\" GA-SC\",\" GA-SC\",\" GA-SC\",\" GA-SC\",\" GA-SC\",\" GA-SC\",\" GA-SC\",\" GA-SC\",\" IA\",\" IA\",\" IA\",\" IA\",\" IA\",\" IA\",\" IA\",\" IA\",\" IA\",\" IA\",\" IA\",\" IA\",\" IA\",\" IA\",\" IA\",\" IA\",\" IA\",\" IA\",\" IA\",\" IA\",\" IA\",\" IA\",\" IA\",\" IA\",\" IA\",\" IA\",\" IA\",\" IL-IN-WI\",\" IL-IN-WI\",\" IL-IN-WI\",\" IL-IN-WI\",\" IL-IN-WI\",\" IL-IN-WI\",\" IL-IN-WI\",\" IL-IN-WI\",\" IL-IN-WI\",\" IL-IN-WI\",\" IL-IN-WI\",\" IL-IN-WI\",\" IL-IN-WI\",\" IL-IN-WI\",\" IL-IN-WI\",\" IL-IN-WI\",\" IN\",\" IN\",\" IN\",\" KY\",\" LA\",\" LA\",\" LA\",\" ME\",\" ME\",\" ME\",\" ME\",\" ME\",\" ME\",\" ME\",\" ME\",\" ME\",\" ME\",\" ME\",\" ME\",\" ME\",\" ME\",\" ME\",\" ME\",\" ME\",\" ME\",\" ME\",\" ME\",\" ME\",\" ME\",\" ME\",\" ME\",\" ME\",\" ME\",\" ME\",\" ME\",\" ME\",\" ME\",\" ME\",\" ME\",\" ME\",\" ME\",\" ME\",\" ME\",\" ME\",\" ME\",\" ME\",\" ME\",\" ME\",\" ME\",\" ME\",\" ME\",\" ME\",\" ME\",\" MI\",\" MI\",\" MI\",\" MI\",\" MI\",\" MI\",\" MI\",\" MI\",\" MI\",\" MI\",\" MI\",\" MI\",\" MI\",\" MI\",\" MI\",\" MI\",\" MI\",\" MI\",\" MI\",\" MI\",\" MI\",\" MI\",\" MI\",\" MI\",\" MI\",\" MI\",\" MI\",\" MI\",\" MI\",\" MI\",\" MI\",\" MI\",\" MI\",\" MI\",\" MI\",\" MI\",\" MN-WI\",\" MO-IL\",\" MO-IL\",\" NC\",\" NC\",\" NC\",\" NC\",\" NC\",\" NC\",\" NC\",\" NC\",\" NC\",\" NC\",\" NC\",\" NC\",\" NC\",\" NC\",\" NY-NJ-PA\",\" NY-NJ-PA\",\" NY-NJ-PA\",\" NY-NJ-PA\",\" NY-NJ-PA\",\" NY-NJ-PA\",\" NY-NJ-PA\",\" NY-NJ-PA\",\" NY-NJ-PA\",\" NY-NJ-PA\",\" NY-NJ-PA\",\" NY-NJ-PA\",\" NY-NJ-PA\",\" OR\",\" OR\",\" OR\",\" OR\",\" OR\",\" PA\",\" PA\",\" PA\",\" PA\",\" PA-NJ-DE-MD\",\" PA-NJ-DE-MD\",\" PA-NJ-DE-MD\",\" PA-NJ-DE-MD\",\" SC\",\" TN\",\" TN\",\" TX\",\" TX\",\" TX\",\" TX\",\" TX\",\" TX\",\" TX\",\" TX\",\" TX\",\" TX\",\" TX\",\" TX\",\" TX\",\" TX\",\" TX\",\" UT\",\" WA\",\" WI\",\" WI\",\" WI\",\" WI\",\" WI\",\" WI\",\" WI\",\" WI\",\" WI\",\" WI\",\" WI\",\" WI\",\" WI\",\" WI\",\" WI\",\" WI\",\" WI\",\" WI\",\" WI\",\" WI-MI\",\" WI-MI\",\" WI-MI\",\" WI-MI\",\" WI-MI\",\" WI-MI\",\" WI-MI\",\" WI-MI\",\" WI-MI\",\" WI-MN\",\" WI-MN\"],\"y\":[\"Celtic Woman\",\"Fukkk Offf\",\"James Taylor\",\"Misfits\",\"Radney Foster\",\"Brand New Disaster\",\"The Misfits\",\"The Format\",\"Junkie XL\",\"Blackfield\",\"Cascada\",\"Redman\",\"Kid Cudi / Kanye West / Common\",\"Nach\",\"Juno Reactor\",\"Cher\",\"Madonna\",\"Andreas Johnson\",\"Faithless\",\"This Beautiful Republic\",\"Dead Kennedys\",\"Collective Soul\",\"D-12\",\"Yeah Yeah Yeahs\",\"matchbox twenty\",\"The Mars Volta\",\"Lauryn Hill\",\"Old 97's\",\"Robert Plant\",\"Chromeo\",\"Billie The Vision & The Dancers\",\"Biz Markie\",\"Kid Cudi\",\"Jarabe De Palo\",\"MC Lars\",\"Madeleine Peyroux\",\"The Methadones\",\"Ivy\",\"Kid Cudi / Kanye West / Common\",\"Lupe Fiasco\",\"Lionel Rogg\",\"Augustana\",\"Tenth Avenue North\",\"Tempa T\",\"Kid Cudi\",\"B.o.B\",\"Ulf Wakenius\",\"Screaming Trees\",\"Ron Carter\",\"Godsmack\",\"matchbox twenty\",\"Madonna\",\"Hooligans\",\"Unkle Bob\",\"Blackfield\",\"Me First And The Gimme Gimmes\",\"Tego Calderon\",\"Blackfield\",\"O-Zone\",\"Krisiun\",\"Fisher\",\"Kelly Clarkson\",\"Emiliana Torrini\",\"David Arkenstone\",\"Killswitch Engage\",\"The Human League\",\"Plies\",\"Duncan Dhu\",\"Vangelis\",\"Cocorosie\",\"Madeleine Peyroux\",\"Fisher\",\"O-Zone\",\"The Whitest Boy Alive\",\"Dierks Bentley\",\"New Radicals\",\"Dropkick Murphys\",\"Kid Cudi / Kanye West / Common\",\"Josh Turner\",\"Collective Soul\",\"Marisa Monte\",\"Inimigos Da HP\",\"Thirteen Senses\",\"Of Montreal\",\"Aerosmith\",\"Pennywise\",\"Counting Crows\",\"Hellogoodbye\",\"Kaiser Chiefs\",\"Ashanti\",\"Julia Fordham\",\"Alison Krauss / Union Station\",\"Jack's Mannequin\",\"Sugababes\",\"Beirut\",\"Ben Kweller\",\"Kid Cudi\",\"Alliance Ethnik\",\"Descendents\",\"The Waterboys\",\"Ours\",\"Passenger 10\",\"Ashbury Heights\",\"Circle Of Dead Children\",\"Paramore\",\"Cat Stevens\",\"James Newton Howard\",\"White Lion\",\"Pigeon John\",\"Kanye West\",\"The Robert Cray Band\",\"Nicolai Dunger\",\"Lindisfarne\",\"Tenth Avenue North\",\"Foo Fighters\",\"Lupe Fiasco feat. Matthew Santos\",\"Bobby Goldsboro\",\"B.o.B\",\"Taylor Swift\",\"Hot Chip\",\"Black Eyed Peas\",\"The Knux\",\"The Smiths\",\"Incubus\",\"Tomcraft\",\"Tenth Avenue North\",\"Van Halen\",\"Lonnie Gordon\",\"Alison Krauss\",\"Mia X\",\"B.o.B\",\"Lonnie Gordon\",\"Donovan\",\"Mad Flava\",\"Usher\",\"Third Eye Blind\",\"Los Rodriguez\",\"Slim Dusty\",\"Thirteen Senses\",\"Third Day\",\"Chromeo\",\"Nach\",\"Biz Markie\",\"Lauryn Hill\",\"Lonnie Gordon\",\"Emmy The Great\",\"Theory Of A Deadman\",\"Alice Cooper\",\"The Rolling Stones\",\"The Airborne Toxic Event\",\"Stephen Lynch\",\"Porcupine Tree\",\"Thousand Foot Krutch\",\"Creed\",\"Sounds from the Ground\",\"Jimmy Nail\",\"Huey Lewis & The News\",\"Usher\",\"The Yardbirds\",\"The Methadones\",\"Blackfield\",\"Arctic Monkeys\",\"Dispatch\",\"Fat Freddys Drop\",\"Camera Obscura\",\"Huey Lewis And The News\",\"Redman\",\"B.o.B\",\"Ashanti\",\"Pillar\",\"Bobby McFerrin\",\"Musiq\",\"Angie Stone\",\"matchbox twenty\",\"J.J. Cale\",\"Chicane\",\"Heart\",\"Alison Krauss / Union Station\",\"Love Is All\",\"Billy Squier\",\"Fergie\",\"The Smiths\",\"The Presets\",\"Godsmack\",\"Goldfrapp\",\"Arctic Monkeys\",\"Rammstein\",\"Alison Krauss\",\"Binary Star\",\"Limi-T 21\",\"The Human League\",\"Dr. Alban\",\"Alice In Chains\",\"Ghostland Observatory\",\"Efecto Mariposa\",\"Counting Crows\",\"Ours\",\"Ben Kweller\",\"Black Eyed Peas\",\"Boys Like Girls\",\"Luis Miguel\",\"Boys Like Girls featuring Taylor Swift\",\"James Newton Howard\",\"India.Arie\",\"Kate Voegele\",\"Plus One\",\"Julia Fordham\",\"Flobots\",\"Jennifer Lopez\",\"Wyclef Jean\",\"Staind\",\"Stray Cats\",\"Soltero\",\"The Audition\",\"Thirteen Senses\",\"Liquid Tension Experiment\",\"De-Phazz\",\"Stryper\",\"Katy Perry\",\"Blink-182\",\"The Cardigans\",\"Ron Carter\",\"Aerosmith\",\"Me First And The Gimme Gimmes\",\"Enya\",\"Counting Crows\",\"Anberlin\",\"Madeleine Peyroux\",\"Josh Turner\",\"Hot Chip\",\"Maroon 5\",\"Alicia Keys\",\"Kid Cudi / Kanye West / Common\",\"Kid Cudi\",\"Lonnie Gordon\",\"Abstract Rude\",\"Anita Ward\",\"Evanescence\",\"B.o.B\",\"Pantera\",\"Blink-182\",\"Pennywise\",\"AFI\",\"Robert Pollard\",\"Prohom\",\"Squeeze\",\"Billie The Vision & The Dancers\",\"Elena\",\"Blackfield\",\"Streetlight Manifesto\",\"Los Del Rio\",\"Shakira\",\"Cute Is What We Aim For\",\"Kenny G\",\"Billy Squier\",\"Neneh Cherry\",\"Robert Plant\",\"Ron Carter\",\"Pearl Jam\",\"Jimmy Nail\",\"Kid Cudi / Kanye West / Common\",\"B.o.B\",\"Me First And The Gimme Gimmes\",\"Callenish Circle\",\"Biz Markie\",\"No Mercy\",\"Blufeld\",\"Miguel Morales\",\"Nach\",\"Violet Indiana\",\"Stryper\",\"Sick Of It All\",\"Jennifer Lopez\",\"Marea\",\"Taylor Swift\",\"Patricia Barber\",\"Alice In Chains\",\"Usher\",\"Nocturnal Rites\",\"Sparklehorse\",\"D-12\",\"Rilo Kiley\",\"Kid Cudi\",\"Thirteen Senses\",\"Daddy Yankee\",\"Lauryn Hill\",\"Collective Soul\",\"Jack's Mannequin\",\"Kierra Sheard\",\"Wilco\",\"The Human League\",\"Matt Costa\",\"Musiq\",\"The Verve\",\"Chromeo\",\"Macaco\",\"Sleater-kinney\",\"Counting Crows\",\"Chicane\",\"Fisher\",\"Celtic Woman\",\"LCD Soundsystem\",\"You Me At Six\",\"Creedence Clearwater Revived\",\"Duncan Dhu\",\"Ghostland Observatory\",\"Lonnie Gordon\",\"Timbaland & Magoo\",\"Shakira\",\"Steppenwolf\",\"Elisa\",\"Selena\",\"Julie London\",\"Sanctus Real\",\"Andres Calamaro\",\"Foo Fighters\",\"Jim White\",\"Scooter\",\"Fusebox\",\"Ben Kweller\",\"The Undertones\",\"The Letter Black\",\"Kenny G\",\"Graham Coxon\",\"Jesper Kyd\",\"ILS\",\"Adelitas Way\",\"The Smiths\",\"Paramore\",\"Neil Diamond\",\"Orishas\",\"Craig David\",\"Mac Lethal\",\"Julia Fordham\",\"Usher\",\"The Whitest Boy Alive\",\"Mayer Hawthorne\",\"Ron Carter\",\"Chris Cornell\",\"The Verve\",\"Alicia Keys\",\"Circle Of Dead Children\",\"Kid Cudi / Kanye West / Common\",\"Lonnie Gordon\",\"Sniff 'n' The Tears\",\"Jackson 5\",\"Hoobastank\",\"Steppenwolf\",\"Aerosmith\",\"Michael Jackson\",\"Me First And The Gimme Gimmes\",\"Britt Nicole\",\"Pigeon John\",\"Kid Cudi\",\"Alice In Chains\",\"Hot Chip\",\"matchbox twenty\",\"Goldfrapp\",\"Shakira\",\"Slim Dusty\",\"Kid Cudi\",\"Lonnie Gordon\",\"The Cardigans\",\"La Fuga\",\"Jagged Edge\",\"Jagged Edge featuring Run of Run DMC\",\"Kid Cudi / Kanye West / Common\",\"Natasha Bedingfield\",\"New Radicals\",\"Kid Cudi\",\"Amy Winehouse\",\"Skillet\",\"Duncan Dhu\",\"Kid Cudi / Kanye West / Common\",\"Madeleine Peyroux\",\"Alice In Chains\",\"Soziedad Alkoholika\",\"Basshunter\",\"Alicia Keys\",\"Kid Cudi\",\"Kid Cudi / Kanye West / Common\",\"School Of Seven Bells\",\"Escape The Fate\",\"Katrina & The Waves\",\"Black Eyed Peas\",\"Cherise\",\"At Vance\",\"Europe\",\"Ashanti\",\"Billie The Vision & The Dancers\",\"The Rolling Stones\",\"Yellowcard\",\"Dave Hollister\",\"Lonnie Gordon\",\"Steve Miller Band\",\"Dragonforce\",\"Lonnie Gordon\",\"38 Special\",\"Arctic Monkeys\",\"Aphex Twin\",\"Emmy The Great\",\"Abba\",\"David Arkenstone\",\"Kid Cudi / Kanye West / Common\",\"The Methadones\",\"Placebo\",\"Art Pepper\",\"Kid Cudi\",\"Horse Feathers\",\"Steppenwolf\",\"Phil Collins\",\"Insane Clown Posse\",\"Keyshia Cole / T.I. / Missy Elliott / Young Dro\",\"Cascada\",\"Keyshia Cole\",\"Starting Rock Feat. Diva Avari\",\"The Robert Cray Band\",\"Bruna Caram\",\"Ron Carter\",\"Leon Russell\",\"Kenny Garrett\",\"Dash Berlin\",\"Whitesnake\",\"Starting Rock Feat. Diva Avari\",\"12 Stones\",\"Erin Bode\",\"UNKLE\",\"B.o.B\",\"Tweet\",\"Silverchair\",\"Timbaland & Magoo\",\"Ice Cube\"],\"z\":[2,1,3,1,5,1,1,4,1,1,2,1,5,1,1,2,6,1,2,1,4,2,1,4,6,5,2,7,2,3,1,1,7,2,1,6,1,1,5,5,1,1,1,1,7,7,1,1,6,5,6,6,1,1,1,3,2,1,2,2,3,3,3,2,3,2,3,3,3,2,3,3,2,2,3,2,3,5,4,2,2,1,2,2,5,2,4,2,4,4,2,3,3,2,7,1,7,15,1,1,1,1,1,1,12,12,1,1,1,13,1,1,1,1,13,1,1,7,14,9,9,1,7,8,1,1,8,9,1,1,7,9,1,1,5,3,1,2,2,1,3,1,1,2,9,2,3,2,4,2,2,3,3,3,1,1,1,10,1,1,1,10,1,1,5,2,1,14,4,1,1,2,1,6,1,2,2,3,1,1,4,7,2,5,3,10,8,1,4,1,2,2,5,3,1,4,1,1,9,1,1,1,1,3,3,1,2,2,1,2,2,2,2,2,2,1,2,1,7,4,3,6,5,3,10,4,6,3,4,9,3,6,5,7,9,1,1,13,7,4,4,2,6,1,1,1,1,1,1,4,1,10,4,1,1,1,2,6,6,1,5,7,3,1,1,1,1,1,1,1,1,1,1,1,14,1,10,10,1,1,1,7,7,2,3,2,2,3,2,3,2,2,2,2,3,3,2,4,2,3,2,4,3,1,3,3,9,1,10,4,1,4,1,2,5,13,1,3,1,1,1,1,1,3,1,1,1,14,12,1,4,2,1,2,5,2,1,6,2,2,6,1,5,9,1,1,6,4,5,3,3,2,1,7,5,9,6,3,10,2,7,9,3,1,1,1,5,1,2,7,13,6,3,5,3,5,1,4,6,7,5,2,5,2,9,1,1,1,4,1,4,2,1,9,3,4,9,2,10,3,2,2,2,5,1,4,1,7,1,4,6,2,1,2,3,1,1,1,6,1,1,1,1,1,3,4,1,7,2,7,1,1]}],                        {\"height\":3600,\"template\":{\"data\":{\"bar\":[{\"error_x\":{\"color\":\"#2a3f5f\"},\"error_y\":{\"color\":\"#2a3f5f\"},\"marker\":{\"line\":{\"color\":\"#E5ECF6\",\"width\":0.5},\"pattern\":{\"fillmode\":\"overlay\",\"size\":10,\"solidity\":0.2}},\"type\":\"bar\"}],\"barpolar\":[{\"marker\":{\"line\":{\"color\":\"#E5ECF6\",\"width\":0.5},\"pattern\":{\"fillmode\":\"overlay\",\"size\":10,\"solidity\":0.2}},\"type\":\"barpolar\"}],\"carpet\":[{\"aaxis\":{\"endlinecolor\":\"#2a3f5f\",\"gridcolor\":\"white\",\"linecolor\":\"white\",\"minorgridcolor\":\"white\",\"startlinecolor\":\"#2a3f5f\"},\"baxis\":{\"endlinecolor\":\"#2a3f5f\",\"gridcolor\":\"white\",\"linecolor\":\"white\",\"minorgridcolor\":\"white\",\"startlinecolor\":\"#2a3f5f\"},\"type\":\"carpet\"}],\"choropleth\":[{\"colorbar\":{\"outlinewidth\":0,\"ticks\":\"\"},\"type\":\"choropleth\"}],\"contour\":[{\"colorbar\":{\"outlinewidth\":0,\"ticks\":\"\"},\"colorscale\":[[0.0,\"#0d0887\"],[0.1111111111111111,\"#46039f\"],[0.2222222222222222,\"#7201a8\"],[0.3333333333333333,\"#9c179e\"],[0.4444444444444444,\"#bd3786\"],[0.5555555555555556,\"#d8576b\"],[0.6666666666666666,\"#ed7953\"],[0.7777777777777778,\"#fb9f3a\"],[0.8888888888888888,\"#fdca26\"],[1.0,\"#f0f921\"]],\"type\":\"contour\"}],\"contourcarpet\":[{\"colorbar\":{\"outlinewidth\":0,\"ticks\":\"\"},\"type\":\"contourcarpet\"}],\"heatmap\":[{\"colorbar\":{\"outlinewidth\":0,\"ticks\":\"\"},\"colorscale\":[[0.0,\"#0d0887\"],[0.1111111111111111,\"#46039f\"],[0.2222222222222222,\"#7201a8\"],[0.3333333333333333,\"#9c179e\"],[0.4444444444444444,\"#bd3786\"],[0.5555555555555556,\"#d8576b\"],[0.6666666666666666,\"#ed7953\"],[0.7777777777777778,\"#fb9f3a\"],[0.8888888888888888,\"#fdca26\"],[1.0,\"#f0f921\"]],\"type\":\"heatmap\"}],\"heatmapgl\":[{\"colorbar\":{\"outlinewidth\":0,\"ticks\":\"\"},\"colorscale\":[[0.0,\"#0d0887\"],[0.1111111111111111,\"#46039f\"],[0.2222222222222222,\"#7201a8\"],[0.3333333333333333,\"#9c179e\"],[0.4444444444444444,\"#bd3786\"],[0.5555555555555556,\"#d8576b\"],[0.6666666666666666,\"#ed7953\"],[0.7777777777777778,\"#fb9f3a\"],[0.8888888888888888,\"#fdca26\"],[1.0,\"#f0f921\"]],\"type\":\"heatmapgl\"}],\"histogram\":[{\"marker\":{\"pattern\":{\"fillmode\":\"overlay\",\"size\":10,\"solidity\":0.2}},\"type\":\"histogram\"}],\"histogram2d\":[{\"colorbar\":{\"outlinewidth\":0,\"ticks\":\"\"},\"colorscale\":[[0.0,\"#0d0887\"],[0.1111111111111111,\"#46039f\"],[0.2222222222222222,\"#7201a8\"],[0.3333333333333333,\"#9c179e\"],[0.4444444444444444,\"#bd3786\"],[0.5555555555555556,\"#d8576b\"],[0.6666666666666666,\"#ed7953\"],[0.7777777777777778,\"#fb9f3a\"],[0.8888888888888888,\"#fdca26\"],[1.0,\"#f0f921\"]],\"type\":\"histogram2d\"}],\"histogram2dcontour\":[{\"colorbar\":{\"outlinewidth\":0,\"ticks\":\"\"},\"colorscale\":[[0.0,\"#0d0887\"],[0.1111111111111111,\"#46039f\"],[0.2222222222222222,\"#7201a8\"],[0.3333333333333333,\"#9c179e\"],[0.4444444444444444,\"#bd3786\"],[0.5555555555555556,\"#d8576b\"],[0.6666666666666666,\"#ed7953\"],[0.7777777777777778,\"#fb9f3a\"],[0.8888888888888888,\"#fdca26\"],[1.0,\"#f0f921\"]],\"type\":\"histogram2dcontour\"}],\"mesh3d\":[{\"colorbar\":{\"outlinewidth\":0,\"ticks\":\"\"},\"type\":\"mesh3d\"}],\"parcoords\":[{\"line\":{\"colorbar\":{\"outlinewidth\":0,\"ticks\":\"\"}},\"type\":\"parcoords\"}],\"pie\":[{\"automargin\":true,\"type\":\"pie\"}],\"scatter\":[{\"marker\":{\"colorbar\":{\"outlinewidth\":0,\"ticks\":\"\"}},\"type\":\"scatter\"}],\"scatter3d\":[{\"line\":{\"colorbar\":{\"outlinewidth\":0,\"ticks\":\"\"}},\"marker\":{\"colorbar\":{\"outlinewidth\":0,\"ticks\":\"\"}},\"type\":\"scatter3d\"}],\"scattercarpet\":[{\"marker\":{\"colorbar\":{\"outlinewidth\":0,\"ticks\":\"\"}},\"type\":\"scattercarpet\"}],\"scattergeo\":[{\"marker\":{\"colorbar\":{\"outlinewidth\":0,\"ticks\":\"\"}},\"type\":\"scattergeo\"}],\"scattergl\":[{\"marker\":{\"colorbar\":{\"outlinewidth\":0,\"ticks\":\"\"}},\"type\":\"scattergl\"}],\"scattermapbox\":[{\"marker\":{\"colorbar\":{\"outlinewidth\":0,\"ticks\":\"\"}},\"type\":\"scattermapbox\"}],\"scatterpolar\":[{\"marker\":{\"colorbar\":{\"outlinewidth\":0,\"ticks\":\"\"}},\"type\":\"scatterpolar\"}],\"scatterpolargl\":[{\"marker\":{\"colorbar\":{\"outlinewidth\":0,\"ticks\":\"\"}},\"type\":\"scatterpolargl\"}],\"scatterternary\":[{\"marker\":{\"colorbar\":{\"outlinewidth\":0,\"ticks\":\"\"}},\"type\":\"scatterternary\"}],\"surface\":[{\"colorbar\":{\"outlinewidth\":0,\"ticks\":\"\"},\"colorscale\":[[0.0,\"#0d0887\"],[0.1111111111111111,\"#46039f\"],[0.2222222222222222,\"#7201a8\"],[0.3333333333333333,\"#9c179e\"],[0.4444444444444444,\"#bd3786\"],[0.5555555555555556,\"#d8576b\"],[0.6666666666666666,\"#ed7953\"],[0.7777777777777778,\"#fb9f3a\"],[0.8888888888888888,\"#fdca26\"],[1.0,\"#f0f921\"]],\"type\":\"surface\"}],\"table\":[{\"cells\":{\"fill\":{\"color\":\"#EBF0F8\"},\"line\":{\"color\":\"white\"}},\"header\":{\"fill\":{\"color\":\"#C8D4E3\"},\"line\":{\"color\":\"white\"}},\"type\":\"table\"}]},\"layout\":{\"annotationdefaults\":{\"arrowcolor\":\"#2a3f5f\",\"arrowhead\":0,\"arrowwidth\":1},\"autotypenumbers\":\"strict\",\"coloraxis\":{\"colorbar\":{\"outlinewidth\":0,\"ticks\":\"\"}},\"colorscale\":{\"diverging\":[[0,\"#8e0152\"],[0.1,\"#c51b7d\"],[0.2,\"#de77ae\"],[0.3,\"#f1b6da\"],[0.4,\"#fde0ef\"],[0.5,\"#f7f7f7\"],[0.6,\"#e6f5d0\"],[0.7,\"#b8e186\"],[0.8,\"#7fbc41\"],[0.9,\"#4d9221\"],[1,\"#276419\"]],\"sequential\":[[0.0,\"#0d0887\"],[0.1111111111111111,\"#46039f\"],[0.2222222222222222,\"#7201a8\"],[0.3333333333333333,\"#9c179e\"],[0.4444444444444444,\"#bd3786\"],[0.5555555555555556,\"#d8576b\"],[0.6666666666666666,\"#ed7953\"],[0.7777777777777778,\"#fb9f3a\"],[0.8888888888888888,\"#fdca26\"],[1.0,\"#f0f921\"]],\"sequentialminus\":[[0.0,\"#0d0887\"],[0.1111111111111111,\"#46039f\"],[0.2222222222222222,\"#7201a8\"],[0.3333333333333333,\"#9c179e\"],[0.4444444444444444,\"#bd3786\"],[0.5555555555555556,\"#d8576b\"],[0.6666666666666666,\"#ed7953\"],[0.7777777777777778,\"#fb9f3a\"],[0.8888888888888888,\"#fdca26\"],[1.0,\"#f0f921\"]]},\"colorway\":[\"#636efa\",\"#EF553B\",\"#00cc96\",\"#ab63fa\",\"#FFA15A\",\"#19d3f3\",\"#FF6692\",\"#B6E880\",\"#FF97FF\",\"#FECB52\"],\"font\":{\"color\":\"#2a3f5f\"},\"geo\":{\"bgcolor\":\"white\",\"lakecolor\":\"white\",\"landcolor\":\"#E5ECF6\",\"showlakes\":true,\"showland\":true,\"subunitcolor\":\"white\"},\"hoverlabel\":{\"align\":\"left\"},\"hovermode\":\"closest\",\"mapbox\":{\"style\":\"light\"},\"paper_bgcolor\":\"white\",\"plot_bgcolor\":\"#E5ECF6\",\"polar\":{\"angularaxis\":{\"gridcolor\":\"white\",\"linecolor\":\"white\",\"ticks\":\"\"},\"bgcolor\":\"#E5ECF6\",\"radialaxis\":{\"gridcolor\":\"white\",\"linecolor\":\"white\",\"ticks\":\"\"}},\"scene\":{\"xaxis\":{\"backgroundcolor\":\"#E5ECF6\",\"gridcolor\":\"white\",\"gridwidth\":2,\"linecolor\":\"white\",\"showbackground\":true,\"ticks\":\"\",\"zerolinecolor\":\"white\"},\"yaxis\":{\"backgroundcolor\":\"#E5ECF6\",\"gridcolor\":\"white\",\"gridwidth\":2,\"linecolor\":\"white\",\"showbackground\":true,\"ticks\":\"\",\"zerolinecolor\":\"white\"},\"zaxis\":{\"backgroundcolor\":\"#E5ECF6\",\"gridcolor\":\"white\",\"gridwidth\":2,\"linecolor\":\"white\",\"showbackground\":true,\"ticks\":\"\",\"zerolinecolor\":\"white\"}},\"shapedefaults\":{\"line\":{\"color\":\"#2a3f5f\"}},\"ternary\":{\"aaxis\":{\"gridcolor\":\"white\",\"linecolor\":\"white\",\"ticks\":\"\"},\"baxis\":{\"gridcolor\":\"white\",\"linecolor\":\"white\",\"ticks\":\"\"},\"bgcolor\":\"#E5ECF6\",\"caxis\":{\"gridcolor\":\"white\",\"linecolor\":\"white\",\"ticks\":\"\"}},\"title\":{\"x\":0.05},\"xaxis\":{\"automargin\":true,\"gridcolor\":\"white\",\"linecolor\":\"white\",\"ticks\":\"\",\"title\":{\"standoff\":15},\"zerolinecolor\":\"white\",\"zerolinewidth\":2},\"yaxis\":{\"automargin\":true,\"gridcolor\":\"white\",\"linecolor\":\"white\",\"ticks\":\"\",\"title\":{\"standoff\":15},\"zerolinecolor\":\"white\",\"zerolinewidth\":2}}},\"title\":{\"text\":\"Artist Popularity By State\"},\"xaxis\":{\"nticks\":35},\"yaxis\":{\"nticks\":500}},                        {\"responsive\": true}                    ).then(function(){\n",
       "                            \n",
       "var gd = document.getElementById('d011bd8a-b1d0-4794-b1a5-e8ba455ba3c7');\n",
       "var x = new MutationObserver(function (mutations, observer) {{\n",
       "        var display = window.getComputedStyle(gd).display;\n",
       "        if (!display || display === 'none') {{\n",
       "            console.log([gd, 'removed!']);\n",
       "            Plotly.purge(gd);\n",
       "            observer.disconnect();\n",
       "        }}\n",
       "}});\n",
       "\n",
       "// Listen for the removal of the full notebook cells\n",
       "var notebookContainer = gd.closest('#notebook-container');\n",
       "if (notebookContainer) {{\n",
       "    x.observe(notebookContainer, {childList: true});\n",
       "}}\n",
       "\n",
       "// Listen for the clearing of the current output cell\n",
       "var outputEl = gd.closest('.output');\n",
       "if (outputEl) {{\n",
       "    x.observe(outputEl, {childList: true});\n",
       "}}\n",
       "\n",
       "                        })                };                });            </script>        </div>"
      ]
     },
     "metadata": {},
     "output_type": "display_data"
    }
   ],
   "source": [
    "# Remove artist counts above 15, the mean count to get a more fine grained view of smaller counts\n",
    "\n",
    "df_reduced = df[df.artist_count <= 15]\n",
    "fig = go.Figure(data=go.Heatmap(\n",
    "        z=df_reduced['artist_count'],\n",
    "        x=df_reduced['state'],\n",
    "        y=df_reduced['name'],\n",
    "        colorscale='Portland'))\n",
    "\n",
    "fig.update_layout(\n",
    "    title='Artist Popularity By State, Counts 15 or below',\n",
    "    xaxis_nticks=35, yaxis_nticks=500, height=3600)\n",
    "\n",
    "fig.show()"
   ]
  },
  {
   "cell_type": "code",
   "execution_count": 74,
   "id": "dbacfde3",
   "metadata": {},
   "outputs": [
    {
     "data": {
      "text/html": [
       "<div>\n",
       "<style scoped>\n",
       "    .dataframe tbody tr th:only-of-type {\n",
       "        vertical-align: middle;\n",
       "    }\n",
       "\n",
       "    .dataframe tbody tr th {\n",
       "        vertical-align: top;\n",
       "    }\n",
       "\n",
       "    .dataframe thead th {\n",
       "        text-align: right;\n",
       "    }\n",
       "</style>\n",
       "<table border=\"1\" class=\"dataframe\">\n",
       "  <thead>\n",
       "    <tr style=\"text-align: right;\">\n",
       "      <th></th>\n",
       "      <th>latitude</th>\n",
       "      <th>longitude</th>\n",
       "      <th>name</th>\n",
       "    </tr>\n",
       "  </thead>\n",
       "  <tbody>\n",
       "    <tr>\n",
       "      <th>0</th>\n",
       "      <td>27.49550</td>\n",
       "      <td>-82.57807</td>\n",
       "      <td>We The Kings</td>\n",
       "    </tr>\n",
       "    <tr>\n",
       "      <th>1</th>\n",
       "      <td>51.43558</td>\n",
       "      <td>-2.57518</td>\n",
       "      <td>Tricky</td>\n",
       "    </tr>\n",
       "    <tr>\n",
       "      <th>2</th>\n",
       "      <td>42.18419</td>\n",
       "      <td>-71.71818</td>\n",
       "      <td>The Dear Hunter</td>\n",
       "    </tr>\n",
       "    <tr>\n",
       "      <th>4</th>\n",
       "      <td>53.40977</td>\n",
       "      <td>-2.97848</td>\n",
       "      <td>Atomic Kitten</td>\n",
       "    </tr>\n",
       "    <tr>\n",
       "      <th>5</th>\n",
       "      <td>34.05349</td>\n",
       "      <td>-118.24532</td>\n",
       "      <td>Katy Perry</td>\n",
       "    </tr>\n",
       "  </tbody>\n",
       "</table>\n",
       "</div>"
      ],
      "text/plain": [
       "   latitude  longitude             name\n",
       "0  27.49550  -82.57807     We The Kings\n",
       "1  51.43558   -2.57518           Tricky\n",
       "2  42.18419  -71.71818  The Dear Hunter\n",
       "4  53.40977   -2.97848    Atomic Kitten\n",
       "5  34.05349 -118.24532       Katy Perry"
      ]
     },
     "execution_count": 74,
     "metadata": {},
     "output_type": "execute_result"
    }
   ],
   "source": [
    "df_artist_loc = pd.read_sql_query(\"\"\"\n",
    "SELECT latitude, longitude, name FROM artists;\n",
    "\"\"\", conn)\n",
    "df_artist_loc.dropna(subset = ['latitude', 'longitude'], inplace=True)\n",
    "df_artist_loc.head()"
   ]
  },
  {
   "cell_type": "code",
   "execution_count": 101,
   "id": "a86fcb49",
   "metadata": {},
   "outputs": [],
   "source": [
    "# Adapted from https://plotly.com/python/ipython-notebook-tutorial/\n",
    "\n",
    "artist_lat = df_artist_loc.latitude\n",
    "artist_lon = df_artist_loc.longitude\n",
    "artist_name = df_artist_loc.name\n",
    "\n",
    "data = [\n",
    "    go.Scattermapbox(\n",
    "        lat=artist_lat,\n",
    "        lon=artist_lon,\n",
    "        mode='markers',\n",
    "        marker=dict(\n",
    "            size=17,\n",
    "            color='rgb(255, 0, 0)',\n",
    "            opacity=0.7\n",
    "        ),\n",
    "        text=artist_name,\n",
    "        hoverinfo='text'\n",
    "    ),\n",
    "    go.Scattermapbox(\n",
    "        lat=artist_lat,\n",
    "        lon=artist_lon,\n",
    "        mode='markers',\n",
    "        marker=dict(\n",
    "            size=8,\n",
    "            color='rgb(242, 177, 172)',\n",
    "            opacity=0.7\n",
    "        ),\n",
    "        text=artist_name,\n",
    "        hoverinfo='text'\n",
    "    )]\n",
    "\n",
    "\n",
    "layout = go.Layout(\n",
    "    title='Artist Locations',\n",
    "    autosize=True,\n",
    "    hovermode='closest',\n",
    "    showlegend=False,\n",
    "    mapbox=dict(\n",
    "        accesstoken=#<Mapbox token>,\n",
    "        bearing=0,\n",
    "        center=dict(\n",
    "            lat=38,\n",
    "            lon=-94\n",
    "        ),\n",
    "        pitch=0,\n",
    "        zoom=3,\n",
    "        style='light'\n",
    "    ),\n",
    ")\n",
    "\n",
    "fig = dict(data=data, layout=layout)\n",
    "pio.write_html(fig, file='jupyter-artist-location.html', auto_open=True)"
   ]
  },
  {
   "cell_type": "code",
   "execution_count": 93,
   "id": "24deb259",
   "metadata": {},
   "outputs": [
    {
     "data": {
      "text/html": [
       "<div>\n",
       "<style scoped>\n",
       "    .dataframe tbody tr th:only-of-type {\n",
       "        vertical-align: middle;\n",
       "    }\n",
       "\n",
       "    .dataframe tbody tr th {\n",
       "        vertical-align: top;\n",
       "    }\n",
       "\n",
       "    .dataframe thead th {\n",
       "        text-align: right;\n",
       "    }\n",
       "</style>\n",
       "<table border=\"1\" class=\"dataframe\">\n",
       "  <thead>\n",
       "    <tr style=\"text-align: right;\">\n",
       "      <th></th>\n",
       "      <th>location</th>\n",
       "      <th>level</th>\n",
       "      <th>level_count</th>\n",
       "      <th>city</th>\n",
       "      <th>state</th>\n",
       "    </tr>\n",
       "  </thead>\n",
       "  <tbody>\n",
       "    <tr>\n",
       "      <th>11</th>\n",
       "      <td>Birmingham-Hoover, AL</td>\n",
       "      <td>paid</td>\n",
       "      <td>31</td>\n",
       "      <td>Birmingham-Hoover</td>\n",
       "      <td>AL</td>\n",
       "    </tr>\n",
       "    <tr>\n",
       "      <th>3</th>\n",
       "      <td>Lake Havasu City-Kingman, AZ</td>\n",
       "      <td>paid</td>\n",
       "      <td>77</td>\n",
       "      <td>Lake Havasu City-Kingman</td>\n",
       "      <td>AZ</td>\n",
       "    </tr>\n",
       "    <tr>\n",
       "      <th>33</th>\n",
       "      <td>Phoenix-Mesa-Scottsdale, AZ</td>\n",
       "      <td>free</td>\n",
       "      <td>3</td>\n",
       "      <td>Phoenix-Mesa-Scottsdale</td>\n",
       "      <td>AZ</td>\n",
       "    </tr>\n",
       "    <tr>\n",
       "      <th>1</th>\n",
       "      <td>San Francisco-Oakland-Hayward, CA</td>\n",
       "      <td>paid</td>\n",
       "      <td>118</td>\n",
       "      <td>San Francisco-Oakland-Hayward</td>\n",
       "      <td>CA</td>\n",
       "    </tr>\n",
       "    <tr>\n",
       "      <th>30</th>\n",
       "      <td>Salinas, CA</td>\n",
       "      <td>free</td>\n",
       "      <td>4</td>\n",
       "      <td>Salinas</td>\n",
       "      <td>CA</td>\n",
       "    </tr>\n",
       "  </tbody>\n",
       "</table>\n",
       "</div>"
      ],
      "text/plain": [
       "                             location level  level_count  \\\n",
       "11              Birmingham-Hoover, AL  paid           31   \n",
       "3        Lake Havasu City-Kingman, AZ  paid           77   \n",
       "33        Phoenix-Mesa-Scottsdale, AZ  free            3   \n",
       "1   San Francisco-Oakland-Hayward, CA  paid          118   \n",
       "30                        Salinas, CA  free            4   \n",
       "\n",
       "                             city state  \n",
       "11              Birmingham-Hoover    AL  \n",
       "3        Lake Havasu City-Kingman    AZ  \n",
       "33        Phoenix-Mesa-Scottsdale    AZ  \n",
       "1   San Francisco-Oakland-Hayward    CA  \n",
       "30                        Salinas    CA  "
      ]
     },
     "execution_count": 93,
     "metadata": {},
     "output_type": "execute_result"
    }
   ],
   "source": [
    "# User level by location\n",
    "\n",
    "df = pd.read_sql_query(\"\"\"\n",
    "SELECT sp.location, u.level, COUNT(u.level) as level_count FROM songplays sp JOIN users u ON u.user_id=sp.user_id GROUP BY sp.location, u.level ORDER BY level_count DESC;\n",
    "\"\"\", conn)\n",
    "locations = df['location']\n",
    "df[['city','state']] = df.location.str.split(',', expand=True)\n",
    "df = df.sort_values(by=['state'])\n",
    "df.head()"
   ]
  },
  {
   "cell_type": "code",
   "execution_count": 97,
   "id": "1b978c48",
   "metadata": {},
   "outputs": [
    {
     "data": {
      "application/vnd.plotly.v1+json": {
       "config": {
        "plotlyServerURL": "https://plot.ly"
       },
       "data": [
        {
         "colorscale": [
          [
           0,
           "rgb(12,51,131)"
          ],
          [
           0.25,
           "rgb(10,136,186)"
          ],
          [
           0.5,
           "rgb(242,211,56)"
          ],
          [
           0.75,
           "rgb(242,143,56)"
          ],
          [
           1,
           "rgb(217,30,30)"
          ]
         ],
         "type": "heatmap",
         "x": [
          " AL",
          " AZ",
          " AZ",
          " CA",
          " CA",
          " CA",
          " CA",
          " CA",
          " CA",
          " CA",
          " CA",
          " CA",
          " CA",
          " CT",
          " DC-VA-MD-WV",
          " FL",
          " FL",
          " FL",
          " GA",
          " GA",
          " GA-SC",
          " IA",
          " IA",
          " IL-IN-WI",
          " IN",
          " IN",
          " IN",
          " KY",
          " LA",
          " ME",
          " MI",
          " MI",
          " MN-WI",
          " MO-IL",
          " NC",
          " NC",
          " NM",
          " NY-NJ-PA",
          " NY-NJ-PA",
          " OR",
          " OR",
          " OR-WA",
          " PA",
          " PA-NJ-DE-MD",
          " SC",
          " TN",
          " TX",
          " TX",
          " TX",
          " TX",
          " TX",
          " TX",
          " TX",
          " UT",
          " WA",
          " WI",
          " WI",
          " WI-MI",
          " WI-MN"
         ],
         "y": [
          "paid",
          "paid",
          "free",
          "paid",
          "free",
          "free",
          "free",
          "paid",
          "free",
          "free",
          "free",
          "paid",
          "paid",
          "free",
          "free",
          "free",
          "paid",
          "free",
          "free",
          "paid",
          "paid",
          "free",
          "paid",
          "paid",
          "free",
          "free",
          "free",
          "free",
          "free",
          "paid",
          "paid",
          "paid",
          "free",
          "free",
          "paid",
          "free",
          "free",
          "paid",
          "free",
          "free",
          "free",
          "free",
          "free",
          "free",
          "free",
          "free",
          "free",
          "free",
          "paid",
          "free",
          "free",
          "free",
          "paid",
          "free",
          "free",
          "paid",
          "free",
          "paid",
          "free"
         ],
         "z": [
          31,
          77,
          3,
          118,
          4,
          3,
          14,
          51,
          2,
          2,
          2,
          28,
          24,
          14,
          27,
          1,
          53,
          5,
          2,
          68,
          23,
          2,
          59,
          59,
          2,
          4,
          1,
          1,
          6,
          147,
          84,
          14,
          1,
          2,
          45,
          2,
          2,
          13,
          15,
          2,
          3,
          1,
          12,
          3,
          2,
          2,
          2,
          5,
          4,
          2,
          3,
          7,
          5,
          1,
          2,
          43,
          1,
          29,
          4
         ]
        }
       ],
       "layout": {
        "template": {
         "data": {
          "bar": [
           {
            "error_x": {
             "color": "#2a3f5f"
            },
            "error_y": {
             "color": "#2a3f5f"
            },
            "marker": {
             "line": {
              "color": "#E5ECF6",
              "width": 0.5
             },
             "pattern": {
              "fillmode": "overlay",
              "size": 10,
              "solidity": 0.2
             }
            },
            "type": "bar"
           }
          ],
          "barpolar": [
           {
            "marker": {
             "line": {
              "color": "#E5ECF6",
              "width": 0.5
             },
             "pattern": {
              "fillmode": "overlay",
              "size": 10,
              "solidity": 0.2
             }
            },
            "type": "barpolar"
           }
          ],
          "carpet": [
           {
            "aaxis": {
             "endlinecolor": "#2a3f5f",
             "gridcolor": "white",
             "linecolor": "white",
             "minorgridcolor": "white",
             "startlinecolor": "#2a3f5f"
            },
            "baxis": {
             "endlinecolor": "#2a3f5f",
             "gridcolor": "white",
             "linecolor": "white",
             "minorgridcolor": "white",
             "startlinecolor": "#2a3f5f"
            },
            "type": "carpet"
           }
          ],
          "choropleth": [
           {
            "colorbar": {
             "outlinewidth": 0,
             "ticks": ""
            },
            "type": "choropleth"
           }
          ],
          "contour": [
           {
            "colorbar": {
             "outlinewidth": 0,
             "ticks": ""
            },
            "colorscale": [
             [
              0,
              "#0d0887"
             ],
             [
              0.1111111111111111,
              "#46039f"
             ],
             [
              0.2222222222222222,
              "#7201a8"
             ],
             [
              0.3333333333333333,
              "#9c179e"
             ],
             [
              0.4444444444444444,
              "#bd3786"
             ],
             [
              0.5555555555555556,
              "#d8576b"
             ],
             [
              0.6666666666666666,
              "#ed7953"
             ],
             [
              0.7777777777777778,
              "#fb9f3a"
             ],
             [
              0.8888888888888888,
              "#fdca26"
             ],
             [
              1,
              "#f0f921"
             ]
            ],
            "type": "contour"
           }
          ],
          "contourcarpet": [
           {
            "colorbar": {
             "outlinewidth": 0,
             "ticks": ""
            },
            "type": "contourcarpet"
           }
          ],
          "heatmap": [
           {
            "colorbar": {
             "outlinewidth": 0,
             "ticks": ""
            },
            "colorscale": [
             [
              0,
              "#0d0887"
             ],
             [
              0.1111111111111111,
              "#46039f"
             ],
             [
              0.2222222222222222,
              "#7201a8"
             ],
             [
              0.3333333333333333,
              "#9c179e"
             ],
             [
              0.4444444444444444,
              "#bd3786"
             ],
             [
              0.5555555555555556,
              "#d8576b"
             ],
             [
              0.6666666666666666,
              "#ed7953"
             ],
             [
              0.7777777777777778,
              "#fb9f3a"
             ],
             [
              0.8888888888888888,
              "#fdca26"
             ],
             [
              1,
              "#f0f921"
             ]
            ],
            "type": "heatmap"
           }
          ],
          "heatmapgl": [
           {
            "colorbar": {
             "outlinewidth": 0,
             "ticks": ""
            },
            "colorscale": [
             [
              0,
              "#0d0887"
             ],
             [
              0.1111111111111111,
              "#46039f"
             ],
             [
              0.2222222222222222,
              "#7201a8"
             ],
             [
              0.3333333333333333,
              "#9c179e"
             ],
             [
              0.4444444444444444,
              "#bd3786"
             ],
             [
              0.5555555555555556,
              "#d8576b"
             ],
             [
              0.6666666666666666,
              "#ed7953"
             ],
             [
              0.7777777777777778,
              "#fb9f3a"
             ],
             [
              0.8888888888888888,
              "#fdca26"
             ],
             [
              1,
              "#f0f921"
             ]
            ],
            "type": "heatmapgl"
           }
          ],
          "histogram": [
           {
            "marker": {
             "pattern": {
              "fillmode": "overlay",
              "size": 10,
              "solidity": 0.2
             }
            },
            "type": "histogram"
           }
          ],
          "histogram2d": [
           {
            "colorbar": {
             "outlinewidth": 0,
             "ticks": ""
            },
            "colorscale": [
             [
              0,
              "#0d0887"
             ],
             [
              0.1111111111111111,
              "#46039f"
             ],
             [
              0.2222222222222222,
              "#7201a8"
             ],
             [
              0.3333333333333333,
              "#9c179e"
             ],
             [
              0.4444444444444444,
              "#bd3786"
             ],
             [
              0.5555555555555556,
              "#d8576b"
             ],
             [
              0.6666666666666666,
              "#ed7953"
             ],
             [
              0.7777777777777778,
              "#fb9f3a"
             ],
             [
              0.8888888888888888,
              "#fdca26"
             ],
             [
              1,
              "#f0f921"
             ]
            ],
            "type": "histogram2d"
           }
          ],
          "histogram2dcontour": [
           {
            "colorbar": {
             "outlinewidth": 0,
             "ticks": ""
            },
            "colorscale": [
             [
              0,
              "#0d0887"
             ],
             [
              0.1111111111111111,
              "#46039f"
             ],
             [
              0.2222222222222222,
              "#7201a8"
             ],
             [
              0.3333333333333333,
              "#9c179e"
             ],
             [
              0.4444444444444444,
              "#bd3786"
             ],
             [
              0.5555555555555556,
              "#d8576b"
             ],
             [
              0.6666666666666666,
              "#ed7953"
             ],
             [
              0.7777777777777778,
              "#fb9f3a"
             ],
             [
              0.8888888888888888,
              "#fdca26"
             ],
             [
              1,
              "#f0f921"
             ]
            ],
            "type": "histogram2dcontour"
           }
          ],
          "mesh3d": [
           {
            "colorbar": {
             "outlinewidth": 0,
             "ticks": ""
            },
            "type": "mesh3d"
           }
          ],
          "parcoords": [
           {
            "line": {
             "colorbar": {
              "outlinewidth": 0,
              "ticks": ""
             }
            },
            "type": "parcoords"
           }
          ],
          "pie": [
           {
            "automargin": true,
            "type": "pie"
           }
          ],
          "scatter": [
           {
            "marker": {
             "colorbar": {
              "outlinewidth": 0,
              "ticks": ""
             }
            },
            "type": "scatter"
           }
          ],
          "scatter3d": [
           {
            "line": {
             "colorbar": {
              "outlinewidth": 0,
              "ticks": ""
             }
            },
            "marker": {
             "colorbar": {
              "outlinewidth": 0,
              "ticks": ""
             }
            },
            "type": "scatter3d"
           }
          ],
          "scattercarpet": [
           {
            "marker": {
             "colorbar": {
              "outlinewidth": 0,
              "ticks": ""
             }
            },
            "type": "scattercarpet"
           }
          ],
          "scattergeo": [
           {
            "marker": {
             "colorbar": {
              "outlinewidth": 0,
              "ticks": ""
             }
            },
            "type": "scattergeo"
           }
          ],
          "scattergl": [
           {
            "marker": {
             "colorbar": {
              "outlinewidth": 0,
              "ticks": ""
             }
            },
            "type": "scattergl"
           }
          ],
          "scattermapbox": [
           {
            "marker": {
             "colorbar": {
              "outlinewidth": 0,
              "ticks": ""
             }
            },
            "type": "scattermapbox"
           }
          ],
          "scatterpolar": [
           {
            "marker": {
             "colorbar": {
              "outlinewidth": 0,
              "ticks": ""
             }
            },
            "type": "scatterpolar"
           }
          ],
          "scatterpolargl": [
           {
            "marker": {
             "colorbar": {
              "outlinewidth": 0,
              "ticks": ""
             }
            },
            "type": "scatterpolargl"
           }
          ],
          "scatterternary": [
           {
            "marker": {
             "colorbar": {
              "outlinewidth": 0,
              "ticks": ""
             }
            },
            "type": "scatterternary"
           }
          ],
          "surface": [
           {
            "colorbar": {
             "outlinewidth": 0,
             "ticks": ""
            },
            "colorscale": [
             [
              0,
              "#0d0887"
             ],
             [
              0.1111111111111111,
              "#46039f"
             ],
             [
              0.2222222222222222,
              "#7201a8"
             ],
             [
              0.3333333333333333,
              "#9c179e"
             ],
             [
              0.4444444444444444,
              "#bd3786"
             ],
             [
              0.5555555555555556,
              "#d8576b"
             ],
             [
              0.6666666666666666,
              "#ed7953"
             ],
             [
              0.7777777777777778,
              "#fb9f3a"
             ],
             [
              0.8888888888888888,
              "#fdca26"
             ],
             [
              1,
              "#f0f921"
             ]
            ],
            "type": "surface"
           }
          ],
          "table": [
           {
            "cells": {
             "fill": {
              "color": "#EBF0F8"
             },
             "line": {
              "color": "white"
             }
            },
            "header": {
             "fill": {
              "color": "#C8D4E3"
             },
             "line": {
              "color": "white"
             }
            },
            "type": "table"
           }
          ]
         },
         "layout": {
          "annotationdefaults": {
           "arrowcolor": "#2a3f5f",
           "arrowhead": 0,
           "arrowwidth": 1
          },
          "autotypenumbers": "strict",
          "coloraxis": {
           "colorbar": {
            "outlinewidth": 0,
            "ticks": ""
           }
          },
          "colorscale": {
           "diverging": [
            [
             0,
             "#8e0152"
            ],
            [
             0.1,
             "#c51b7d"
            ],
            [
             0.2,
             "#de77ae"
            ],
            [
             0.3,
             "#f1b6da"
            ],
            [
             0.4,
             "#fde0ef"
            ],
            [
             0.5,
             "#f7f7f7"
            ],
            [
             0.6,
             "#e6f5d0"
            ],
            [
             0.7,
             "#b8e186"
            ],
            [
             0.8,
             "#7fbc41"
            ],
            [
             0.9,
             "#4d9221"
            ],
            [
             1,
             "#276419"
            ]
           ],
           "sequential": [
            [
             0,
             "#0d0887"
            ],
            [
             0.1111111111111111,
             "#46039f"
            ],
            [
             0.2222222222222222,
             "#7201a8"
            ],
            [
             0.3333333333333333,
             "#9c179e"
            ],
            [
             0.4444444444444444,
             "#bd3786"
            ],
            [
             0.5555555555555556,
             "#d8576b"
            ],
            [
             0.6666666666666666,
             "#ed7953"
            ],
            [
             0.7777777777777778,
             "#fb9f3a"
            ],
            [
             0.8888888888888888,
             "#fdca26"
            ],
            [
             1,
             "#f0f921"
            ]
           ],
           "sequentialminus": [
            [
             0,
             "#0d0887"
            ],
            [
             0.1111111111111111,
             "#46039f"
            ],
            [
             0.2222222222222222,
             "#7201a8"
            ],
            [
             0.3333333333333333,
             "#9c179e"
            ],
            [
             0.4444444444444444,
             "#bd3786"
            ],
            [
             0.5555555555555556,
             "#d8576b"
            ],
            [
             0.6666666666666666,
             "#ed7953"
            ],
            [
             0.7777777777777778,
             "#fb9f3a"
            ],
            [
             0.8888888888888888,
             "#fdca26"
            ],
            [
             1,
             "#f0f921"
            ]
           ]
          },
          "colorway": [
           "#636efa",
           "#EF553B",
           "#00cc96",
           "#ab63fa",
           "#FFA15A",
           "#19d3f3",
           "#FF6692",
           "#B6E880",
           "#FF97FF",
           "#FECB52"
          ],
          "font": {
           "color": "#2a3f5f"
          },
          "geo": {
           "bgcolor": "white",
           "lakecolor": "white",
           "landcolor": "#E5ECF6",
           "showlakes": true,
           "showland": true,
           "subunitcolor": "white"
          },
          "hoverlabel": {
           "align": "left"
          },
          "hovermode": "closest",
          "mapbox": {
           "style": "light"
          },
          "paper_bgcolor": "white",
          "plot_bgcolor": "#E5ECF6",
          "polar": {
           "angularaxis": {
            "gridcolor": "white",
            "linecolor": "white",
            "ticks": ""
           },
           "bgcolor": "#E5ECF6",
           "radialaxis": {
            "gridcolor": "white",
            "linecolor": "white",
            "ticks": ""
           }
          },
          "scene": {
           "xaxis": {
            "backgroundcolor": "#E5ECF6",
            "gridcolor": "white",
            "gridwidth": 2,
            "linecolor": "white",
            "showbackground": true,
            "ticks": "",
            "zerolinecolor": "white"
           },
           "yaxis": {
            "backgroundcolor": "#E5ECF6",
            "gridcolor": "white",
            "gridwidth": 2,
            "linecolor": "white",
            "showbackground": true,
            "ticks": "",
            "zerolinecolor": "white"
           },
           "zaxis": {
            "backgroundcolor": "#E5ECF6",
            "gridcolor": "white",
            "gridwidth": 2,
            "linecolor": "white",
            "showbackground": true,
            "ticks": "",
            "zerolinecolor": "white"
           }
          },
          "shapedefaults": {
           "line": {
            "color": "#2a3f5f"
           }
          },
          "ternary": {
           "aaxis": {
            "gridcolor": "white",
            "linecolor": "white",
            "ticks": ""
           },
           "baxis": {
            "gridcolor": "white",
            "linecolor": "white",
            "ticks": ""
           },
           "bgcolor": "#E5ECF6",
           "caxis": {
            "gridcolor": "white",
            "linecolor": "white",
            "ticks": ""
           }
          },
          "title": {
           "x": 0.05
          },
          "xaxis": {
           "automargin": true,
           "gridcolor": "white",
           "linecolor": "white",
           "ticks": "",
           "title": {
            "standoff": 15
           },
           "zerolinecolor": "white",
           "zerolinewidth": 2
          },
          "yaxis": {
           "automargin": true,
           "gridcolor": "white",
           "linecolor": "white",
           "ticks": "",
           "title": {
            "standoff": 15
           },
           "zerolinecolor": "white",
           "zerolinewidth": 2
          }
         }
        },
        "title": {
         "text": "Songplays by level per state"
        },
        "xaxis": {
         "nticks": 35
        }
       }
      },
      "text/html": [
       "<div>                            <div id=\"b0530392-c594-44f9-a95a-38770da5cae0\" class=\"plotly-graph-div\" style=\"height:525px; width:100%;\"></div>            <script type=\"text/javascript\">                require([\"plotly\"], function(Plotly) {                    window.PLOTLYENV=window.PLOTLYENV || {};                                    if (document.getElementById(\"b0530392-c594-44f9-a95a-38770da5cae0\")) {                    Plotly.newPlot(                        \"b0530392-c594-44f9-a95a-38770da5cae0\",                        [{\"colorscale\":[[0.0,\"rgb(12,51,131)\"],[0.25,\"rgb(10,136,186)\"],[0.5,\"rgb(242,211,56)\"],[0.75,\"rgb(242,143,56)\"],[1.0,\"rgb(217,30,30)\"]],\"type\":\"heatmap\",\"x\":[\" AL\",\" AZ\",\" AZ\",\" CA\",\" CA\",\" CA\",\" CA\",\" CA\",\" CA\",\" CA\",\" CA\",\" CA\",\" CA\",\" CT\",\" DC-VA-MD-WV\",\" FL\",\" FL\",\" FL\",\" GA\",\" GA\",\" GA-SC\",\" IA\",\" IA\",\" IL-IN-WI\",\" IN\",\" IN\",\" IN\",\" KY\",\" LA\",\" ME\",\" MI\",\" MI\",\" MN-WI\",\" MO-IL\",\" NC\",\" NC\",\" NM\",\" NY-NJ-PA\",\" NY-NJ-PA\",\" OR\",\" OR\",\" OR-WA\",\" PA\",\" PA-NJ-DE-MD\",\" SC\",\" TN\",\" TX\",\" TX\",\" TX\",\" TX\",\" TX\",\" TX\",\" TX\",\" UT\",\" WA\",\" WI\",\" WI\",\" WI-MI\",\" WI-MN\"],\"y\":[\"paid\",\"paid\",\"free\",\"paid\",\"free\",\"free\",\"free\",\"paid\",\"free\",\"free\",\"free\",\"paid\",\"paid\",\"free\",\"free\",\"free\",\"paid\",\"free\",\"free\",\"paid\",\"paid\",\"free\",\"paid\",\"paid\",\"free\",\"free\",\"free\",\"free\",\"free\",\"paid\",\"paid\",\"paid\",\"free\",\"free\",\"paid\",\"free\",\"free\",\"paid\",\"free\",\"free\",\"free\",\"free\",\"free\",\"free\",\"free\",\"free\",\"free\",\"free\",\"paid\",\"free\",\"free\",\"free\",\"paid\",\"free\",\"free\",\"paid\",\"free\",\"paid\",\"free\"],\"z\":[31,77,3,118,4,3,14,51,2,2,2,28,24,14,27,1,53,5,2,68,23,2,59,59,2,4,1,1,6,147,84,14,1,2,45,2,2,13,15,2,3,1,12,3,2,2,2,5,4,2,3,7,5,1,2,43,1,29,4]}],                        {\"template\":{\"data\":{\"bar\":[{\"error_x\":{\"color\":\"#2a3f5f\"},\"error_y\":{\"color\":\"#2a3f5f\"},\"marker\":{\"line\":{\"color\":\"#E5ECF6\",\"width\":0.5},\"pattern\":{\"fillmode\":\"overlay\",\"size\":10,\"solidity\":0.2}},\"type\":\"bar\"}],\"barpolar\":[{\"marker\":{\"line\":{\"color\":\"#E5ECF6\",\"width\":0.5},\"pattern\":{\"fillmode\":\"overlay\",\"size\":10,\"solidity\":0.2}},\"type\":\"barpolar\"}],\"carpet\":[{\"aaxis\":{\"endlinecolor\":\"#2a3f5f\",\"gridcolor\":\"white\",\"linecolor\":\"white\",\"minorgridcolor\":\"white\",\"startlinecolor\":\"#2a3f5f\"},\"baxis\":{\"endlinecolor\":\"#2a3f5f\",\"gridcolor\":\"white\",\"linecolor\":\"white\",\"minorgridcolor\":\"white\",\"startlinecolor\":\"#2a3f5f\"},\"type\":\"carpet\"}],\"choropleth\":[{\"colorbar\":{\"outlinewidth\":0,\"ticks\":\"\"},\"type\":\"choropleth\"}],\"contour\":[{\"colorbar\":{\"outlinewidth\":0,\"ticks\":\"\"},\"colorscale\":[[0.0,\"#0d0887\"],[0.1111111111111111,\"#46039f\"],[0.2222222222222222,\"#7201a8\"],[0.3333333333333333,\"#9c179e\"],[0.4444444444444444,\"#bd3786\"],[0.5555555555555556,\"#d8576b\"],[0.6666666666666666,\"#ed7953\"],[0.7777777777777778,\"#fb9f3a\"],[0.8888888888888888,\"#fdca26\"],[1.0,\"#f0f921\"]],\"type\":\"contour\"}],\"contourcarpet\":[{\"colorbar\":{\"outlinewidth\":0,\"ticks\":\"\"},\"type\":\"contourcarpet\"}],\"heatmap\":[{\"colorbar\":{\"outlinewidth\":0,\"ticks\":\"\"},\"colorscale\":[[0.0,\"#0d0887\"],[0.1111111111111111,\"#46039f\"],[0.2222222222222222,\"#7201a8\"],[0.3333333333333333,\"#9c179e\"],[0.4444444444444444,\"#bd3786\"],[0.5555555555555556,\"#d8576b\"],[0.6666666666666666,\"#ed7953\"],[0.7777777777777778,\"#fb9f3a\"],[0.8888888888888888,\"#fdca26\"],[1.0,\"#f0f921\"]],\"type\":\"heatmap\"}],\"heatmapgl\":[{\"colorbar\":{\"outlinewidth\":0,\"ticks\":\"\"},\"colorscale\":[[0.0,\"#0d0887\"],[0.1111111111111111,\"#46039f\"],[0.2222222222222222,\"#7201a8\"],[0.3333333333333333,\"#9c179e\"],[0.4444444444444444,\"#bd3786\"],[0.5555555555555556,\"#d8576b\"],[0.6666666666666666,\"#ed7953\"],[0.7777777777777778,\"#fb9f3a\"],[0.8888888888888888,\"#fdca26\"],[1.0,\"#f0f921\"]],\"type\":\"heatmapgl\"}],\"histogram\":[{\"marker\":{\"pattern\":{\"fillmode\":\"overlay\",\"size\":10,\"solidity\":0.2}},\"type\":\"histogram\"}],\"histogram2d\":[{\"colorbar\":{\"outlinewidth\":0,\"ticks\":\"\"},\"colorscale\":[[0.0,\"#0d0887\"],[0.1111111111111111,\"#46039f\"],[0.2222222222222222,\"#7201a8\"],[0.3333333333333333,\"#9c179e\"],[0.4444444444444444,\"#bd3786\"],[0.5555555555555556,\"#d8576b\"],[0.6666666666666666,\"#ed7953\"],[0.7777777777777778,\"#fb9f3a\"],[0.8888888888888888,\"#fdca26\"],[1.0,\"#f0f921\"]],\"type\":\"histogram2d\"}],\"histogram2dcontour\":[{\"colorbar\":{\"outlinewidth\":0,\"ticks\":\"\"},\"colorscale\":[[0.0,\"#0d0887\"],[0.1111111111111111,\"#46039f\"],[0.2222222222222222,\"#7201a8\"],[0.3333333333333333,\"#9c179e\"],[0.4444444444444444,\"#bd3786\"],[0.5555555555555556,\"#d8576b\"],[0.6666666666666666,\"#ed7953\"],[0.7777777777777778,\"#fb9f3a\"],[0.8888888888888888,\"#fdca26\"],[1.0,\"#f0f921\"]],\"type\":\"histogram2dcontour\"}],\"mesh3d\":[{\"colorbar\":{\"outlinewidth\":0,\"ticks\":\"\"},\"type\":\"mesh3d\"}],\"parcoords\":[{\"line\":{\"colorbar\":{\"outlinewidth\":0,\"ticks\":\"\"}},\"type\":\"parcoords\"}],\"pie\":[{\"automargin\":true,\"type\":\"pie\"}],\"scatter\":[{\"marker\":{\"colorbar\":{\"outlinewidth\":0,\"ticks\":\"\"}},\"type\":\"scatter\"}],\"scatter3d\":[{\"line\":{\"colorbar\":{\"outlinewidth\":0,\"ticks\":\"\"}},\"marker\":{\"colorbar\":{\"outlinewidth\":0,\"ticks\":\"\"}},\"type\":\"scatter3d\"}],\"scattercarpet\":[{\"marker\":{\"colorbar\":{\"outlinewidth\":0,\"ticks\":\"\"}},\"type\":\"scattercarpet\"}],\"scattergeo\":[{\"marker\":{\"colorbar\":{\"outlinewidth\":0,\"ticks\":\"\"}},\"type\":\"scattergeo\"}],\"scattergl\":[{\"marker\":{\"colorbar\":{\"outlinewidth\":0,\"ticks\":\"\"}},\"type\":\"scattergl\"}],\"scattermapbox\":[{\"marker\":{\"colorbar\":{\"outlinewidth\":0,\"ticks\":\"\"}},\"type\":\"scattermapbox\"}],\"scatterpolar\":[{\"marker\":{\"colorbar\":{\"outlinewidth\":0,\"ticks\":\"\"}},\"type\":\"scatterpolar\"}],\"scatterpolargl\":[{\"marker\":{\"colorbar\":{\"outlinewidth\":0,\"ticks\":\"\"}},\"type\":\"scatterpolargl\"}],\"scatterternary\":[{\"marker\":{\"colorbar\":{\"outlinewidth\":0,\"ticks\":\"\"}},\"type\":\"scatterternary\"}],\"surface\":[{\"colorbar\":{\"outlinewidth\":0,\"ticks\":\"\"},\"colorscale\":[[0.0,\"#0d0887\"],[0.1111111111111111,\"#46039f\"],[0.2222222222222222,\"#7201a8\"],[0.3333333333333333,\"#9c179e\"],[0.4444444444444444,\"#bd3786\"],[0.5555555555555556,\"#d8576b\"],[0.6666666666666666,\"#ed7953\"],[0.7777777777777778,\"#fb9f3a\"],[0.8888888888888888,\"#fdca26\"],[1.0,\"#f0f921\"]],\"type\":\"surface\"}],\"table\":[{\"cells\":{\"fill\":{\"color\":\"#EBF0F8\"},\"line\":{\"color\":\"white\"}},\"header\":{\"fill\":{\"color\":\"#C8D4E3\"},\"line\":{\"color\":\"white\"}},\"type\":\"table\"}]},\"layout\":{\"annotationdefaults\":{\"arrowcolor\":\"#2a3f5f\",\"arrowhead\":0,\"arrowwidth\":1},\"autotypenumbers\":\"strict\",\"coloraxis\":{\"colorbar\":{\"outlinewidth\":0,\"ticks\":\"\"}},\"colorscale\":{\"diverging\":[[0,\"#8e0152\"],[0.1,\"#c51b7d\"],[0.2,\"#de77ae\"],[0.3,\"#f1b6da\"],[0.4,\"#fde0ef\"],[0.5,\"#f7f7f7\"],[0.6,\"#e6f5d0\"],[0.7,\"#b8e186\"],[0.8,\"#7fbc41\"],[0.9,\"#4d9221\"],[1,\"#276419\"]],\"sequential\":[[0.0,\"#0d0887\"],[0.1111111111111111,\"#46039f\"],[0.2222222222222222,\"#7201a8\"],[0.3333333333333333,\"#9c179e\"],[0.4444444444444444,\"#bd3786\"],[0.5555555555555556,\"#d8576b\"],[0.6666666666666666,\"#ed7953\"],[0.7777777777777778,\"#fb9f3a\"],[0.8888888888888888,\"#fdca26\"],[1.0,\"#f0f921\"]],\"sequentialminus\":[[0.0,\"#0d0887\"],[0.1111111111111111,\"#46039f\"],[0.2222222222222222,\"#7201a8\"],[0.3333333333333333,\"#9c179e\"],[0.4444444444444444,\"#bd3786\"],[0.5555555555555556,\"#d8576b\"],[0.6666666666666666,\"#ed7953\"],[0.7777777777777778,\"#fb9f3a\"],[0.8888888888888888,\"#fdca26\"],[1.0,\"#f0f921\"]]},\"colorway\":[\"#636efa\",\"#EF553B\",\"#00cc96\",\"#ab63fa\",\"#FFA15A\",\"#19d3f3\",\"#FF6692\",\"#B6E880\",\"#FF97FF\",\"#FECB52\"],\"font\":{\"color\":\"#2a3f5f\"},\"geo\":{\"bgcolor\":\"white\",\"lakecolor\":\"white\",\"landcolor\":\"#E5ECF6\",\"showlakes\":true,\"showland\":true,\"subunitcolor\":\"white\"},\"hoverlabel\":{\"align\":\"left\"},\"hovermode\":\"closest\",\"mapbox\":{\"style\":\"light\"},\"paper_bgcolor\":\"white\",\"plot_bgcolor\":\"#E5ECF6\",\"polar\":{\"angularaxis\":{\"gridcolor\":\"white\",\"linecolor\":\"white\",\"ticks\":\"\"},\"bgcolor\":\"#E5ECF6\",\"radialaxis\":{\"gridcolor\":\"white\",\"linecolor\":\"white\",\"ticks\":\"\"}},\"scene\":{\"xaxis\":{\"backgroundcolor\":\"#E5ECF6\",\"gridcolor\":\"white\",\"gridwidth\":2,\"linecolor\":\"white\",\"showbackground\":true,\"ticks\":\"\",\"zerolinecolor\":\"white\"},\"yaxis\":{\"backgroundcolor\":\"#E5ECF6\",\"gridcolor\":\"white\",\"gridwidth\":2,\"linecolor\":\"white\",\"showbackground\":true,\"ticks\":\"\",\"zerolinecolor\":\"white\"},\"zaxis\":{\"backgroundcolor\":\"#E5ECF6\",\"gridcolor\":\"white\",\"gridwidth\":2,\"linecolor\":\"white\",\"showbackground\":true,\"ticks\":\"\",\"zerolinecolor\":\"white\"}},\"shapedefaults\":{\"line\":{\"color\":\"#2a3f5f\"}},\"ternary\":{\"aaxis\":{\"gridcolor\":\"white\",\"linecolor\":\"white\",\"ticks\":\"\"},\"baxis\":{\"gridcolor\":\"white\",\"linecolor\":\"white\",\"ticks\":\"\"},\"bgcolor\":\"#E5ECF6\",\"caxis\":{\"gridcolor\":\"white\",\"linecolor\":\"white\",\"ticks\":\"\"}},\"title\":{\"x\":0.05},\"xaxis\":{\"automargin\":true,\"gridcolor\":\"white\",\"linecolor\":\"white\",\"ticks\":\"\",\"title\":{\"standoff\":15},\"zerolinecolor\":\"white\",\"zerolinewidth\":2},\"yaxis\":{\"automargin\":true,\"gridcolor\":\"white\",\"linecolor\":\"white\",\"ticks\":\"\",\"title\":{\"standoff\":15},\"zerolinecolor\":\"white\",\"zerolinewidth\":2}}},\"title\":{\"text\":\"Songplays by level per state\"},\"xaxis\":{\"nticks\":35}},                        {\"responsive\": true}                    ).then(function(){\n",
       "                            \n",
       "var gd = document.getElementById('b0530392-c594-44f9-a95a-38770da5cae0');\n",
       "var x = new MutationObserver(function (mutations, observer) {{\n",
       "        var display = window.getComputedStyle(gd).display;\n",
       "        if (!display || display === 'none') {{\n",
       "            console.log([gd, 'removed!']);\n",
       "            Plotly.purge(gd);\n",
       "            observer.disconnect();\n",
       "        }}\n",
       "}});\n",
       "\n",
       "// Listen for the removal of the full notebook cells\n",
       "var notebookContainer = gd.closest('#notebook-container');\n",
       "if (notebookContainer) {{\n",
       "    x.observe(notebookContainer, {childList: true});\n",
       "}}\n",
       "\n",
       "// Listen for the clearing of the current output cell\n",
       "var outputEl = gd.closest('.output');\n",
       "if (outputEl) {{\n",
       "    x.observe(outputEl, {childList: true});\n",
       "}}\n",
       "\n",
       "                        })                };                });            </script>        </div>"
      ]
     },
     "metadata": {},
     "output_type": "display_data"
    }
   ],
   "source": [
    "fig = go.Figure(data=go.Heatmap(\n",
    "        z=df['level_count'],\n",
    "        x=df['state'],\n",
    "        y=df['level'],\n",
    "        colorscale='Portland'))\n",
    "\n",
    "fig.update_layout(\n",
    "    title='Songplays by level per state',\n",
    "    xaxis_nticks=35)\n",
    "\n",
    "fig.show()"
   ]
  },
  {
   "cell_type": "code",
   "execution_count": null,
   "id": "e6ff53a4",
   "metadata": {},
   "outputs": [],
   "source": []
  }
 ],
 "metadata": {
  "kernelspec": {
   "display_name": "Python 3",
   "language": "python",
   "name": "python3"
  },
  "language_info": {
   "codemirror_mode": {
    "name": "ipython",
    "version": 3
   },
   "file_extension": ".py",
   "mimetype": "text/x-python",
   "name": "python",
   "nbconvert_exporter": "python",
   "pygments_lexer": "ipython3",
   "version": "3.8.8"
  }
 },
 "nbformat": 4,
 "nbformat_minor": 5
}
